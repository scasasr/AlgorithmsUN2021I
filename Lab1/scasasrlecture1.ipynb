{
  "nbformat": 4,
  "nbformat_minor": 0,
  "metadata": {
    "kernelspec": {
      "name": "python3",
      "display_name": "Python 3"
    },
    "colab": {
      "name": "scasasrlecture1.ipynb",
      "provenance": [],
      "include_colab_link": true
    }
  },
  "cells": [
    {
      "cell_type": "markdown",
      "metadata": {
        "id": "view-in-github",
        "colab_type": "text"
      },
      "source": [
        "<a href=\"https://colab.research.google.com/github/scasasr/AlgorithmsUN2021I/blob/main/Lab1/scasasrlecture1.ipynb\" target=\"_parent\"><img src=\"https://colab.research.google.com/assets/colab-badge.svg\" alt=\"Open In Colab\"/></a>"
      ]
    },
    {
      "cell_type": "markdown",
      "metadata": {
        "id": "nvKtyU2ZFRX-"
      },
      "source": [
        "#Introduction to the Research Environment\n",
        "\n",
        "The research environment is powered by IPython notebooks, which allow one to perform a great deal of data analysis and statistical validation. We'll demonstrate a few simple techniques here."
      ]
    },
    {
      "cell_type": "markdown",
      "metadata": {
        "id": "DWTFlfUAFRYM"
      },
      "source": [
        "##Code Cells vs. Text Cells\n",
        "\n",
        "As you can see, each cell can be either code or text. To select between them, choose from the 'Cell Type' dropdown menu on the top left."
      ]
    },
    {
      "cell_type": "markdown",
      "metadata": {
        "id": "IhFjW1s3FRYN"
      },
      "source": [
        "##Executing a Command\n",
        "\n",
        "A code cell will be evaluated when you press play, or when you press the shortcut, shift-enter. Evaluating a cell evaluates each line of code in sequence, and prints the results of the last line below the cell."
      ]
    },
    {
      "cell_type": "code",
      "metadata": {
        "colab": {
          "base_uri": "https://localhost:8080/"
        },
        "id": "TrFObyI4FRYO",
        "outputId": "f590ae98-dcbe-4ca7-d133-058971a6bf6a"
      },
      "source": [
        "2 + 2"
      ],
      "execution_count": 3,
      "outputs": [
        {
          "output_type": "execute_result",
          "data": {
            "text/plain": [
              "4"
            ]
          },
          "metadata": {
            "tags": []
          },
          "execution_count": 3
        }
      ]
    },
    {
      "cell_type": "markdown",
      "metadata": {
        "id": "GhTsx4mBFRYP"
      },
      "source": [
        "Sometimes there is no result to be printed, as is the case with assignment."
      ]
    },
    {
      "cell_type": "code",
      "metadata": {
        "collapsed": true,
        "id": "e_CcaYAwFRYQ"
      },
      "source": [
        "X = 2"
      ],
      "execution_count": 4,
      "outputs": []
    },
    {
      "cell_type": "markdown",
      "metadata": {
        "id": "3aaRJA4pFRYR"
      },
      "source": [
        "Remember that only the result from the last line is printed."
      ]
    },
    {
      "cell_type": "code",
      "metadata": {
        "colab": {
          "base_uri": "https://localhost:8080/"
        },
        "id": "MdozlPaBFRYR",
        "outputId": "c44d5a1b-f769-4445-b33a-b5b59e9171f7"
      },
      "source": [
        "2 + 2\n",
        "3 + 3"
      ],
      "execution_count": 5,
      "outputs": [
        {
          "output_type": "execute_result",
          "data": {
            "text/plain": [
              "6"
            ]
          },
          "metadata": {
            "tags": []
          },
          "execution_count": 5
        }
      ]
    },
    {
      "cell_type": "markdown",
      "metadata": {
        "id": "D7Chr1jeFRYS"
      },
      "source": [
        "However, you can print whichever lines you want using the `print` statement."
      ]
    },
    {
      "cell_type": "code",
      "metadata": {
        "colab": {
          "base_uri": "https://localhost:8080/"
        },
        "id": "nXGqm1V1FRYS",
        "outputId": "38294847-c292-4e3d-c5b8-a25e2ba8c5a9"
      },
      "source": [
        "print(2 + 2)\n",
        "3 + 3"
      ],
      "execution_count": 3,
      "outputs": [
        {
          "output_type": "stream",
          "text": [
            "4\n"
          ],
          "name": "stdout"
        },
        {
          "output_type": "execute_result",
          "data": {
            "text/plain": [
              "6"
            ]
          },
          "metadata": {
            "tags": []
          },
          "execution_count": 3
        }
      ]
    },
    {
      "cell_type": "code",
      "metadata": {
        "colab": {
          "base_uri": "https://localhost:8080/"
        },
        "id": "RhFLDCfIZts4",
        "outputId": "7eed307e-8dc7-46ae-aa2a-2588195c2259"
      },
      "source": [
        "#Example\r\n",
        "print(4*4)\r\n",
        "4+4"
      ],
      "execution_count": 2,
      "outputs": [
        {
          "output_type": "stream",
          "text": [
            "16\n"
          ],
          "name": "stdout"
        },
        {
          "output_type": "execute_result",
          "data": {
            "text/plain": [
              "8"
            ]
          },
          "metadata": {
            "tags": []
          },
          "execution_count": 2
        }
      ]
    },
    {
      "cell_type": "markdown",
      "metadata": {
        "id": "Hzj3msGXFRYS"
      },
      "source": [
        "##Knowing When a Cell is Running\n",
        "\n",
        "While a cell is running, a `[*]` will display on the left. When a cell has yet to be executed, `[ ]` will display. When it has been run, a number will display indicating the order in which it was run during the execution of the notebook `[5]`. Try on this cell and note it happening."
      ]
    },
    {
      "cell_type": "code",
      "metadata": {
        "colab": {
          "base_uri": "https://localhost:8080/"
        },
        "id": "DL-fFOtzFRYT",
        "outputId": "77213f8d-af84-48f0-8da9-5a3fa2abb8c1"
      },
      "source": [
        "#Take some time to run something\n",
        "c = 0\n",
        "for i in range(10000000):\n",
        "    c = c + i\n",
        "c"
      ],
      "execution_count": 4,
      "outputs": [
        {
          "output_type": "execute_result",
          "data": {
            "text/plain": [
              "49999995000000"
            ]
          },
          "metadata": {
            "tags": []
          },
          "execution_count": 4
        }
      ]
    },
    {
      "cell_type": "markdown",
      "metadata": {
        "id": "mJbpkXUKFRYT"
      },
      "source": [
        "##Importing Libraries\n",
        "\n",
        "The vast majority of the time, you'll want to use functions from pre-built libraries. You can't import every library on Quantopian due to security issues, but you can import most of the common scientific ones. Here I import numpy and pandas, the two most common and useful libraries in quant finance. I recommend copying this import statement to every new notebook.\n",
        "\n",
        "Notice that you can rename libraries to whatever you want after importing. The `as` statement allows this. Here we use `np` and `pd` as aliases for `numpy` and `pandas`. This is a very common aliasing and will be found in most code snippets around the web. The point behind this is to allow you to type fewer characters when you are frequently accessing these libraries."
      ]
    },
    {
      "cell_type": "code",
      "metadata": {
        "collapsed": true,
        "id": "CERK_YXNFRYU"
      },
      "source": [
        "import numpy as np\n",
        "import pandas as pd\n",
        "\n",
        "# This is a plotting library for pretty pictures.\n",
        "import matplotlib.pyplot as plt"
      ],
      "execution_count": 23,
      "outputs": []
    },
    {
      "cell_type": "markdown",
      "metadata": {
        "id": "Z55TTeVHFRYU"
      },
      "source": [
        "##Tab Autocomplete\n",
        "\n",
        "Pressing tab will give you a list of IPython's best guesses for what you might want to type next. This is incredibly valuable and will save you a lot of time. If there is only one possible option for what you could type next, IPython will fill that in for you. Try pressing tab very frequently, it will seldom fill in anything you don't want, as if there is ambiguity a list will be shown. This is a great way to see what functions are available in a library.\n",
        "\n",
        "Try placing your cursor after the `.` and pressing tab."
      ]
    },
    {
      "cell_type": "code",
      "metadata": {
        "id": "1rjepQF5FRYV"
      },
      "source": [
        "np.random."
      ],
      "execution_count": null,
      "outputs": []
    },
    {
      "cell_type": "markdown",
      "metadata": {
        "id": "bF5sbM10FRYV"
      },
      "source": [
        "##Getting Documentation Help\n",
        "\n",
        "Placing a question mark after a function and executing that line of code will give you the documentation IPython has for that function. It's often best to do this in a new cell, as you avoid re-executing other code and running into bugs."
      ]
    },
    {
      "cell_type": "code",
      "metadata": {
        "collapsed": true,
        "id": "npv3Zxg6FRYW"
      },
      "source": [
        "np.random.normal?"
      ],
      "execution_count": 6,
      "outputs": []
    },
    {
      "cell_type": "markdown",
      "metadata": {
        "id": "g6AE8hiwFRYX"
      },
      "source": [
        "##Sampling\n",
        "\n",
        "We'll sample some random data using a function from `numpy`."
      ]
    },
    {
      "cell_type": "code",
      "metadata": {
        "colab": {
          "base_uri": "https://localhost:8080/"
        },
        "id": "dsvcNJWXFRYY",
        "outputId": "2cc9c8a9-2b82-47be-8779-4130c1931972"
      },
      "source": [
        "# Sample 100 points with a mean of 0 and an std of 1. This is a standard normal distribution.\n",
        "X = np.random.normal(0, 1, 100)\n",
        "X"
      ],
      "execution_count": 9,
      "outputs": [
        {
          "output_type": "execute_result",
          "data": {
            "text/plain": [
              "array([-5.02358979e-02,  1.78551646e+00, -3.06056708e-01, -1.19545577e+00,\n",
              "       -5.85545926e-01,  4.52941226e-01, -3.02999006e-01,  1.29166933e+00,\n",
              "        1.35737194e-03,  9.66659315e-01,  1.39078510e+00,  3.99974837e-01,\n",
              "        1.32541630e+00, -1.15915103e+00, -4.19794376e-01,  3.81174456e-01,\n",
              "       -1.87755945e+00, -2.12477902e-01, -1.35563560e-02, -1.06068360e+00,\n",
              "       -3.70335964e-01,  4.11251118e-01,  1.58190821e-01, -9.73835772e-01,\n",
              "        3.09926852e-01, -1.20780788e+00,  6.05699050e-01,  1.29071612e+00,\n",
              "       -2.33215051e-01, -9.18809232e-01, -2.26388847e-01,  6.56082451e-02,\n",
              "        2.09485139e-01, -2.37930476e-01, -9.72983510e-01, -1.04299292e+00,\n",
              "        1.27459811e-01, -1.44012739e+00,  1.02067968e+00,  9.31860701e-01,\n",
              "        1.08742416e-01,  3.93106639e-01, -7.08142889e-02, -2.40049148e-01,\n",
              "       -4.01402495e-02,  1.42219204e+00, -2.39582601e-01,  5.83144296e-01,\n",
              "        8.56904002e-01,  2.60393989e-01,  7.42564044e-01, -7.70702884e-01,\n",
              "        1.19624346e+00, -1.67468068e-01, -5.53008408e-02, -1.94889011e-01,\n",
              "        9.96015273e-01, -3.92776751e-01, -7.71159996e-01,  4.94441851e-01,\n",
              "       -1.43568177e+00, -1.14375106e+00, -8.71319452e-01,  4.16889433e-02,\n",
              "        7.54798827e-02, -6.24362847e-01,  1.46405657e+00, -1.80912286e+00,\n",
              "       -8.31265051e-01, -2.41188245e-01,  3.67695525e-01,  7.70145830e-01,\n",
              "       -4.93658099e-01,  4.59201379e-01, -1.88078771e-02,  5.50928779e-01,\n",
              "       -1.51223298e+00, -1.33287012e+00, -1.52431507e+00,  6.04550840e-01,\n",
              "        9.68227150e-01, -1.65018088e-02,  3.31385893e-01, -1.71714959e+00,\n",
              "       -6.67206748e-01, -2.32846166e-01, -6.76779510e-01, -1.91002948e+00,\n",
              "        5.45194669e-01,  1.73399904e-01, -1.30228402e-01,  3.93900311e-01,\n",
              "       -3.54027283e-01,  1.54225288e+00, -2.06458423e+00, -4.10789933e-01,\n",
              "        2.58751691e+00, -2.21134104e-01, -9.02840005e-01, -8.99792310e-02])"
            ]
          },
          "metadata": {
            "tags": []
          },
          "execution_count": 9
        }
      ]
    },
    {
      "cell_type": "code",
      "metadata": {
        "colab": {
          "base_uri": "https://localhost:8080/"
        },
        "id": "LnkD98SYdL0Z",
        "outputId": "98cb412c-4314-4120-91c0-e1f97f540994"
      },
      "source": [
        "#Example\r\n",
        "Xe= np.random.normal(0, 3, 50)\r\n",
        "Xe"
      ],
      "execution_count": 10,
      "outputs": [
        {
          "output_type": "execute_result",
          "data": {
            "text/plain": [
              "array([-0.38485885, -1.84066093,  3.3811937 ,  1.6049944 ,  0.64619013,\n",
              "        2.91283723,  2.66742719,  1.96887878,  1.72614193,  1.28871975,\n",
              "        5.17870611, -1.68398731,  2.55105665,  3.63800963,  6.84283846,\n",
              "        1.26384723,  1.2030412 , -2.25693222, -1.00522393,  1.58269436,\n",
              "        3.34208315,  0.638836  ,  5.51721151, -3.74458798, -3.33718975,\n",
              "        3.18997738, -5.2242463 ,  0.29799311, -0.30655995, -5.95087599,\n",
              "        7.61666551, -2.27581255, -6.11052039, -2.58103825,  3.08131185,\n",
              "       -2.8990036 , -0.85256974, -0.48305739,  0.77889355,  1.25697313,\n",
              "        0.6013557 , -4.46310836, -3.28308267, -1.29023804,  1.94565646,\n",
              "       -4.33204629,  0.74919176, -1.58535951, -3.68496963,  2.23638695])"
            ]
          },
          "metadata": {
            "tags": []
          },
          "execution_count": 10
        }
      ]
    },
    {
      "cell_type": "markdown",
      "metadata": {
        "id": "nzwWVYLYFRYY"
      },
      "source": [
        "##Plotting\n",
        "\n",
        "We can use the plotting library we imported as follows."
      ]
    },
    {
      "cell_type": "code",
      "metadata": {
        "colab": {
          "base_uri": "https://localhost:8080/",
          "height": 282
        },
        "id": "bHe_o5AtFRYZ",
        "outputId": "5c0241fe-dbb5-4bd8-88b9-f5f2debbaa9e"
      },
      "source": [
        "plt.plot(X)"
      ],
      "execution_count": 15,
      "outputs": [
        {
          "output_type": "execute_result",
          "data": {
            "text/plain": [
              "[<matplotlib.lines.Line2D at 0x7f18b75fac10>]"
            ]
          },
          "metadata": {
            "tags": []
          },
          "execution_count": 15
        },
        {
          "output_type": "display_data",
          "data": {
            "image/png": "[encoded data removed]",
            "text/plain": [
              "<Figure size 432x288 with 1 Axes>"
            ]
          },
          "metadata": {
            "tags": [],
            "needs_background": "light"
          }
        }
      ]
    },
    {
      "cell_type": "code",
      "metadata": {
        "colab": {
          "base_uri": "https://localhost:8080/",
          "height": 282
        },
        "id": "X5H1BSh1d-or",
        "outputId": "dbe745bf-a5ff-4e82-b478-377efd90710b"
      },
      "source": [
        "#Example\r\n",
        "plt.plot(Xe)"
      ],
      "execution_count": 11,
      "outputs": [
        {
          "output_type": "execute_result",
          "data": {
            "text/plain": [
              "[<matplotlib.lines.Line2D at 0x7f7f1ab5e190>]"
            ]
          },
          "metadata": {
            "tags": []
          },
          "execution_count": 11
        },
        {
          "output_type": "display_data",
          "data": {
            "image/png": "[encoded data removed]",
            "text/plain": [
              "<Figure size 432x288 with 1 Axes>"
            ]
          },
          "metadata": {
            "tags": [],
            "needs_background": "light"
          }
        }
      ]
    },
    {
      "cell_type": "markdown",
      "metadata": {
        "id": "DYpaAXXiFRYZ"
      },
      "source": [
        "###Squelching Line Output\n",
        "\n",
        "You might have noticed the annoying line of the form `[<matplotlib.lines.Line2D at 0x7f72fdbc1710>]` before the plots. This is because the `.plot` function actually produces output. Sometimes we wish not to display output, we can accomplish this with the semi-colon as follows."
      ]
    },
    {
      "cell_type": "code",
      "metadata": {
        "colab": {
          "base_uri": "https://localhost:8080/",
          "height": 265
        },
        "id": "EpS7-FW8FRYa",
        "outputId": "7932958f-65ff-4271-f17b-fc657ec3da42"
      },
      "source": [
        "plt.plot(X);"
      ],
      "execution_count": 16,
      "outputs": [
        {
          "output_type": "display_data",
          "data": {
            "image/png": "[encoded data removed]",
            "text/plain": [
              "<Figure size 432x288 with 1 Axes>"
            ]
          },
          "metadata": {
            "tags": [],
            "needs_background": "light"
          }
        }
      ]
    },
    {
      "cell_type": "code",
      "metadata": {
        "colab": {
          "base_uri": "https://localhost:8080/",
          "height": 265
        },
        "id": "7MHvNCdUeNUQ",
        "outputId": "4cdcf162-baf7-478c-a182-b7890ec955ce"
      },
      "source": [
        "#Example\r\n",
        "plt.plot(Xe);"
      ],
      "execution_count": 12,
      "outputs": [
        {
          "output_type": "display_data",
          "data": {
            "image/png": "[encoded data removed]",
            "text/plain": [
              "<Figure size 432x288 with 1 Axes>"
            ]
          },
          "metadata": {
            "tags": [],
            "needs_background": "light"
          }
        }
      ]
    },
    {
      "cell_type": "markdown",
      "metadata": {
        "id": "grp4QHwxFRYa"
      },
      "source": [
        "###Adding Axis Labels\n",
        "\n",
        "No self-respecting quant leaves a graph without labeled axes. Here are some commands to help with that."
      ]
    },
    {
      "cell_type": "code",
      "metadata": {
        "colab": {
          "base_uri": "https://localhost:8080/",
          "height": 282
        },
        "id": "9AKWw_vWFRYb",
        "outputId": "b3915923-fc34-4c24-c5da-02cd057c44ec"
      },
      "source": [
        "X = np.random.normal(0, 1, 100)\n",
        "X2 = np.random.normal(0, 1, 100)\n",
        "\n",
        "plt.plot(X);\n",
        "plt.plot(X2);\n",
        "plt.xlabel('Time') # The data we generated is unitless, but don't forget units in general.\n",
        "plt.ylabel('Returns')\n",
        "plt.legend(['X', 'X2']);"
      ],
      "execution_count": 13,
      "outputs": [
        {
          "output_type": "display_data",
          "data": {
            "image/png": "[encoded data removed]",
            "text/plain": [
              "<Figure size 432x288 with 1 Axes>"
            ]
          },
          "metadata": {
            "tags": [],
            "needs_background": "light"
          }
        }
      ]
    },
    {
      "cell_type": "markdown",
      "metadata": {
        "id": "lZYMmBdJFRYb"
      },
      "source": [
        "##Generating Statistics\n",
        "\n",
        "Let's use `numpy` to take some simple statistics."
      ]
    },
    {
      "cell_type": "code",
      "metadata": {
        "colab": {
          "base_uri": "https://localhost:8080/"
        },
        "id": "UCcyrcFDFRYb",
        "outputId": "7d2f6515-e241-4c8b-91c5-00c8c30735e2"
      },
      "source": [
        "np.mean(X)"
      ],
      "execution_count": 16,
      "outputs": [
        {
          "output_type": "execute_result",
          "data": {
            "text/plain": [
              "-0.0059866181138381"
            ]
          },
          "metadata": {
            "tags": []
          },
          "execution_count": 16
        }
      ]
    },
    {
      "cell_type": "code",
      "metadata": {
        "colab": {
          "base_uri": "https://localhost:8080/"
        },
        "id": "myPvbhJCe32O",
        "outputId": "bbe5b21a-9ef8-48e8-b1c9-a3bba2d51851"
      },
      "source": [
        "#Example\r\n",
        "np.mean(Xe)"
      ],
      "execution_count": 15,
      "outputs": [
        {
          "output_type": "execute_result",
          "data": {
            "text/plain": [
              "0.20266366388076162"
            ]
          },
          "metadata": {
            "tags": []
          },
          "execution_count": 15
        }
      ]
    },
    {
      "cell_type": "code",
      "metadata": {
        "colab": {
          "base_uri": "https://localhost:8080/"
        },
        "id": "o8s0D_WXFRYc",
        "outputId": "d52903d3-c676-468a-aaa0-e81b5dbc3a78"
      },
      "source": [
        "np.std(X)"
      ],
      "execution_count": 18,
      "outputs": [
        {
          "output_type": "execute_result",
          "data": {
            "text/plain": [
              "1.0405962294790674"
            ]
          },
          "metadata": {
            "tags": []
          },
          "execution_count": 18
        }
      ]
    },
    {
      "cell_type": "code",
      "metadata": {
        "colab": {
          "base_uri": "https://localhost:8080/"
        },
        "id": "TqgkwgLyfNeA",
        "outputId": "25981884-376f-46ac-8ef0-8151a6ad2640"
      },
      "source": [
        "#Example\r\n",
        "np.std(Xe)"
      ],
      "execution_count": 19,
      "outputs": [
        {
          "output_type": "execute_result",
          "data": {
            "text/plain": [
              "3.1410570060552843"
            ]
          },
          "metadata": {
            "tags": []
          },
          "execution_count": 19
        }
      ]
    },
    {
      "cell_type": "markdown",
      "metadata": {
        "id": "dw8WYfcOFRYc"
      },
      "source": [
        "##Getting Real Pricing Data\n",
        "\n",
        "Randomly sampled data can be great for testing ideas, but let's get some real data. We can use `get_pricing` to do that. You can use the `?` syntax as discussed above to get more information on `get_pricing`'s arguments."
      ]
    },
    {
      "cell_type": "code",
      "metadata": {
        "colab": {
          "base_uri": "https://localhost:8080/"
        },
        "id": "4FJyFvt8lKo0",
        "outputId": "ee02ea2f-8779-480f-adb0-87411563e9ca"
      },
      "source": [
        "get_pricing?"
      ],
      "execution_count": 27,
      "outputs": [
        {
          "output_type": "stream",
          "text": [
            "Object `get_pricing` not found.\n"
          ],
          "name": "stdout"
        }
      ]
    },
    {
      "cell_type": "code",
      "metadata": {
        "id": "YczuFdcFFRYc"
      },
      "source": [
        "#data = get_pricing('MSFT', start_date='2012-1-1', end_date='2015-6-1')\r\n",
        "data=pd.read_csv('MSFT.csv')\r\n"
      ],
      "execution_count": 30,
      "outputs": []
    },
    {
      "cell_type": "code",
      "metadata": {
        "id": "3xvUCCsNm8Jb"
      },
      "source": [
        "#Example\r\n",
        "datae=pd.read_csv('FB.csv')"
      ],
      "execution_count": 35,
      "outputs": []
    },
    {
      "cell_type": "markdown",
      "metadata": {
        "id": "f7ex7wyFFRYd"
      },
      "source": [
        "Our data is now a dataframe. You can see the datetime index and the colums with different pricing data."
      ]
    },
    {
      "cell_type": "code",
      "metadata": {
        "colab": {
          "base_uri": "https://localhost:8080/",
          "height": 419
        },
        "id": "hKEvA9gKFRYd",
        "outputId": "6e0e51a3-45e7-41c7-e9ea-551f27f41b05"
      },
      "source": [
        "data"
      ],
      "execution_count": 31,
      "outputs": [
        {
          "output_type": "execute_result",
          "data": {
            "text/html": [
              "<div>\n",
              "<style scoped>\n",
              "    .dataframe tbody tr th:only-of-type {\n",
              "        vertical-align: middle;\n",
              "    }\n",
              "\n",
              "    .dataframe tbody tr th {\n",
              "        vertical-align: top;\n",
              "    }\n",
              "\n",
              "    .dataframe thead th {\n",
              "        text-align: right;\n",
              "    }\n",
              "</style>\n",
              "<table border=\"1\" class=\"dataframe\">\n",
              "  <thead>\n",
              "    <tr style=\"text-align: right;\">\n",
              "      <th></th>\n",
              "      <th>Date</th>\n",
              "      <th>Open</th>\n",
              "      <th>High</th>\n",
              "      <th>Low</th>\n",
              "      <th>Close</th>\n",
              "      <th>Adj Close</th>\n",
              "      <th>Volume</th>\n",
              "    </tr>\n",
              "  </thead>\n",
              "  <tbody>\n",
              "    <tr>\n",
              "      <th>0</th>\n",
              "      <td>2012-01-03</td>\n",
              "      <td>26.549999</td>\n",
              "      <td>26.959999</td>\n",
              "      <td>26.389999</td>\n",
              "      <td>26.770000</td>\n",
              "      <td>21.799267</td>\n",
              "      <td>64731500</td>\n",
              "    </tr>\n",
              "    <tr>\n",
              "      <th>1</th>\n",
              "      <td>2012-01-04</td>\n",
              "      <td>26.820000</td>\n",
              "      <td>27.469999</td>\n",
              "      <td>26.780001</td>\n",
              "      <td>27.400000</td>\n",
              "      <td>22.312283</td>\n",
              "      <td>80516100</td>\n",
              "    </tr>\n",
              "    <tr>\n",
              "      <th>2</th>\n",
              "      <td>2012-01-05</td>\n",
              "      <td>27.379999</td>\n",
              "      <td>27.730000</td>\n",
              "      <td>27.290001</td>\n",
              "      <td>27.680000</td>\n",
              "      <td>22.540291</td>\n",
              "      <td>56081400</td>\n",
              "    </tr>\n",
              "    <tr>\n",
              "      <th>3</th>\n",
              "      <td>2012-01-06</td>\n",
              "      <td>27.530001</td>\n",
              "      <td>28.190001</td>\n",
              "      <td>27.530001</td>\n",
              "      <td>28.110001</td>\n",
              "      <td>22.890448</td>\n",
              "      <td>99455500</td>\n",
              "    </tr>\n",
              "    <tr>\n",
              "      <th>4</th>\n",
              "      <td>2012-01-09</td>\n",
              "      <td>28.049999</td>\n",
              "      <td>28.100000</td>\n",
              "      <td>27.719999</td>\n",
              "      <td>27.740000</td>\n",
              "      <td>22.589146</td>\n",
              "      <td>59706800</td>\n",
              "    </tr>\n",
              "    <tr>\n",
              "      <th>...</th>\n",
              "      <td>...</td>\n",
              "      <td>...</td>\n",
              "      <td>...</td>\n",
              "      <td>...</td>\n",
              "      <td>...</td>\n",
              "      <td>...</td>\n",
              "      <td>...</td>\n",
              "    </tr>\n",
              "    <tr>\n",
              "      <th>1104</th>\n",
              "      <td>2016-05-24</td>\n",
              "      <td>50.700001</td>\n",
              "      <td>51.709999</td>\n",
              "      <td>50.400002</td>\n",
              "      <td>51.590000</td>\n",
              "      <td>47.637455</td>\n",
              "      <td>34757900</td>\n",
              "    </tr>\n",
              "    <tr>\n",
              "      <th>1105</th>\n",
              "      <td>2016-05-25</td>\n",
              "      <td>51.919998</td>\n",
              "      <td>52.490002</td>\n",
              "      <td>51.790001</td>\n",
              "      <td>52.119999</td>\n",
              "      <td>48.126846</td>\n",
              "      <td>24040200</td>\n",
              "    </tr>\n",
              "    <tr>\n",
              "      <th>1106</th>\n",
              "      <td>2016-05-26</td>\n",
              "      <td>51.930000</td>\n",
              "      <td>51.980000</td>\n",
              "      <td>51.360001</td>\n",
              "      <td>51.889999</td>\n",
              "      <td>47.914467</td>\n",
              "      <td>24335200</td>\n",
              "    </tr>\n",
              "    <tr>\n",
              "      <th>1107</th>\n",
              "      <td>2016-05-27</td>\n",
              "      <td>51.919998</td>\n",
              "      <td>52.320000</td>\n",
              "      <td>51.770000</td>\n",
              "      <td>52.320000</td>\n",
              "      <td>48.311520</td>\n",
              "      <td>17721400</td>\n",
              "    </tr>\n",
              "    <tr>\n",
              "      <th>1108</th>\n",
              "      <td>2016-05-31</td>\n",
              "      <td>52.259998</td>\n",
              "      <td>53.000000</td>\n",
              "      <td>52.080002</td>\n",
              "      <td>53.000000</td>\n",
              "      <td>48.939426</td>\n",
              "      <td>37653100</td>\n",
              "    </tr>\n",
              "  </tbody>\n",
              "</table>\n",
              "<p>1109 rows × 7 columns</p>\n",
              "</div>"
            ],
            "text/plain": [
              "            Date       Open       High  ...      Close  Adj Close    Volume\n",
              "0     2012-01-03  26.549999  26.959999  ...  26.770000  21.799267  64731500\n",
              "1     2012-01-04  26.820000  27.469999  ...  27.400000  22.312283  80516100\n",
              "2     2012-01-05  27.379999  27.730000  ...  27.680000  22.540291  56081400\n",
              "3     2012-01-06  27.530001  28.190001  ...  28.110001  22.890448  99455500\n",
              "4     2012-01-09  28.049999  28.100000  ...  27.740000  22.589146  59706800\n",
              "...          ...        ...        ...  ...        ...        ...       ...\n",
              "1104  2016-05-24  50.700001  51.709999  ...  51.590000  47.637455  34757900\n",
              "1105  2016-05-25  51.919998  52.490002  ...  52.119999  48.126846  24040200\n",
              "1106  2016-05-26  51.930000  51.980000  ...  51.889999  47.914467  24335200\n",
              "1107  2016-05-27  51.919998  52.320000  ...  52.320000  48.311520  17721400\n",
              "1108  2016-05-31  52.259998  53.000000  ...  53.000000  48.939426  37653100\n",
              "\n",
              "[1109 rows x 7 columns]"
            ]
          },
          "metadata": {
            "tags": []
          },
          "execution_count": 31
        }
      ]
    },
    {
      "cell_type": "code",
      "metadata": {
        "colab": {
          "base_uri": "https://localhost:8080/",
          "height": 419
        },
        "id": "ZRO1oVRAnM2l",
        "outputId": "a3d3d3be-da78-4caa-f16d-604a1340b608"
      },
      "source": [
        "#Example\r\n",
        "datae"
      ],
      "execution_count": 33,
      "outputs": [
        {
          "output_type": "execute_result",
          "data": {
            "text/html": [
              "<div>\n",
              "<style scoped>\n",
              "    .dataframe tbody tr th:only-of-type {\n",
              "        vertical-align: middle;\n",
              "    }\n",
              "\n",
              "    .dataframe tbody tr th {\n",
              "        vertical-align: top;\n",
              "    }\n",
              "\n",
              "    .dataframe thead th {\n",
              "        text-align: right;\n",
              "    }\n",
              "</style>\n",
              "<table border=\"1\" class=\"dataframe\">\n",
              "  <thead>\n",
              "    <tr style=\"text-align: right;\">\n",
              "      <th></th>\n",
              "      <th>Date</th>\n",
              "      <th>Open</th>\n",
              "      <th>High</th>\n",
              "      <th>Low</th>\n",
              "      <th>Close</th>\n",
              "      <th>Adj Close</th>\n",
              "      <th>Volume</th>\n",
              "    </tr>\n",
              "  </thead>\n",
              "  <tbody>\n",
              "    <tr>\n",
              "      <th>0</th>\n",
              "      <td>2020-03-10</td>\n",
              "      <td>174.669998</td>\n",
              "      <td>178.289993</td>\n",
              "      <td>169.500000</td>\n",
              "      <td>178.190002</td>\n",
              "      <td>178.190002</td>\n",
              "      <td>24517800</td>\n",
              "    </tr>\n",
              "    <tr>\n",
              "      <th>1</th>\n",
              "      <td>2020-03-11</td>\n",
              "      <td>174.009995</td>\n",
              "      <td>175.880005</td>\n",
              "      <td>167.660004</td>\n",
              "      <td>170.240005</td>\n",
              "      <td>170.240005</td>\n",
              "      <td>20373900</td>\n",
              "    </tr>\n",
              "    <tr>\n",
              "      <th>2</th>\n",
              "      <td>2020-03-12</td>\n",
              "      <td>159.539993</td>\n",
              "      <td>166.600006</td>\n",
              "      <td>154.339996</td>\n",
              "      <td>154.470001</td>\n",
              "      <td>154.470001</td>\n",
              "      <td>43266300</td>\n",
              "    </tr>\n",
              "    <tr>\n",
              "      <th>3</th>\n",
              "      <td>2020-03-13</td>\n",
              "      <td>163.529999</td>\n",
              "      <td>170.789993</td>\n",
              "      <td>157.600006</td>\n",
              "      <td>170.279999</td>\n",
              "      <td>170.279999</td>\n",
              "      <td>35028600</td>\n",
              "    </tr>\n",
              "    <tr>\n",
              "      <th>4</th>\n",
              "      <td>2020-03-16</td>\n",
              "      <td>152.320007</td>\n",
              "      <td>159.130005</td>\n",
              "      <td>143.100006</td>\n",
              "      <td>146.009995</td>\n",
              "      <td>146.009995</td>\n",
              "      <td>39120400</td>\n",
              "    </tr>\n",
              "    <tr>\n",
              "      <th>...</th>\n",
              "      <td>...</td>\n",
              "      <td>...</td>\n",
              "      <td>...</td>\n",
              "      <td>...</td>\n",
              "      <td>...</td>\n",
              "      <td>...</td>\n",
              "      <td>...</td>\n",
              "    </tr>\n",
              "    <tr>\n",
              "      <th>246</th>\n",
              "      <td>2021-03-02</td>\n",
              "      <td>265.779999</td>\n",
              "      <td>266.709991</td>\n",
              "      <td>258.649994</td>\n",
              "      <td>259.000000</td>\n",
              "      <td>259.000000</td>\n",
              "      <td>15151900</td>\n",
              "    </tr>\n",
              "    <tr>\n",
              "      <th>247</th>\n",
              "      <td>2021-03-03</td>\n",
              "      <td>260.290009</td>\n",
              "      <td>260.989990</td>\n",
              "      <td>255.100006</td>\n",
              "      <td>255.410004</td>\n",
              "      <td>255.410004</td>\n",
              "      <td>15476700</td>\n",
              "    </tr>\n",
              "    <tr>\n",
              "      <th>248</th>\n",
              "      <td>2021-03-04</td>\n",
              "      <td>256.470001</td>\n",
              "      <td>266.489990</td>\n",
              "      <td>253.500000</td>\n",
              "      <td>257.640015</td>\n",
              "      <td>257.640015</td>\n",
              "      <td>31570100</td>\n",
              "    </tr>\n",
              "    <tr>\n",
              "      <th>249</th>\n",
              "      <td>2021-03-05</td>\n",
              "      <td>260.670013</td>\n",
              "      <td>265.450012</td>\n",
              "      <td>255.610001</td>\n",
              "      <td>264.279999</td>\n",
              "      <td>264.279999</td>\n",
              "      <td>26808100</td>\n",
              "    </tr>\n",
              "    <tr>\n",
              "      <th>250</th>\n",
              "      <td>2021-03-08</td>\n",
              "      <td>265.549988</td>\n",
              "      <td>265.579987</td>\n",
              "      <td>255.050003</td>\n",
              "      <td>255.309998</td>\n",
              "      <td>255.309998</td>\n",
              "      <td>18372700</td>\n",
              "    </tr>\n",
              "  </tbody>\n",
              "</table>\n",
              "<p>251 rows × 7 columns</p>\n",
              "</div>"
            ],
            "text/plain": [
              "           Date        Open        High  ...       Close   Adj Close    Volume\n",
              "0    2020-03-10  174.669998  178.289993  ...  178.190002  178.190002  24517800\n",
              "1    2020-03-11  174.009995  175.880005  ...  170.240005  170.240005  20373900\n",
              "2    2020-03-12  159.539993  166.600006  ...  154.470001  154.470001  43266300\n",
              "3    2020-03-13  163.529999  170.789993  ...  170.279999  170.279999  35028600\n",
              "4    2020-03-16  152.320007  159.130005  ...  146.009995  146.009995  39120400\n",
              "..          ...         ...         ...  ...         ...         ...       ...\n",
              "246  2021-03-02  265.779999  266.709991  ...  259.000000  259.000000  15151900\n",
              "247  2021-03-03  260.290009  260.989990  ...  255.410004  255.410004  15476700\n",
              "248  2021-03-04  256.470001  266.489990  ...  257.640015  257.640015  31570100\n",
              "249  2021-03-05  260.670013  265.450012  ...  264.279999  264.279999  26808100\n",
              "250  2021-03-08  265.549988  265.579987  ...  255.309998  255.309998  18372700\n",
              "\n",
              "[251 rows x 7 columns]"
            ]
          },
          "metadata": {
            "tags": []
          },
          "execution_count": 33
        }
      ]
    },
    {
      "cell_type": "markdown",
      "metadata": {
        "id": "YGarNMO8FRYd"
      },
      "source": [
        "This is a pandas dataframe, so we can index in to just get price like this. For more info on pandas, please [click here](http://pandas.pydata.org/pandas-docs/stable/10min.html)."
      ]
    },
    {
      "cell_type": "code",
      "metadata": {
        "id": "pjcB1JX1FRYe"
      },
      "source": [
        "X = data['High']"
      ],
      "execution_count": 45,
      "outputs": []
    },
    {
      "cell_type": "code",
      "metadata": {
        "id": "k6s_p6itoEVm"
      },
      "source": [
        "#Example\r\n",
        "Xe = datae['High']"
      ],
      "execution_count": 44,
      "outputs": []
    },
    {
      "cell_type": "markdown",
      "metadata": {
        "id": "3uUdQ0P_FRYe"
      },
      "source": [
        "Because there is now also date information in our data, we provide two series to `.plot`. `X.index` gives us the datetime index, and `X.values` gives us the pricing values. These are used as the X and Y coordinates to make a graph."
      ]
    },
    {
      "cell_type": "code",
      "metadata": {
        "colab": {
          "base_uri": "https://localhost:8080/",
          "height": 265
        },
        "id": "2zG4Pd0oFRYe",
        "outputId": "aa324055-4df1-4a33-93eb-40e34be2656e"
      },
      "source": [
        "plt.plot(X.index, X.values)\n",
        "plt.ylabel('High')\n",
        "plt.legend(['MSFT']);"
      ],
      "execution_count": 46,
      "outputs": [
        {
          "output_type": "display_data",
          "data": {
            "image/png": "[encoded data removed]",
            "text/plain": [
              "<Figure size 432x288 with 1 Axes>"
            ]
          },
          "metadata": {
            "tags": [],
            "needs_background": "light"
          }
        }
      ]
    },
    {
      "cell_type": "code",
      "metadata": {
        "colab": {
          "base_uri": "https://localhost:8080/",
          "height": 265
        },
        "id": "H8o-wkJWoT-d",
        "outputId": "bc01a157-2ff9-4198-a408-33176d839a82"
      },
      "source": [
        "#Example\r\n",
        "plt.plot(Xe.index, Xe.values)\r\n",
        "plt.ylabel('High')\r\n",
        "plt.legend(['MSFT']);"
      ],
      "execution_count": 47,
      "outputs": [
        {
          "output_type": "display_data",
          "data": {
            "image/png": "[encoded data removed]",
            "text/plain": [
              "<Figure size 432x288 with 1 Axes>"
            ]
          },
          "metadata": {
            "tags": [],
            "needs_background": "light"
          }
        }
      ]
    },
    {
      "cell_type": "markdown",
      "metadata": {
        "id": "r2mcMxaoFRYf"
      },
      "source": [
        "We can get statistics again on real data."
      ]
    },
    {
      "cell_type": "code",
      "metadata": {
        "colab": {
          "base_uri": "https://localhost:8080/"
        },
        "id": "kdDlXAqkFRYf",
        "outputId": "4fdf5e49-377d-4a94-91ea-b83f81353f1b"
      },
      "source": [
        "np.mean(X)"
      ],
      "execution_count": 48,
      "outputs": [
        {
          "output_type": "execute_result",
          "data": {
            "text/plain": [
              "39.56271419116313"
            ]
          },
          "metadata": {
            "tags": []
          },
          "execution_count": 48
        }
      ]
    },
    {
      "cell_type": "code",
      "metadata": {
        "colab": {
          "base_uri": "https://localhost:8080/"
        },
        "id": "lmlK2sHBopCa",
        "outputId": "f5fb4c62-0e43-443f-d46b-60882ccefb58"
      },
      "source": [
        "#Example\r\n",
        "np.mean(Xe)"
      ],
      "execution_count": 49,
      "outputs": [
        {
          "output_type": "execute_result",
          "data": {
            "text/plain": [
              "248.38649465737055"
            ]
          },
          "metadata": {
            "tags": []
          },
          "execution_count": 49
        }
      ]
    },
    {
      "cell_type": "code",
      "metadata": {
        "colab": {
          "base_uri": "https://localhost:8080/"
        },
        "id": "50Gv-WoOFRYf",
        "outputId": "bfafc41a-12a3-44a7-9b03-bc2780a0636d"
      },
      "source": [
        "np.std(X)"
      ],
      "execution_count": 50,
      "outputs": [
        {
          "output_type": "execute_result",
          "data": {
            "text/plain": [
              "8.621443477375596"
            ]
          },
          "metadata": {
            "tags": []
          },
          "execution_count": 50
        }
      ]
    },
    {
      "cell_type": "code",
      "metadata": {
        "colab": {
          "base_uri": "https://localhost:8080/"
        },
        "id": "vhuGB6z9ovke",
        "outputId": "6a21c6cd-5e71-4f71-a79c-c14ee8ea961f"
      },
      "source": [
        "#Example\r\n",
        "np.std(Xe)"
      ],
      "execution_count": 51,
      "outputs": [
        {
          "output_type": "execute_result",
          "data": {
            "text/plain": [
              "37.82117344929885"
            ]
          },
          "metadata": {
            "tags": []
          },
          "execution_count": 51
        }
      ]
    },
    {
      "cell_type": "markdown",
      "metadata": {
        "id": "UtFm0BUpFRYf"
      },
      "source": [
        "##Getting Returns from Prices\n",
        "\n",
        "We can use the `pct_change` function to get returns. Notice how we drop the first element after doing this, as it will be `NaN` (nothing -> something results in a NaN percent change)."
      ]
    },
    {
      "cell_type": "code",
      "metadata": {
        "id": "RaFZQ_43FRYg"
      },
      "source": [
        "R = X.pct_change()[1:]"
      ],
      "execution_count": 52,
      "outputs": []
    },
    {
      "cell_type": "code",
      "metadata": {
        "id": "ISV2eP7KqYdb"
      },
      "source": [
        "#Example\r\n",
        "Re = Xe.pct_change()[1:]"
      ],
      "execution_count": 54,
      "outputs": []
    },
    {
      "cell_type": "markdown",
      "metadata": {
        "id": "tGVv-L-2FRYg"
      },
      "source": [
        "We can plot the returns distribution as a histogram."
      ]
    },
    {
      "cell_type": "code",
      "metadata": {
        "colab": {
          "base_uri": "https://localhost:8080/",
          "height": 279
        },
        "id": "AgrKi-gnFRYg",
        "outputId": "24864bc3-ce6f-4f4c-db23-c90d671a4ce9"
      },
      "source": [
        "plt.hist(R, bins=20)\n",
        "plt.xlabel('Return')\n",
        "plt.ylabel('Frequency')\n",
        "plt.legend(['MSFT Returns']);"
      ],
      "execution_count": 55,
      "outputs": [
        {
          "output_type": "display_data",
          "data": {
            "image/png": "[encoded data removed]",
            "text/plain": [
              "<Figure size 432x288 with 1 Axes>"
            ]
          },
          "metadata": {
            "tags": [],
            "needs_background": "light"
          }
        }
      ]
    },
    {
      "cell_type": "code",
      "metadata": {
        "colab": {
          "base_uri": "https://localhost:8080/",
          "height": 279
        },
        "id": "E_McanuzqlU7",
        "outputId": "f27314f6-ac72-47dc-fdb6-3bad09f0045c"
      },
      "source": [
        "#Example\r\n",
        "plt.hist(Re, bins=20)\r\n",
        "plt.xlabel('Return')\r\n",
        "plt.ylabel('Frequency')\r\n",
        "plt.legend(['MSFT Returns']);"
      ],
      "execution_count": 56,
      "outputs": [
        {
          "output_type": "display_data",
          "data": {
            "image/png": "[encoded data removed]",
            "text/plain": [
              "<Figure size 432x288 with 1 Axes>"
            ]
          },
          "metadata": {
            "tags": [],
            "needs_background": "light"
          }
        }
      ]
    },
    {
      "cell_type": "markdown",
      "metadata": {
        "id": "NZAMH9kEFRYh"
      },
      "source": [
        "Get statistics again."
      ]
    },
    {
      "cell_type": "code",
      "metadata": {
        "colab": {
          "base_uri": "https://localhost:8080/"
        },
        "id": "twHc6g6EFRYi",
        "outputId": "8d6556d2-a6a1-45dc-d09c-ef527077d2f4"
      },
      "source": [
        "np.mean(R)"
      ],
      "execution_count": 57,
      "outputs": [
        {
          "output_type": "execute_result",
          "data": {
            "text/plain": [
              "0.0007027935306872434"
            ]
          },
          "metadata": {
            "tags": []
          },
          "execution_count": 57
        }
      ]
    },
    {
      "cell_type": "code",
      "metadata": {
        "colab": {
          "base_uri": "https://localhost:8080/"
        },
        "id": "JV1KtYjEqsQv",
        "outputId": "8a8d4ef7-852b-4526-cbd7-f0e48f0fc3f5"
      },
      "source": [
        "#Example\r\n",
        "np.mean(Re)"
      ],
      "execution_count": 59,
      "outputs": [
        {
          "output_type": "execute_result",
          "data": {
            "text/plain": [
              "0.0018747741200599024"
            ]
          },
          "metadata": {
            "tags": []
          },
          "execution_count": 59
        }
      ]
    },
    {
      "cell_type": "code",
      "metadata": {
        "colab": {
          "base_uri": "https://localhost:8080/"
        },
        "id": "Q384fqFAFRYi",
        "outputId": "4cac06c9-34c1-425c-9b28-83515b5c6b4f"
      },
      "source": [
        "np.std(R)"
      ],
      "execution_count": 58,
      "outputs": [
        {
          "output_type": "execute_result",
          "data": {
            "text/plain": [
              "0.013634832963874506"
            ]
          },
          "metadata": {
            "tags": []
          },
          "execution_count": 58
        }
      ]
    },
    {
      "cell_type": "code",
      "metadata": {
        "colab": {
          "base_uri": "https://localhost:8080/"
        },
        "id": "nlKlScKEqvrc",
        "outputId": "b8b59f43-8760-4437-85d0-e11265190fc5"
      },
      "source": [
        "#Example\r\n",
        "np.std(Re)"
      ],
      "execution_count": 60,
      "outputs": [
        {
          "output_type": "execute_result",
          "data": {
            "text/plain": [
              "0.02373138524300198"
            ]
          },
          "metadata": {
            "tags": []
          },
          "execution_count": 60
        }
      ]
    },
    {
      "cell_type": "markdown",
      "metadata": {
        "id": "sOIATrJNFRYj"
      },
      "source": [
        "Now let's go backwards and generate data out of a normal distribution using the statistics we estimated from Microsoft's returns. We'll see that we have good reason to suspect Microsoft's returns may not be normal, as the resulting normal distribution looks far different."
      ]
    },
    {
      "cell_type": "code",
      "metadata": {
        "colab": {
          "base_uri": "https://localhost:8080/",
          "height": 279
        },
        "id": "lAWfICQzFRYj",
        "outputId": "b02fe2f0-bb27-4649-f12e-49928813a8c2"
      },
      "source": [
        "plt.hist(np.random.normal(np.mean(R), np.std(R), 10000), bins=20)\n",
        "plt.xlabel('Return')\n",
        "plt.ylabel('Frequency')\n",
        "plt.legend(['Normally Distributed Returns']);"
      ],
      "execution_count": 61,
      "outputs": [
        {
          "output_type": "display_data",
          "data": {
            "image/png": "[encoded data removed]",
            "text/plain": [
              "<Figure size 432x288 with 1 Axes>"
            ]
          },
          "metadata": {
            "tags": [],
            "needs_background": "light"
          }
        }
      ]
    },
    {
      "cell_type": "code",
      "metadata": {
        "colab": {
          "base_uri": "https://localhost:8080/",
          "height": 279
        },
        "id": "SlZCW3RFrGGN",
        "outputId": "934269fb-e2d7-42f7-a9d4-ae0a3a01a9c8"
      },
      "source": [
        "#Example\r\n",
        "plt.hist(np.random.normal(np.mean(Re), np.std(Re), 10000), bins=20)\r\n",
        "plt.xlabel('Return')\r\n",
        "plt.ylabel('Frequency')\r\n",
        "plt.legend(['Normally Distributed Returns']);"
      ],
      "execution_count": 62,
      "outputs": [
        {
          "output_type": "display_data",
          "data": {
            "image/png": "[encoded data removed]",
            "text/plain": [
              "<Figure size 432x288 with 1 Axes>"
            ]
          },
          "metadata": {
            "tags": [],
            "needs_background": "light"
          }
        }
      ]
    },
    {
      "cell_type": "markdown",
      "metadata": {
        "id": "wdR80rNBFRYk"
      },
      "source": [
        "##Generating a Moving Average\n",
        "\n",
        "`pandas` has some nice tools to allow us to generate rolling statistics. Here's an example. Notice how there's no moving average for the first 60 days, as we don't have 60 days of data on which to generate the statistic."
      ]
    },
    {
      "cell_type": "code",
      "metadata": {
        "colab": {
          "base_uri": "https://localhost:8080/",
          "height": 265
        },
        "id": "L13_y-smFRYk",
        "outputId": "b89c66fc-a9d5-4667-a23e-ee7dd91297f9"
      },
      "source": [
        "# Take the average of the last 60 days at each timepoint.\n",
        "MAVG = pd.DataFrame.rolling(X, window=60).mean()\n",
        "plt.plot(X.index, X.values)\n",
        "plt.plot(MAVG.index, MAVG.values)\n",
        "plt.ylabel('High')\n",
        "plt.legend(['MSFT', '60-day MAVG']);"
      ],
      "execution_count": 65,
      "outputs": [
        {
          "output_type": "display_data",
          "data": {
            "image/png": "[encoded data removed]",
            "text/plain": [
              "<Figure size 432x288 with 1 Axes>"
            ]
          },
          "metadata": {
            "tags": [],
            "needs_background": "light"
          }
        }
      ]
    },
    {
      "cell_type": "code",
      "metadata": {
        "colab": {
          "base_uri": "https://localhost:8080/",
          "height": 265
        },
        "id": "Np60aG2EsCQq",
        "outputId": "27a866f6-0066-45c3-b367-cd8f9fdd48b1"
      },
      "source": [
        "MAVG = pd.DataFrame.rolling(Xe, window=60).mean()\r\n",
        "plt.plot(X.index, X.values)\r\n",
        "plt.plot(MAVG.index, MAVG.values)\r\n",
        "plt.ylabel('High')\r\n",
        "plt.legend(['MSFT', '60-day MAVG']);"
      ],
      "execution_count": 66,
      "outputs": [
        {
          "output_type": "display_data",
          "data": {
            "image/png": "[encoded data removed]",
            "text/plain": [
              "<Figure size 432x288 with 1 Axes>"
            ]
          },
          "metadata": {
            "tags": [],
            "needs_background": "light"
          }
        }
      ]
    },
    {
      "cell_type": "markdown",
      "metadata": {
        "id": "zUM1-kCqFRYk"
      },
      "source": [
        "This presentation is for informational purposes only and does not constitute an offer to sell, a solicitation to buy, or a recommendation for any security; nor does it constitute an offer to provide investment advisory or other services by Quantopian, Inc. (\"Quantopian\"). Nothing contained herein constitutes investment advice or offers any opinion with respect to the suitability of any security, and any views expressed herein should not be taken as advice to buy, sell, or hold any security or as an endorsement of any security or company. In preparing the information contained herein, Quantopian, Inc. has not taken into account the investment needs, objectives, and financial circumstances of any particular investor. Any views expressed and data illustrated herein were prepared based upon information, believed to be reliable, available to Quantopian, Inc. at the time of publication. Quantopian makes no guarantees as to their accuracy or completeness. All information is subject to change and may quickly become unreliable for various reasons, including changes in market conditions or economic circumstances."
      ]
    }
  ]
}