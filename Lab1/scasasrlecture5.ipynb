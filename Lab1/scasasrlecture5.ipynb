{
  "nbformat": 4,
  "nbformat_minor": 0,
  "metadata": {
    "kernelspec": {
      "display_name": "Python 2",
      "language": "python",
      "name": "python2"
    },
    "language_info": {
      "codemirror_mode": {
        "name": "ipython",
        "version": 2
      },
      "file_extension": ".py",
      "mimetype": "text/x-python",
      "name": "python",
      "nbconvert_exporter": "python",
      "pygments_lexer": "ipython2",
      "version": "2.7.12"
    },
    "colab": {
      "name": "scasasrlecture5.ipynb",
      "provenance": [],
      "include_colab_link": true
    }
  },
  "cells": [
    {
      "cell_type": "markdown",
      "metadata": {
        "id": "view-in-github",
        "colab_type": "text"
      },
      "source": [
        "<a href=\"https://colab.research.google.com/github/scasasr/AlgorithmsUN2021I/blob/main/Lab1/scasasrlecture5.ipynb\" target=\"_parent\"><img src=\"https://colab.research.google.com/assets/colab-badge.svg\" alt=\"Open In Colab\"/></a>"
      ]
    },
    {
      "cell_type": "markdown",
      "metadata": {
        "id": "wc3Xb0hdSmnL"
      },
      "source": [
        "# Graphical Representations of Data\n",
        "By Evgenia \"Jenny\" Nitishinskaya, Maxwell Margenot, and Delaney Granizo-Mackenzie.\n",
        "\n",
        "Part of the Quantopian Lecture Series:\n",
        "\n",
        "* [www.quantopian.com/lectures](https://www.quantopian.com/lectures)\n",
        "* [github.com/quantopian/research_public](https://github.com/quantopian/research_public)\n",
        "\n",
        "\n",
        "\n",
        "Representing data graphically can be incredibly useful for learning how the data behaves and seeing potential structure or flaws. Care should be taken, as humans are incredibly good at seeing only evidence that confirms our beliefs, and visual data lends itself well to that. Plots are good to use when formulating a hypothesis, but should not be used to test a hypothesis.\n",
        "\n",
        "We will go over some common plots here."
      ]
    },
    {
      "cell_type": "code",
      "metadata": {
        "collapsed": true,
        "id": "uizG_BU4SmnQ"
      },
      "source": [
        "# Import our libraries\n",
        "\n",
        "# This is for numerical processing\n",
        "import numpy as np\n",
        "# This is the library most commonly used for plotting in Python.\n",
        "# Notice how we import it 'as' plt, this enables us to type plt\n",
        "# rather than the full string every time.\n",
        "import matplotlib.pyplot as plt"
      ],
      "execution_count": 48,
      "outputs": []
    },
    {
      "cell_type": "code",
      "metadata": {
        "id": "DpEXjYXCUUsO"
      },
      "source": [
        "import pandas_datareader as pdr\n",
        "import datetime"
      ],
      "execution_count": 49,
      "outputs": []
    },
    {
      "cell_type": "markdown",
      "metadata": {
        "id": "Whf1Sff4SmnS"
      },
      "source": [
        "## Getting Some Data\n",
        "\n",
        "If we're going to plot data we need some data to plot. We'll get the pricing data of Apple (AAPL) and Microsoft (MSFT) to use in our examples.\n",
        "\n",
        "### Data Structure\n",
        "\n",
        "Knowing the structure of your data is very important. Normally you'll have to do a ton of work molding your data into the form you need for testing. Quantopian has done a lot of cleaning on the data, but you still need to put it into the right shapes and formats for your purposes.\n",
        "\n",
        "In this case the data will be returned as a pandas dataframe object. The rows are timestamps, and the columns are the two assets, AAPL and MSFT."
      ]
    },
    {
      "cell_type": "code",
      "metadata": {
        "colab": {
          "base_uri": "https://localhost:8080/",
          "height": 266
        },
        "id": "jQflhqUGSmnT",
        "outputId": "3053418b-4cb5-4275-93f5-e6cdca4e8693"
      },
      "source": [
        "#start = '2014-01-01'\n",
        "#end = '2015-01-01'\n",
        "data = pdr.get_data_yahoo(['AAPL', 'MSFT'],start= datetime.datetime(2014,1,1), end= datetime.datetime(2015,1,1))\n",
        "data.head()"
      ],
      "execution_count": 50,
      "outputs": [
        {
          "output_type": "execute_result",
          "data": {
            "text/plain": [
              "Attributes       High                   Low                  Open             \\\n",
              "Symbols          AAPL       MSFT       AAPL       MSFT       AAPL       MSFT   \n",
              "Date                                                                           \n",
              "2014-01-02  19.893929  37.400002  19.715000  37.099998  19.845715  37.349998   \n",
              "2014-01-03  19.775000  37.220001  19.301071  36.599998  19.745001  37.200001   \n",
              "2014-01-06  19.528570  36.889999  19.057142  36.110001  19.194643  36.849998   \n",
              "2014-01-07  19.498571  36.490002  19.211430  36.209999  19.440001  36.330002   \n",
              "2014-01-08  19.484285  36.139999  19.238930  35.580002  19.243214  36.000000   \n",
              "\n",
              "Attributes      Close                  Volume              Adj Close  \\\n",
              "Symbols          AAPL       MSFT         AAPL        MSFT       AAPL   \n",
              "Date                                                                   \n",
              "2014-01-02  19.754642  37.160000  234684800.0  30632200.0  17.598297   \n",
              "2014-01-03  19.320715  36.910000  392467600.0  31134800.0  17.211735   \n",
              "2014-01-06  19.426071  36.130001  412610800.0  43603700.0  17.305593   \n",
              "2014-01-07  19.287144  36.410000  317209200.0  35802800.0  17.181829   \n",
              "2014-01-08  19.409286  35.759998  258529600.0  59971700.0  17.290642   \n",
              "\n",
              "Attributes             \n",
              "Symbols          MSFT  \n",
              "Date                   \n",
              "2014-01-02  32.057323  \n",
              "2014-01-03  31.841665  \n",
              "2014-01-06  31.168766  \n",
              "2014-01-07  31.410315  \n",
              "2014-01-08  30.849575  "
            ],
            "text/html": [
              "<div>\n",
              "<style scoped>\n",
              "    .dataframe tbody tr th:only-of-type {\n",
              "        vertical-align: middle;\n",
              "    }\n",
              "\n",
              "    .dataframe tbody tr th {\n",
              "        vertical-align: top;\n",
              "    }\n",
              "\n",
              "    .dataframe thead tr th {\n",
              "        text-align: left;\n",
              "    }\n",
              "\n",
              "    .dataframe thead tr:last-of-type th {\n",
              "        text-align: right;\n",
              "    }\n",
              "</style>\n",
              "<table border=\"1\" class=\"dataframe\">\n",
              "  <thead>\n",
              "    <tr>\n",
              "      <th>Attributes</th>\n",
              "      <th colspan=\"2\" halign=\"left\">High</th>\n",
              "      <th colspan=\"2\" halign=\"left\">Low</th>\n",
              "      <th colspan=\"2\" halign=\"left\">Open</th>\n",
              "      <th colspan=\"2\" halign=\"left\">Close</th>\n",
              "      <th colspan=\"2\" halign=\"left\">Volume</th>\n",
              "      <th colspan=\"2\" halign=\"left\">Adj Close</th>\n",
              "    </tr>\n",
              "    <tr>\n",
              "      <th>Symbols</th>\n",
              "      <th>AAPL</th>\n",
              "      <th>MSFT</th>\n",
              "      <th>AAPL</th>\n",
              "      <th>MSFT</th>\n",
              "      <th>AAPL</th>\n",
              "      <th>MSFT</th>\n",
              "      <th>AAPL</th>\n",
              "      <th>MSFT</th>\n",
              "      <th>AAPL</th>\n",
              "      <th>MSFT</th>\n",
              "      <th>AAPL</th>\n",
              "      <th>MSFT</th>\n",
              "    </tr>\n",
              "    <tr>\n",
              "      <th>Date</th>\n",
              "      <th></th>\n",
              "      <th></th>\n",
              "      <th></th>\n",
              "      <th></th>\n",
              "      <th></th>\n",
              "      <th></th>\n",
              "      <th></th>\n",
              "      <th></th>\n",
              "      <th></th>\n",
              "      <th></th>\n",
              "      <th></th>\n",
              "      <th></th>\n",
              "    </tr>\n",
              "  </thead>\n",
              "  <tbody>\n",
              "    <tr>\n",
              "      <th>2014-01-02</th>\n",
              "      <td>19.893929</td>\n",
              "      <td>37.400002</td>\n",
              "      <td>19.715000</td>\n",
              "      <td>37.099998</td>\n",
              "      <td>19.845715</td>\n",
              "      <td>37.349998</td>\n",
              "      <td>19.754642</td>\n",
              "      <td>37.160000</td>\n",
              "      <td>234684800.0</td>\n",
              "      <td>30632200.0</td>\n",
              "      <td>17.598297</td>\n",
              "      <td>32.057323</td>\n",
              "    </tr>\n",
              "    <tr>\n",
              "      <th>2014-01-03</th>\n",
              "      <td>19.775000</td>\n",
              "      <td>37.220001</td>\n",
              "      <td>19.301071</td>\n",
              "      <td>36.599998</td>\n",
              "      <td>19.745001</td>\n",
              "      <td>37.200001</td>\n",
              "      <td>19.320715</td>\n",
              "      <td>36.910000</td>\n",
              "      <td>392467600.0</td>\n",
              "      <td>31134800.0</td>\n",
              "      <td>17.211735</td>\n",
              "      <td>31.841665</td>\n",
              "    </tr>\n",
              "    <tr>\n",
              "      <th>2014-01-06</th>\n",
              "      <td>19.528570</td>\n",
              "      <td>36.889999</td>\n",
              "      <td>19.057142</td>\n",
              "      <td>36.110001</td>\n",
              "      <td>19.194643</td>\n",
              "      <td>36.849998</td>\n",
              "      <td>19.426071</td>\n",
              "      <td>36.130001</td>\n",
              "      <td>412610800.0</td>\n",
              "      <td>43603700.0</td>\n",
              "      <td>17.305593</td>\n",
              "      <td>31.168766</td>\n",
              "    </tr>\n",
              "    <tr>\n",
              "      <th>2014-01-07</th>\n",
              "      <td>19.498571</td>\n",
              "      <td>36.490002</td>\n",
              "      <td>19.211430</td>\n",
              "      <td>36.209999</td>\n",
              "      <td>19.440001</td>\n",
              "      <td>36.330002</td>\n",
              "      <td>19.287144</td>\n",
              "      <td>36.410000</td>\n",
              "      <td>317209200.0</td>\n",
              "      <td>35802800.0</td>\n",
              "      <td>17.181829</td>\n",
              "      <td>31.410315</td>\n",
              "    </tr>\n",
              "    <tr>\n",
              "      <th>2014-01-08</th>\n",
              "      <td>19.484285</td>\n",
              "      <td>36.139999</td>\n",
              "      <td>19.238930</td>\n",
              "      <td>35.580002</td>\n",
              "      <td>19.243214</td>\n",
              "      <td>36.000000</td>\n",
              "      <td>19.409286</td>\n",
              "      <td>35.759998</td>\n",
              "      <td>258529600.0</td>\n",
              "      <td>59971700.0</td>\n",
              "      <td>17.290642</td>\n",
              "      <td>30.849575</td>\n",
              "    </tr>\n",
              "  </tbody>\n",
              "</table>\n",
              "</div>"
            ]
          },
          "metadata": {
            "tags": []
          },
          "execution_count": 50
        }
      ]
    },
    {
      "cell_type": "code",
      "metadata": {
        "colab": {
          "base_uri": "https://localhost:8080/",
          "height": 266
        },
        "id": "fUSoRaF0YE00",
        "outputId": "0df25a6e-5e6b-4333-fa28-f34b37b70646"
      },
      "source": [
        "#Example\n",
        "data_ex = pdr.get_data_yahoo(['FB', 'NFLX'],start= datetime.datetime(2014,1,1), end= datetime.datetime(2015,1,1))\n",
        "data_ex.head()"
      ],
      "execution_count": 51,
      "outputs": [
        {
          "output_type": "execute_result",
          "data": {
            "text/plain": [
              "Attributes       High                   Low                  Open             \\\n",
              "Symbols            FB       NFLX         FB       NFLX         FB       NFLX   \n",
              "Date                                                                           \n",
              "2014-01-02  55.220001  52.511429  54.189999  51.542858  54.830002  52.401428   \n",
              "2014-01-03  55.650002  52.495712  54.529999  51.842857  55.020000  52.000000   \n",
              "2014-01-06  57.259998  52.044285  54.049999  50.475716  54.419998  51.889999   \n",
              "2014-01-07  58.549999  49.698570  57.220001  48.152859  57.700001  49.684284   \n",
              "2014-01-08  58.410000  49.425713  57.230000  48.074287  57.599998  48.104286   \n",
              "\n",
              "Attributes      Close               Volume            Adj Close             \n",
              "Symbols            FB       NFLX        FB      NFLX         FB       NFLX  \n",
              "Date                                                                        \n",
              "2014-01-02  54.709999  51.831429  43195500  12325600  54.709999  51.831429  \n",
              "2014-01-03  54.560001  51.871429  38246200  10817100  54.560001  51.871429  \n",
              "2014-01-06  57.200001  51.367142  68852600  15501500  57.200001  51.367142  \n",
              "2014-01-07  57.919998  48.500000  77207400  36167600  57.919998  48.500000  \n",
              "2014-01-08  58.230000  48.712856  56682400  20001100  58.230000  48.712856  "
            ],
            "text/html": [
              "<div>\n",
              "<style scoped>\n",
              "    .dataframe tbody tr th:only-of-type {\n",
              "        vertical-align: middle;\n",
              "    }\n",
              "\n",
              "    .dataframe tbody tr th {\n",
              "        vertical-align: top;\n",
              "    }\n",
              "\n",
              "    .dataframe thead tr th {\n",
              "        text-align: left;\n",
              "    }\n",
              "\n",
              "    .dataframe thead tr:last-of-type th {\n",
              "        text-align: right;\n",
              "    }\n",
              "</style>\n",
              "<table border=\"1\" class=\"dataframe\">\n",
              "  <thead>\n",
              "    <tr>\n",
              "      <th>Attributes</th>\n",
              "      <th colspan=\"2\" halign=\"left\">High</th>\n",
              "      <th colspan=\"2\" halign=\"left\">Low</th>\n",
              "      <th colspan=\"2\" halign=\"left\">Open</th>\n",
              "      <th colspan=\"2\" halign=\"left\">Close</th>\n",
              "      <th colspan=\"2\" halign=\"left\">Volume</th>\n",
              "      <th colspan=\"2\" halign=\"left\">Adj Close</th>\n",
              "    </tr>\n",
              "    <tr>\n",
              "      <th>Symbols</th>\n",
              "      <th>FB</th>\n",
              "      <th>NFLX</th>\n",
              "      <th>FB</th>\n",
              "      <th>NFLX</th>\n",
              "      <th>FB</th>\n",
              "      <th>NFLX</th>\n",
              "      <th>FB</th>\n",
              "      <th>NFLX</th>\n",
              "      <th>FB</th>\n",
              "      <th>NFLX</th>\n",
              "      <th>FB</th>\n",
              "      <th>NFLX</th>\n",
              "    </tr>\n",
              "    <tr>\n",
              "      <th>Date</th>\n",
              "      <th></th>\n",
              "      <th></th>\n",
              "      <th></th>\n",
              "      <th></th>\n",
              "      <th></th>\n",
              "      <th></th>\n",
              "      <th></th>\n",
              "      <th></th>\n",
              "      <th></th>\n",
              "      <th></th>\n",
              "      <th></th>\n",
              "      <th></th>\n",
              "    </tr>\n",
              "  </thead>\n",
              "  <tbody>\n",
              "    <tr>\n",
              "      <th>2014-01-02</th>\n",
              "      <td>55.220001</td>\n",
              "      <td>52.511429</td>\n",
              "      <td>54.189999</td>\n",
              "      <td>51.542858</td>\n",
              "      <td>54.830002</td>\n",
              "      <td>52.401428</td>\n",
              "      <td>54.709999</td>\n",
              "      <td>51.831429</td>\n",
              "      <td>43195500</td>\n",
              "      <td>12325600</td>\n",
              "      <td>54.709999</td>\n",
              "      <td>51.831429</td>\n",
              "    </tr>\n",
              "    <tr>\n",
              "      <th>2014-01-03</th>\n",
              "      <td>55.650002</td>\n",
              "      <td>52.495712</td>\n",
              "      <td>54.529999</td>\n",
              "      <td>51.842857</td>\n",
              "      <td>55.020000</td>\n",
              "      <td>52.000000</td>\n",
              "      <td>54.560001</td>\n",
              "      <td>51.871429</td>\n",
              "      <td>38246200</td>\n",
              "      <td>10817100</td>\n",
              "      <td>54.560001</td>\n",
              "      <td>51.871429</td>\n",
              "    </tr>\n",
              "    <tr>\n",
              "      <th>2014-01-06</th>\n",
              "      <td>57.259998</td>\n",
              "      <td>52.044285</td>\n",
              "      <td>54.049999</td>\n",
              "      <td>50.475716</td>\n",
              "      <td>54.419998</td>\n",
              "      <td>51.889999</td>\n",
              "      <td>57.200001</td>\n",
              "      <td>51.367142</td>\n",
              "      <td>68852600</td>\n",
              "      <td>15501500</td>\n",
              "      <td>57.200001</td>\n",
              "      <td>51.367142</td>\n",
              "    </tr>\n",
              "    <tr>\n",
              "      <th>2014-01-07</th>\n",
              "      <td>58.549999</td>\n",
              "      <td>49.698570</td>\n",
              "      <td>57.220001</td>\n",
              "      <td>48.152859</td>\n",
              "      <td>57.700001</td>\n",
              "      <td>49.684284</td>\n",
              "      <td>57.919998</td>\n",
              "      <td>48.500000</td>\n",
              "      <td>77207400</td>\n",
              "      <td>36167600</td>\n",
              "      <td>57.919998</td>\n",
              "      <td>48.500000</td>\n",
              "    </tr>\n",
              "    <tr>\n",
              "      <th>2014-01-08</th>\n",
              "      <td>58.410000</td>\n",
              "      <td>49.425713</td>\n",
              "      <td>57.230000</td>\n",
              "      <td>48.074287</td>\n",
              "      <td>57.599998</td>\n",
              "      <td>48.104286</td>\n",
              "      <td>58.230000</td>\n",
              "      <td>48.712856</td>\n",
              "      <td>56682400</td>\n",
              "      <td>20001100</td>\n",
              "      <td>58.230000</td>\n",
              "      <td>48.712856</td>\n",
              "    </tr>\n",
              "  </tbody>\n",
              "</table>\n",
              "</div>"
            ]
          },
          "metadata": {
            "tags": []
          },
          "execution_count": 51
        }
      ]
    },
    {
      "cell_type": "markdown",
      "metadata": {
        "id": "as-sdJNFSmnV"
      },
      "source": [
        "Indexing into the data with `data['AAPL']` will yield an error because the type of the columns are equity objects and not simple strings. Let's change that using this little piece of Python code. Don't worry about understanding it right now, unless you do, in which case congratulations."
      ]
    },
    {
      "cell_type": "code",
      "metadata": {
        "colab": {
          "base_uri": "https://localhost:8080/",
          "height": 235
        },
        "id": "Qye04Dn3SmnW",
        "outputId": "dd6edc91-ecf9-4ed2-a028-130c419a2995"
      },
      "source": [
        "data.columns = [e[1] for e in data.columns]\n",
        "data.head()"
      ],
      "execution_count": 52,
      "outputs": [
        {
          "output_type": "execute_result",
          "data": {
            "text/plain": [
              "                 AAPL       MSFT       AAPL       MSFT       AAPL       MSFT  \\\n",
              "Date                                                                           \n",
              "2014-01-02  19.893929  37.400002  19.715000  37.099998  19.845715  37.349998   \n",
              "2014-01-03  19.775000  37.220001  19.301071  36.599998  19.745001  37.200001   \n",
              "2014-01-06  19.528570  36.889999  19.057142  36.110001  19.194643  36.849998   \n",
              "2014-01-07  19.498571  36.490002  19.211430  36.209999  19.440001  36.330002   \n",
              "2014-01-08  19.484285  36.139999  19.238930  35.580002  19.243214  36.000000   \n",
              "\n",
              "                 AAPL       MSFT         AAPL        MSFT       AAPL  \\\n",
              "Date                                                                   \n",
              "2014-01-02  19.754642  37.160000  234684800.0  30632200.0  17.598297   \n",
              "2014-01-03  19.320715  36.910000  392467600.0  31134800.0  17.211735   \n",
              "2014-01-06  19.426071  36.130001  412610800.0  43603700.0  17.305593   \n",
              "2014-01-07  19.287144  36.410000  317209200.0  35802800.0  17.181829   \n",
              "2014-01-08  19.409286  35.759998  258529600.0  59971700.0  17.290642   \n",
              "\n",
              "                 MSFT  \n",
              "Date                   \n",
              "2014-01-02  32.057323  \n",
              "2014-01-03  31.841665  \n",
              "2014-01-06  31.168766  \n",
              "2014-01-07  31.410315  \n",
              "2014-01-08  30.849575  "
            ],
            "text/html": [
              "<div>\n",
              "<style scoped>\n",
              "    .dataframe tbody tr th:only-of-type {\n",
              "        vertical-align: middle;\n",
              "    }\n",
              "\n",
              "    .dataframe tbody tr th {\n",
              "        vertical-align: top;\n",
              "    }\n",
              "\n",
              "    .dataframe thead th {\n",
              "        text-align: right;\n",
              "    }\n",
              "</style>\n",
              "<table border=\"1\" class=\"dataframe\">\n",
              "  <thead>\n",
              "    <tr style=\"text-align: right;\">\n",
              "      <th></th>\n",
              "      <th>AAPL</th>\n",
              "      <th>MSFT</th>\n",
              "      <th>AAPL</th>\n",
              "      <th>MSFT</th>\n",
              "      <th>AAPL</th>\n",
              "      <th>MSFT</th>\n",
              "      <th>AAPL</th>\n",
              "      <th>MSFT</th>\n",
              "      <th>AAPL</th>\n",
              "      <th>MSFT</th>\n",
              "      <th>AAPL</th>\n",
              "      <th>MSFT</th>\n",
              "    </tr>\n",
              "    <tr>\n",
              "      <th>Date</th>\n",
              "      <th></th>\n",
              "      <th></th>\n",
              "      <th></th>\n",
              "      <th></th>\n",
              "      <th></th>\n",
              "      <th></th>\n",
              "      <th></th>\n",
              "      <th></th>\n",
              "      <th></th>\n",
              "      <th></th>\n",
              "      <th></th>\n",
              "      <th></th>\n",
              "    </tr>\n",
              "  </thead>\n",
              "  <tbody>\n",
              "    <tr>\n",
              "      <th>2014-01-02</th>\n",
              "      <td>19.893929</td>\n",
              "      <td>37.400002</td>\n",
              "      <td>19.715000</td>\n",
              "      <td>37.099998</td>\n",
              "      <td>19.845715</td>\n",
              "      <td>37.349998</td>\n",
              "      <td>19.754642</td>\n",
              "      <td>37.160000</td>\n",
              "      <td>234684800.0</td>\n",
              "      <td>30632200.0</td>\n",
              "      <td>17.598297</td>\n",
              "      <td>32.057323</td>\n",
              "    </tr>\n",
              "    <tr>\n",
              "      <th>2014-01-03</th>\n",
              "      <td>19.775000</td>\n",
              "      <td>37.220001</td>\n",
              "      <td>19.301071</td>\n",
              "      <td>36.599998</td>\n",
              "      <td>19.745001</td>\n",
              "      <td>37.200001</td>\n",
              "      <td>19.320715</td>\n",
              "      <td>36.910000</td>\n",
              "      <td>392467600.0</td>\n",
              "      <td>31134800.0</td>\n",
              "      <td>17.211735</td>\n",
              "      <td>31.841665</td>\n",
              "    </tr>\n",
              "    <tr>\n",
              "      <th>2014-01-06</th>\n",
              "      <td>19.528570</td>\n",
              "      <td>36.889999</td>\n",
              "      <td>19.057142</td>\n",
              "      <td>36.110001</td>\n",
              "      <td>19.194643</td>\n",
              "      <td>36.849998</td>\n",
              "      <td>19.426071</td>\n",
              "      <td>36.130001</td>\n",
              "      <td>412610800.0</td>\n",
              "      <td>43603700.0</td>\n",
              "      <td>17.305593</td>\n",
              "      <td>31.168766</td>\n",
              "    </tr>\n",
              "    <tr>\n",
              "      <th>2014-01-07</th>\n",
              "      <td>19.498571</td>\n",
              "      <td>36.490002</td>\n",
              "      <td>19.211430</td>\n",
              "      <td>36.209999</td>\n",
              "      <td>19.440001</td>\n",
              "      <td>36.330002</td>\n",
              "      <td>19.287144</td>\n",
              "      <td>36.410000</td>\n",
              "      <td>317209200.0</td>\n",
              "      <td>35802800.0</td>\n",
              "      <td>17.181829</td>\n",
              "      <td>31.410315</td>\n",
              "    </tr>\n",
              "    <tr>\n",
              "      <th>2014-01-08</th>\n",
              "      <td>19.484285</td>\n",
              "      <td>36.139999</td>\n",
              "      <td>19.238930</td>\n",
              "      <td>35.580002</td>\n",
              "      <td>19.243214</td>\n",
              "      <td>36.000000</td>\n",
              "      <td>19.409286</td>\n",
              "      <td>35.759998</td>\n",
              "      <td>258529600.0</td>\n",
              "      <td>59971700.0</td>\n",
              "      <td>17.290642</td>\n",
              "      <td>30.849575</td>\n",
              "    </tr>\n",
              "  </tbody>\n",
              "</table>\n",
              "</div>"
            ]
          },
          "metadata": {
            "tags": []
          },
          "execution_count": 52
        }
      ]
    },
    {
      "cell_type": "code",
      "metadata": {
        "colab": {
          "base_uri": "https://localhost:8080/",
          "height": 235
        },
        "id": "lzRjO8h5wID9",
        "outputId": "c2b2d5b4-7252-40d7-9bfd-b08d37613186"
      },
      "source": [
        "#Example\n",
        "data_ex.columns = [e[1] for e in data_ex.columns]\n",
        "data_ex.head()"
      ],
      "execution_count": 53,
      "outputs": [
        {
          "output_type": "execute_result",
          "data": {
            "text/plain": [
              "                   FB       NFLX         FB       NFLX         FB       NFLX  \\\n",
              "Date                                                                           \n",
              "2014-01-02  55.220001  52.511429  54.189999  51.542858  54.830002  52.401428   \n",
              "2014-01-03  55.650002  52.495712  54.529999  51.842857  55.020000  52.000000   \n",
              "2014-01-06  57.259998  52.044285  54.049999  50.475716  54.419998  51.889999   \n",
              "2014-01-07  58.549999  49.698570  57.220001  48.152859  57.700001  49.684284   \n",
              "2014-01-08  58.410000  49.425713  57.230000  48.074287  57.599998  48.104286   \n",
              "\n",
              "                   FB       NFLX        FB      NFLX         FB       NFLX  \n",
              "Date                                                                        \n",
              "2014-01-02  54.709999  51.831429  43195500  12325600  54.709999  51.831429  \n",
              "2014-01-03  54.560001  51.871429  38246200  10817100  54.560001  51.871429  \n",
              "2014-01-06  57.200001  51.367142  68852600  15501500  57.200001  51.367142  \n",
              "2014-01-07  57.919998  48.500000  77207400  36167600  57.919998  48.500000  \n",
              "2014-01-08  58.230000  48.712856  56682400  20001100  58.230000  48.712856  "
            ],
            "text/html": [
              "<div>\n",
              "<style scoped>\n",
              "    .dataframe tbody tr th:only-of-type {\n",
              "        vertical-align: middle;\n",
              "    }\n",
              "\n",
              "    .dataframe tbody tr th {\n",
              "        vertical-align: top;\n",
              "    }\n",
              "\n",
              "    .dataframe thead th {\n",
              "        text-align: right;\n",
              "    }\n",
              "</style>\n",
              "<table border=\"1\" class=\"dataframe\">\n",
              "  <thead>\n",
              "    <tr style=\"text-align: right;\">\n",
              "      <th></th>\n",
              "      <th>FB</th>\n",
              "      <th>NFLX</th>\n",
              "      <th>FB</th>\n",
              "      <th>NFLX</th>\n",
              "      <th>FB</th>\n",
              "      <th>NFLX</th>\n",
              "      <th>FB</th>\n",
              "      <th>NFLX</th>\n",
              "      <th>FB</th>\n",
              "      <th>NFLX</th>\n",
              "      <th>FB</th>\n",
              "      <th>NFLX</th>\n",
              "    </tr>\n",
              "    <tr>\n",
              "      <th>Date</th>\n",
              "      <th></th>\n",
              "      <th></th>\n",
              "      <th></th>\n",
              "      <th></th>\n",
              "      <th></th>\n",
              "      <th></th>\n",
              "      <th></th>\n",
              "      <th></th>\n",
              "      <th></th>\n",
              "      <th></th>\n",
              "      <th></th>\n",
              "      <th></th>\n",
              "    </tr>\n",
              "  </thead>\n",
              "  <tbody>\n",
              "    <tr>\n",
              "      <th>2014-01-02</th>\n",
              "      <td>55.220001</td>\n",
              "      <td>52.511429</td>\n",
              "      <td>54.189999</td>\n",
              "      <td>51.542858</td>\n",
              "      <td>54.830002</td>\n",
              "      <td>52.401428</td>\n",
              "      <td>54.709999</td>\n",
              "      <td>51.831429</td>\n",
              "      <td>43195500</td>\n",
              "      <td>12325600</td>\n",
              "      <td>54.709999</td>\n",
              "      <td>51.831429</td>\n",
              "    </tr>\n",
              "    <tr>\n",
              "      <th>2014-01-03</th>\n",
              "      <td>55.650002</td>\n",
              "      <td>52.495712</td>\n",
              "      <td>54.529999</td>\n",
              "      <td>51.842857</td>\n",
              "      <td>55.020000</td>\n",
              "      <td>52.000000</td>\n",
              "      <td>54.560001</td>\n",
              "      <td>51.871429</td>\n",
              "      <td>38246200</td>\n",
              "      <td>10817100</td>\n",
              "      <td>54.560001</td>\n",
              "      <td>51.871429</td>\n",
              "    </tr>\n",
              "    <tr>\n",
              "      <th>2014-01-06</th>\n",
              "      <td>57.259998</td>\n",
              "      <td>52.044285</td>\n",
              "      <td>54.049999</td>\n",
              "      <td>50.475716</td>\n",
              "      <td>54.419998</td>\n",
              "      <td>51.889999</td>\n",
              "      <td>57.200001</td>\n",
              "      <td>51.367142</td>\n",
              "      <td>68852600</td>\n",
              "      <td>15501500</td>\n",
              "      <td>57.200001</td>\n",
              "      <td>51.367142</td>\n",
              "    </tr>\n",
              "    <tr>\n",
              "      <th>2014-01-07</th>\n",
              "      <td>58.549999</td>\n",
              "      <td>49.698570</td>\n",
              "      <td>57.220001</td>\n",
              "      <td>48.152859</td>\n",
              "      <td>57.700001</td>\n",
              "      <td>49.684284</td>\n",
              "      <td>57.919998</td>\n",
              "      <td>48.500000</td>\n",
              "      <td>77207400</td>\n",
              "      <td>36167600</td>\n",
              "      <td>57.919998</td>\n",
              "      <td>48.500000</td>\n",
              "    </tr>\n",
              "    <tr>\n",
              "      <th>2014-01-08</th>\n",
              "      <td>58.410000</td>\n",
              "      <td>49.425713</td>\n",
              "      <td>57.230000</td>\n",
              "      <td>48.074287</td>\n",
              "      <td>57.599998</td>\n",
              "      <td>48.104286</td>\n",
              "      <td>58.230000</td>\n",
              "      <td>48.712856</td>\n",
              "      <td>56682400</td>\n",
              "      <td>20001100</td>\n",
              "      <td>58.230000</td>\n",
              "      <td>48.712856</td>\n",
              "    </tr>\n",
              "  </tbody>\n",
              "</table>\n",
              "</div>"
            ]
          },
          "metadata": {
            "tags": []
          },
          "execution_count": 53
        }
      ]
    },
    {
      "cell_type": "markdown",
      "metadata": {
        "id": "yDF7OZVvSmnX"
      },
      "source": [
        "Much nicer, now we can index. Indexing into the 2D dataframe will give us a 1D series object. The index for the series is timestamps, the value upon index is a price. Similar to an array except instead of integer indecies it's times."
      ]
    },
    {
      "cell_type": "code",
      "metadata": {
        "id": "OjDDBpBQSmnY",
        "colab": {
          "base_uri": "https://localhost:8080/",
          "height": 235
        },
        "outputId": "92ec8f49-7698-4227-8d23-0bdb93c44f49"
      },
      "source": [
        "data['MSFT'].head()"
      ],
      "execution_count": null,
      "outputs": [
        {
          "output_type": "execute_result",
          "data": {
            "text/plain": [
              "                 MSFT       MSFT       MSFT       MSFT        MSFT       MSFT\n",
              "Date                                                                         \n",
              "2014-01-02  37.400002  37.099998  37.349998  37.160000  30632200.0  32.057323\n",
              "2014-01-03  37.220001  36.599998  37.200001  36.910000  31134800.0  31.841665\n",
              "2014-01-06  36.889999  36.110001  36.849998  36.130001  43603700.0  31.168766\n",
              "2014-01-07  36.490002  36.209999  36.330002  36.410000  35802800.0  31.410315\n",
              "2014-01-08  36.139999  35.580002  36.000000  35.759998  59971700.0  30.849575"
            ],
            "text/html": [
              "<div>\n",
              "<style scoped>\n",
              "    .dataframe tbody tr th:only-of-type {\n",
              "        vertical-align: middle;\n",
              "    }\n",
              "\n",
              "    .dataframe tbody tr th {\n",
              "        vertical-align: top;\n",
              "    }\n",
              "\n",
              "    .dataframe thead th {\n",
              "        text-align: right;\n",
              "    }\n",
              "</style>\n",
              "<table border=\"1\" class=\"dataframe\">\n",
              "  <thead>\n",
              "    <tr style=\"text-align: right;\">\n",
              "      <th></th>\n",
              "      <th>MSFT</th>\n",
              "      <th>MSFT</th>\n",
              "      <th>MSFT</th>\n",
              "      <th>MSFT</th>\n",
              "      <th>MSFT</th>\n",
              "      <th>MSFT</th>\n",
              "    </tr>\n",
              "    <tr>\n",
              "      <th>Date</th>\n",
              "      <th></th>\n",
              "      <th></th>\n",
              "      <th></th>\n",
              "      <th></th>\n",
              "      <th></th>\n",
              "      <th></th>\n",
              "    </tr>\n",
              "  </thead>\n",
              "  <tbody>\n",
              "    <tr>\n",
              "      <th>2014-01-02</th>\n",
              "      <td>37.400002</td>\n",
              "      <td>37.099998</td>\n",
              "      <td>37.349998</td>\n",
              "      <td>37.160000</td>\n",
              "      <td>30632200.0</td>\n",
              "      <td>32.057323</td>\n",
              "    </tr>\n",
              "    <tr>\n",
              "      <th>2014-01-03</th>\n",
              "      <td>37.220001</td>\n",
              "      <td>36.599998</td>\n",
              "      <td>37.200001</td>\n",
              "      <td>36.910000</td>\n",
              "      <td>31134800.0</td>\n",
              "      <td>31.841665</td>\n",
              "    </tr>\n",
              "    <tr>\n",
              "      <th>2014-01-06</th>\n",
              "      <td>36.889999</td>\n",
              "      <td>36.110001</td>\n",
              "      <td>36.849998</td>\n",
              "      <td>36.130001</td>\n",
              "      <td>43603700.0</td>\n",
              "      <td>31.168766</td>\n",
              "    </tr>\n",
              "    <tr>\n",
              "      <th>2014-01-07</th>\n",
              "      <td>36.490002</td>\n",
              "      <td>36.209999</td>\n",
              "      <td>36.330002</td>\n",
              "      <td>36.410000</td>\n",
              "      <td>35802800.0</td>\n",
              "      <td>31.410315</td>\n",
              "    </tr>\n",
              "    <tr>\n",
              "      <th>2014-01-08</th>\n",
              "      <td>36.139999</td>\n",
              "      <td>35.580002</td>\n",
              "      <td>36.000000</td>\n",
              "      <td>35.759998</td>\n",
              "      <td>59971700.0</td>\n",
              "      <td>30.849575</td>\n",
              "    </tr>\n",
              "  </tbody>\n",
              "</table>\n",
              "</div>"
            ]
          },
          "metadata": {
            "tags": []
          },
          "execution_count": 32
        }
      ]
    },
    {
      "cell_type": "code",
      "metadata": {
        "id": "21sS5wPfxjSL",
        "colab": {
          "base_uri": "https://localhost:8080/",
          "height": 235
        },
        "outputId": "e7d01e35-8591-4464-c2b5-bee5ad5181b1"
      },
      "source": [
        "#Example\n",
        "data_ex['FB'].head()"
      ],
      "execution_count": 54,
      "outputs": [
        {
          "output_type": "execute_result",
          "data": {
            "text/plain": [
              "                   FB         FB         FB         FB        FB         FB\n",
              "Date                                                                       \n",
              "2014-01-02  55.220001  54.189999  54.830002  54.709999  43195500  54.709999\n",
              "2014-01-03  55.650002  54.529999  55.020000  54.560001  38246200  54.560001\n",
              "2014-01-06  57.259998  54.049999  54.419998  57.200001  68852600  57.200001\n",
              "2014-01-07  58.549999  57.220001  57.700001  57.919998  77207400  57.919998\n",
              "2014-01-08  58.410000  57.230000  57.599998  58.230000  56682400  58.230000"
            ],
            "text/html": [
              "<div>\n",
              "<style scoped>\n",
              "    .dataframe tbody tr th:only-of-type {\n",
              "        vertical-align: middle;\n",
              "    }\n",
              "\n",
              "    .dataframe tbody tr th {\n",
              "        vertical-align: top;\n",
              "    }\n",
              "\n",
              "    .dataframe thead th {\n",
              "        text-align: right;\n",
              "    }\n",
              "</style>\n",
              "<table border=\"1\" class=\"dataframe\">\n",
              "  <thead>\n",
              "    <tr style=\"text-align: right;\">\n",
              "      <th></th>\n",
              "      <th>FB</th>\n",
              "      <th>FB</th>\n",
              "      <th>FB</th>\n",
              "      <th>FB</th>\n",
              "      <th>FB</th>\n",
              "      <th>FB</th>\n",
              "    </tr>\n",
              "    <tr>\n",
              "      <th>Date</th>\n",
              "      <th></th>\n",
              "      <th></th>\n",
              "      <th></th>\n",
              "      <th></th>\n",
              "      <th></th>\n",
              "      <th></th>\n",
              "    </tr>\n",
              "  </thead>\n",
              "  <tbody>\n",
              "    <tr>\n",
              "      <th>2014-01-02</th>\n",
              "      <td>55.220001</td>\n",
              "      <td>54.189999</td>\n",
              "      <td>54.830002</td>\n",
              "      <td>54.709999</td>\n",
              "      <td>43195500</td>\n",
              "      <td>54.709999</td>\n",
              "    </tr>\n",
              "    <tr>\n",
              "      <th>2014-01-03</th>\n",
              "      <td>55.650002</td>\n",
              "      <td>54.529999</td>\n",
              "      <td>55.020000</td>\n",
              "      <td>54.560001</td>\n",
              "      <td>38246200</td>\n",
              "      <td>54.560001</td>\n",
              "    </tr>\n",
              "    <tr>\n",
              "      <th>2014-01-06</th>\n",
              "      <td>57.259998</td>\n",
              "      <td>54.049999</td>\n",
              "      <td>54.419998</td>\n",
              "      <td>57.200001</td>\n",
              "      <td>68852600</td>\n",
              "      <td>57.200001</td>\n",
              "    </tr>\n",
              "    <tr>\n",
              "      <th>2014-01-07</th>\n",
              "      <td>58.549999</td>\n",
              "      <td>57.220001</td>\n",
              "      <td>57.700001</td>\n",
              "      <td>57.919998</td>\n",
              "      <td>77207400</td>\n",
              "      <td>57.919998</td>\n",
              "    </tr>\n",
              "    <tr>\n",
              "      <th>2014-01-08</th>\n",
              "      <td>58.410000</td>\n",
              "      <td>57.230000</td>\n",
              "      <td>57.599998</td>\n",
              "      <td>58.230000</td>\n",
              "      <td>56682400</td>\n",
              "      <td>58.230000</td>\n",
              "    </tr>\n",
              "  </tbody>\n",
              "</table>\n",
              "</div>"
            ]
          },
          "metadata": {
            "tags": []
          },
          "execution_count": 54
        }
      ]
    },
    {
      "cell_type": "markdown",
      "metadata": {
        "id": "HhuaXE07SmnZ"
      },
      "source": [
        "##Histogram\n",
        "\n",
        "A histogram is a visualization of how frequent different values of data are. By displaying a frequency distribution using bars, it lets us quickly see where most of the observations are clustered. The height of each bar represents the number of observations that lie in each interval. You can think of a histogram as an empirical and discrete Probability Density Function (PDF)."
      ]
    },
    {
      "cell_type": "code",
      "metadata": {
        "id": "K6gkTMvUSmna",
        "colab": {
          "base_uri": "https://localhost:8080/",
          "height": 295
        },
        "outputId": "53bc2bcc-8225-4dc9-851e-354d39341e9a"
      },
      "source": [
        "# Plot a histogram using 20 bins\n",
        "plt.hist(data['MSFT'], bins=20)\n",
        "plt.xlabel('Price')\n",
        "plt.ylabel('Number of Days Observed')\n",
        "plt.title('Frequency Distribution of MSFT Prices, 2014');"
      ],
      "execution_count": 55,
      "outputs": [
        {
          "output_type": "display_data",
          "data": {
            "image/png": "[encoded data removed]",
            "text/plain": [
              "<Figure size 432x288 with 1 Axes>"
            ]
          },
          "metadata": {
            "tags": [],
            "needs_background": "light"
          }
        }
      ]
    },
    {
      "cell_type": "code",
      "metadata": {
        "colab": {
          "base_uri": "https://localhost:8080/",
          "height": 295
        },
        "id": "5k0q4qvJygGD",
        "outputId": "aeb1ec86-d05d-4810-b897-71de0ebb9e4c"
      },
      "source": [
        "#Example\n",
        "plt.hist(data_ex['FB'], bins=20)\n",
        "plt.xlabel('Price')\n",
        "plt.ylabel('Number of Days Observed')\n",
        "plt.title('Frequency Distribution of FB Prices, 2014');"
      ],
      "execution_count": 56,
      "outputs": [
        {
          "output_type": "display_data",
          "data": {
            "image/png": "[encoded data removed]",
            "text/plain": [
              "<Figure size 432x288 with 1 Axes>"
            ]
          },
          "metadata": {
            "tags": [],
            "needs_background": "light"
          }
        }
      ]
    },
    {
      "cell_type": "markdown",
      "metadata": {
        "id": "l3eZR0xnSmnb"
      },
      "source": [
        "### Returns Histogram\n",
        "\n",
        "In finance rarely will we look at the distribution of prices. The reason for this is that prices are non-stationary and move around a lot. For more info on non-stationarity please see [this lecture](https://www.quantopian.com/lectures/integration-cointegration-and-stationarity). Instead we will use daily returns. Let's try that now."
      ]
    },
    {
      "cell_type": "code",
      "metadata": {
        "id": "jNMVwi8TSmnb",
        "colab": {
          "base_uri": "https://localhost:8080/",
          "height": 295
        },
        "outputId": "6162eee5-a022-4bec-d955-ce54fbc70061"
      },
      "source": [
        "# Remove the first element because percent change from nothing to something is NaN\n",
        "R = data['MSFT'].pct_change()[1:]\n",
        "\n",
        "# Plot a histogram using 20 bins\n",
        "plt.hist(R, bins=20)\n",
        "plt.xlabel('Return')\n",
        "plt.ylabel('Number of Days Observed')\n",
        "plt.title('Frequency Distribution of MSFT Returns, 2014');"
      ],
      "execution_count": 57,
      "outputs": [
        {
          "output_type": "display_data",
          "data": {
            "image/png": "[encoded data removed]",
            "text/plain": [
              "<Figure size 432x288 with 1 Axes>"
            ]
          },
          "metadata": {
            "tags": [],
            "needs_background": "light"
          }
        }
      ]
    },
    {
      "cell_type": "code",
      "metadata": {
        "colab": {
          "base_uri": "https://localhost:8080/",
          "height": 295
        },
        "id": "xgwenAlyzDMI",
        "outputId": "2a86c3f1-3bea-44f5-db21-b1ba2cd47b44"
      },
      "source": [
        "#Example\n",
        "R = data_ex['FB'].pct_change()[1:]\n",
        "\n",
        "plt.hist(R, bins=20)\n",
        "plt.xlabel('Return')\n",
        "plt.ylabel('Number of Days Observed')\n",
        "plt.title('Frequency Distribution of FB Returns, 2014');"
      ],
      "execution_count": 58,
      "outputs": [
        {
          "output_type": "display_data",
          "data": {
            "image/png": "[encoded data removed]",
            "text/plain": [
              "<Figure size 432x288 with 1 Axes>"
            ]
          },
          "metadata": {
            "tags": [],
            "needs_background": "light"
          }
        }
      ]
    },
    {
      "cell_type": "markdown",
      "metadata": {
        "id": "4ES4mqQvSmnc"
      },
      "source": [
        "The graph above shows, for example, that the daily returns of MSFT were above 0.03 on fewer than 5 days in 2014. Note that we are completely discarding the dates corresponding to these returns. \n",
        "\n",
        "#####IMPORTANT: Note also that this does not imply that future returns will have the same distribution."
      ]
    },
    {
      "cell_type": "markdown",
      "metadata": {
        "id": "OGzsE0pDSmnd"
      },
      "source": [
        "### Cumulative Histogram (Discrete Estimated CDF)\n",
        "\n",
        "An alternative way to display the data would be using a cumulative distribution function, in which the height of a bar represents the number of observations that lie in that bin or in one of the previous ones. This graph is always nondecreasing since you cannot have a negative number of observations. The choice of graph depends on the information you are interested in."
      ]
    },
    {
      "cell_type": "code",
      "metadata": {
        "id": "fR_f55SESmnd",
        "colab": {
          "base_uri": "https://localhost:8080/",
          "height": 295
        },
        "outputId": "c7311eb8-5aa7-43f9-ed1d-20073802cb19"
      },
      "source": [
        "# Remove the first element because percent change from nothing to something is NaN\n",
        "R = data['MSFT'].pct_change()[1:]\n",
        "\n",
        "# Plot a histogram using 20 bins\n",
        "plt.hist(R, bins=20, cumulative=True)\n",
        "plt.xlabel('Return')\n",
        "plt.ylabel('Number of Days Observed')\n",
        "plt.title('Cumulative Distribution of MSFT Returns, 2014');"
      ],
      "execution_count": 59,
      "outputs": [
        {
          "output_type": "display_data",
          "data": {
            "image/png": "[encoded data removed]",
            "text/plain": [
              "<Figure size 432x288 with 1 Axes>"
            ]
          },
          "metadata": {
            "tags": [],
            "needs_background": "light"
          }
        }
      ]
    },
    {
      "cell_type": "code",
      "metadata": {
        "colab": {
          "base_uri": "https://localhost:8080/",
          "height": 295
        },
        "id": "IZppHeypzsKd",
        "outputId": "185b0f9b-6bf3-4db7-a0e8-913ae4af1a73"
      },
      "source": [
        "# Example\n",
        "R = data_ex['FB'].pct_change()[1:]\n",
        "\n",
        "plt.hist(R, bins=20, cumulative=True)\n",
        "plt.xlabel('Return')\n",
        "plt.ylabel('Number of Days Observed')\n",
        "plt.title('Cumulative Distribution of FB Returns, 2014');"
      ],
      "execution_count": 60,
      "outputs": [
        {
          "output_type": "display_data",
          "data": {
            "image/png": "[encoded data removed]",
            "text/plain": [
              "<Figure size 432x288 with 1 Axes>"
            ]
          },
          "metadata": {
            "tags": [],
            "needs_background": "light"
          }
        }
      ]
    },
    {
      "cell_type": "markdown",
      "metadata": {
        "id": "GpRK87UCSmne"
      },
      "source": [
        "## Scatter plot\n",
        "\n",
        "A scatter plot is useful for visualizing the relationship between two data sets. We use two data sets which have some sort of correspondence, such as the date on which the measurement was taken. Each point represents two corresponding values from the two data sets. However, we don't plot the date that the measurements were taken on."
      ]
    },
    {
      "cell_type": "code",
      "metadata": {
        "id": "MVeeA24PSmnf",
        "colab": {
          "base_uri": "https://localhost:8080/",
          "height": 295
        },
        "outputId": "01a8a78a-ef6c-46b8-c3f2-0484b9192eaf"
      },
      "source": [
        "plt.scatter(data['MSFT'], data['AAPL'])\n",
        "plt.xlabel('MSFT')\n",
        "plt.ylabel('AAPL')\n",
        "plt.title('Daily Prices in 2014');"
      ],
      "execution_count": 61,
      "outputs": [
        {
          "output_type": "display_data",
          "data": {
            "image/png": "[encoded data removed]",
            "text/plain": [
              "<Figure size 432x288 with 1 Axes>"
            ]
          },
          "metadata": {
            "tags": [],
            "needs_background": "light"
          }
        }
      ]
    },
    {
      "cell_type": "code",
      "metadata": {
        "colab": {
          "base_uri": "https://localhost:8080/",
          "height": 295
        },
        "id": "bV0IaEA70QyS",
        "outputId": "d80f3b7a-3065-401f-dff9-af620b124b89"
      },
      "source": [
        "#Example\n",
        "plt.scatter(data_ex['FB'], data_ex['NFLX'])\n",
        "plt.xlabel('FB')\n",
        "plt.ylabel('NFLX')\n",
        "plt.title('Daily Prices in 2014');"
      ],
      "execution_count": 63,
      "outputs": [
        {
          "output_type": "display_data",
          "data": {
            "image/png": "[encoded data removed]",
            "text/plain": [
              "<Figure size 432x288 with 1 Axes>"
            ]
          },
          "metadata": {
            "tags": [],
            "needs_background": "light"
          }
        }
      ]
    },
    {
      "cell_type": "code",
      "metadata": {
        "id": "qfrsoirvSmng",
        "colab": {
          "base_uri": "https://localhost:8080/",
          "height": 295
        },
        "outputId": "8014ce06-5116-42f7-dd58-1516458b89fe"
      },
      "source": [
        "R_msft = data['MSFT'].pct_change()[1:]\n",
        "R_aapl = data['AAPL'].pct_change()[1:]\n",
        "\n",
        "plt.scatter(R_msft, R_aapl)\n",
        "plt.xlabel('MSFT')\n",
        "plt.ylabel('AAPL')\n",
        "plt.title('Daily Returns in 2014');"
      ],
      "execution_count": 64,
      "outputs": [
        {
          "output_type": "display_data",
          "data": {
            "image/png": "[encoded data removed]",
            "text/plain": [
              "<Figure size 432x288 with 1 Axes>"
            ]
          },
          "metadata": {
            "tags": [],
            "needs_background": "light"
          }
        }
      ]
    },
    {
      "cell_type": "code",
      "metadata": {
        "colab": {
          "base_uri": "https://localhost:8080/",
          "height": 295
        },
        "id": "SdDg8DQG0iOI",
        "outputId": "65332653-a7de-4cd7-cbdf-11428e275f38"
      },
      "source": [
        "R_fb= data_ex['FB'].pct_change()[1:]\n",
        "R_nflx = data_ex['NFLX'].pct_change()[1:]\n",
        "\n",
        "plt.scatter(R_fb, R_nflx)\n",
        "plt.xlabel('FB')\n",
        "plt.ylabel('NFLX')\n",
        "plt.title('Daily Returns in 2014');"
      ],
      "execution_count": 65,
      "outputs": [
        {
          "output_type": "display_data",
          "data": {
            "image/png": "[encoded data removed]",
            "text/plain": [
              "<Figure size 432x288 with 1 Axes>"
            ]
          },
          "metadata": {
            "tags": [],
            "needs_background": "light"
          }
        }
      ]
    },
    {
      "cell_type": "markdown",
      "metadata": {
        "id": "jQZGCXCYSmng"
      },
      "source": [
        "# Line graph\n",
        "\n",
        "A line graph can be used when we want to track the development of the y value as the x value changes. For instance, when we are plotting the price of a stock, showing it as a line graph instead of just plotting the data points makes it easier to follow the price over time. This necessarily involves \"connecting the dots\" between the data points, which can mask out changes that happened between the time we took measurements."
      ]
    },
    {
      "cell_type": "code",
      "metadata": {
        "id": "46lkSfi-Smnh",
        "colab": {
          "base_uri": "https://localhost:8080/",
          "height": 398
        },
        "outputId": "55ac45dc-d096-4dd2-b26f-4f0d716b9f90"
      },
      "source": [
        "plt.plot(data['MSFT'])\n",
        "plt.plot(data['AAPL'])\n",
        "plt.ylabel('Price')\n",
        "plt.legend(['MSFT', 'AAPL']);"
      ],
      "execution_count": 66,
      "outputs": [
        {
          "output_type": "stream",
          "text": [
            "/usr/local/lib/python2.7/dist-packages/pandas/plotting/_converter.py:129: FutureWarning: Using an implicitly registered datetime converter for a matplotlib plotting method. The converter was registered by pandas on import. Future versions of pandas will require you to explicitly register matplotlib converters.\n",
            "\n",
            "To register the converters:\n",
            "\t>>> from pandas.plotting import register_matplotlib_converters\n",
            "\t>>> register_matplotlib_converters()\n",
            "  warnings.warn(msg, FutureWarning)\n"
          ],
          "name": "stderr"
        },
        {
          "output_type": "display_data",
          "data": {
            "image/png": "[encoded data removed]",
            "text/plain": [
              "<Figure size 432x288 with 1 Axes>"
            ]
          },
          "metadata": {
            "tags": [],
            "needs_background": "light"
          }
        }
      ]
    },
    {
      "cell_type": "code",
      "metadata": {
        "colab": {
          "base_uri": "https://localhost:8080/",
          "height": 276
        },
        "id": "OeLU34tp1NOT",
        "outputId": "c7f3f477-d07c-4753-89d6-001fbe585844"
      },
      "source": [
        "#Example\n",
        "plt.plot(data_ex['FB'])\n",
        "plt.plot(data_ex['NFLX'])\n",
        "plt.ylabel('Price')\n",
        "plt.legend(['FB', 'NFLX']);"
      ],
      "execution_count": 67,
      "outputs": [
        {
          "output_type": "display_data",
          "data": {
            "image/png": "[encoded data removed]",
            "text/plain": [
              "<Figure size 432x288 with 1 Axes>"
            ]
          },
          "metadata": {
            "tags": [],
            "needs_background": "light"
          }
        }
      ]
    },
    {
      "cell_type": "code",
      "metadata": {
        "id": "EeklzmCeSmnl",
        "colab": {
          "base_uri": "https://localhost:8080/",
          "height": 281
        },
        "outputId": "0f02a8e8-1378-4063-f3dc-8d03f1655cc5"
      },
      "source": [
        "# Remove the first element because percent change from nothing to something is NaN\n",
        "R = data['MSFT'].pct_change()[1:]\n",
        "\n",
        "plt.plot(R)\n",
        "plt.ylabel('Return')\n",
        "plt.title('MSFT Returns');"
      ],
      "execution_count": 68,
      "outputs": [
        {
          "output_type": "display_data",
          "data": {
            "image/png": "[encoded data removed]",
            "text/plain": [
              "<Figure size 432x288 with 1 Axes>"
            ]
          },
          "metadata": {
            "tags": [],
            "needs_background": "light"
          }
        }
      ]
    },
    {
      "cell_type": "code",
      "metadata": {
        "colab": {
          "base_uri": "https://localhost:8080/",
          "height": 281
        },
        "id": "_UEX8cqm1dCp",
        "outputId": "417b8d68-dccf-486b-d441-08deb2fedc8c"
      },
      "source": [
        "#Example\n",
        "R = data_ex['FB'].pct_change()[1:]\n",
        "\n",
        "plt.plot(R)\n",
        "plt.ylabel('Return')\n",
        "plt.title('FB Returns');"
      ],
      "execution_count": 69,
      "outputs": [
        {
          "output_type": "display_data",
          "data": {
            "image/png": "[encoded data removed]",
            "text/plain": [
              "<Figure size 432x288 with 1 Axes>"
            ]
          },
          "metadata": {
            "tags": [],
            "needs_background": "light"
          }
        }
      ]
    },
    {
      "cell_type": "markdown",
      "metadata": {
        "id": "K4HX8YscSmnm"
      },
      "source": [
        "## Never Assume Conditions Hold\n",
        "\n",
        "Again, whenever using plots to visualize data, do not assume you can test a hypothesis by looking at a graph. Also do not assume that because a distribution or trend used to be true, it is still true. In general much more sophisticated and careful validation is required to test whether models hold. Plots are mainly useful when initially deciding how your models should work."
      ]
    },
    {
      "cell_type": "markdown",
      "metadata": {
        "id": "5DN22kSeSmnn"
      },
      "source": [
        "*This presentation is for informational purposes only and does not constitute an offer to sell, a solicitation to buy, or a recommendation for any security; nor does it constitute an offer to provide investment advisory or other services by Quantopian, Inc. (\"Quantopian\"). Nothing contained herein constitutes investment advice or offers any opinion with respect to the suitability of any security, and any views expressed herein should not be taken as advice to buy, sell, or hold any security or as an endorsement of any security or company.  In preparing the information contained herein, Quantopian, Inc. has not taken into account the investment needs, objectives, and financial circumstances of any particular investor. Any views expressed and data illustrated herein were prepared based upon information, believed to be reliable, available to Quantopian, Inc. at the time of publication. Quantopian makes no guarantees as to their accuracy or completeness. All information is subject to change and may quickly become unreliable for various reasons, including changes in market conditions or economic circumstances.*"
      ]
    }
  ]
}