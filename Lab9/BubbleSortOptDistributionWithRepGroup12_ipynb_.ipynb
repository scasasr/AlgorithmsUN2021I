{
  "nbformat": 4,
  "nbformat_minor": 0,
  "metadata": {
    "colab": {
      "name": "BubbleSortOptDistributionWithRepGroup12.ipynb.",
      "provenance": [],
      "collapsed_sections": [],
      "authorship_tag": "ABX9TyMyssGRpQwYmRdeOW1s9zu1",
      "include_colab_link": true
    },
    "kernelspec": {
      "name": "python3",
      "display_name": "Python 3"
    },
    "language_info": {
      "name": "python"
    }
  },
  "cells": [
    {
      "cell_type": "markdown",
      "metadata": {
        "id": "view-in-github",
        "colab_type": "text"
      },
      "source": [
        "<a href=\"https://colab.research.google.com/github/scasasr/AlgorithmsUN2021I/blob/main/Lab9/BubbleSortOptDistributionWithRepGroup12_ipynb_.ipynb\" target=\"_parent\"><img src=\"https://colab.research.google.com/assets/colab-badge.svg\" alt=\"Open In Colab\"/></a>"
      ]
    },
    {
      "cell_type": "markdown",
      "metadata": {
        "id": "Ac6qtC4F7YOB"
      },
      "source": [
        "# Bubble sort optimized time complexity histograms for permutations of  $n$  different elements\n",
        "\n",
        "## Best case - increasingly sorted array ($n - 1$ comparisons + $0$ swaps) - $t_b(n) = n - 1 = \\Theta(n)$\n",
        "\n",
        "## Worst case - decreasingly sorted array ($\\frac{n^2-n}{2}$ comparisons + $\\frac{n^2-n}{2}$  swaps) - $t_w(n) = n^2-n = \\Theta(n^2) $\n",
        "\n",
        "## Average case - expected number of comparisons + swaps on random unifrom permutation of $n$ different elements $t_a(n) = \\frac{57}{80}n^2 - \\frac{59}{80}n + \\frac{2}{15}= \\Theta(n^2) $"
      ]
    },
    {
      "cell_type": "code",
      "metadata": {
        "colab": {
          "base_uri": "https://localhost:8080/"
        },
        "id": "CCSqRafR7Bh_",
        "outputId": "4021ca98-8aa9-4cac-b3ef-eb1ec139c2c8"
      },
      "source": [
        "from itertools import permutations\n",
        " \n",
        "n = 3\n",
        "perm = permutations(range(1,n+1))\n",
        "\n",
        "ls =  [] \n",
        "c = 0\n",
        "# Print the obtained permutations\n",
        "for i in list(perm):\n",
        "    print(i)\n",
        "    c += 1\n",
        "\n",
        "print(c)"
      ],
      "execution_count": 1,
      "outputs": [
        {
          "output_type": "stream",
          "text": [
            "(1, 2, 3)\n",
            "(1, 3, 2)\n",
            "(2, 1, 3)\n",
            "(2, 3, 1)\n",
            "(3, 1, 2)\n",
            "(3, 2, 1)\n",
            "6\n"
          ],
          "name": "stdout"
        }
      ]
    },
    {
      "cell_type": "code",
      "metadata": {
        "id": "TjF4UzxR9gCz"
      },
      "source": [
        "def bubbleSortOpt(arr):\n",
        "    steps = 0\n",
        "    n = len(arr)\n",
        "  \n",
        "    # Traverse through all array elements\n",
        "    for i in range(n):\n",
        "        swapped = False\n",
        " \n",
        "        # Last i elements are already\n",
        "        #  in place\n",
        "        for j in range(0, n-i-1):\n",
        "  \n",
        "            # traverse the array from 0 to\n",
        "            # n-i-1. Swap if the element\n",
        "            # found is greater than the\n",
        "            # next element\n",
        "            steps += 1\n",
        "            if arr[j] > arr[j+1] :\n",
        "                arr[j], arr[j+1] = arr[j+1], arr[j]\n",
        "                swapped = True\n",
        "                steps += 1\n",
        " \n",
        "        # IF no two elements were swapped\n",
        "        # by inner loop, then break\n",
        "        if swapped == False:\n",
        "            break\n",
        "    return steps"
      ],
      "execution_count": 4,
      "outputs": []
    },
    {
      "cell_type": "code",
      "metadata": {
        "colab": {
          "base_uri": "https://localhost:8080/",
          "height": 454
        },
        "id": "BesXjr26_716",
        "outputId": "b7a64f96-8a62-42a9-86e7-0d3605d039f7"
      },
      "source": [
        "from itertools import permutations\n",
        "import matplotlib.pyplot as plt\n",
        "import numpy as np \n",
        "import math\n",
        "\n",
        "n = 3\n",
        "perm = permutations(range(1,n+1))\n",
        "\n",
        "times =  [] \n",
        "# Print the obtained permutations\n",
        "for i in list(perm):\n",
        "    i = list(i)\n",
        "    times.append(bubbleSortOpt(i))\n",
        "\n",
        "b = np.array(range(min(times)-1,max(times)+2) ) +0.5\n",
        "plt.hist(times,bins=b)\n",
        "plt.title(\"Optimized Bubble Sort\")\n",
        "plt.xlabel(\"Steps =comparisons + swaps \")\n",
        "plt.ylabel(\"Frequency\")\n",
        "plt.show()\n",
        "    \n",
        "print(\"n\",n)  \n",
        "print(\"number of permutations n! =\",math.factorial(n)) \n",
        "print(\"exp min =\",min(times))\n",
        "print(\"min formula (n-1) =\",(n-1))\n",
        "print(\"exp max =\",max(times))\n",
        "print(\"max formula (n-1)*n =\",(n-1)*n)\n",
        "print(\"exp mean =\",np.mean(times))\n",
        "print(\"mean formula 57/80*n**2 - 59/80*n + 2/15 =\",(57/80)*(n**2)-(59/80)*n+(2/15))\n",
        "print(\"stdev\",np.std(times))"
      ],
      "execution_count": 42,
      "outputs": [
        {
          "output_type": "display_data",
          "data": {
            "image/png": "[encoded data removed]",
            "text/plain": [
              "<Figure size 432x288 with 1 Axes>"
            ]
          },
          "metadata": {
            "tags": [],
            "needs_background": "light"
          }
        },
        {
          "output_type": "stream",
          "text": [
            "n 3\n",
            "number of permutations n! = 6\n",
            "exp min = 2\n",
            "min formula (n-1) = 2\n",
            "exp max = 6\n",
            "max formula (n-1)*n = 6\n",
            "exp mean = 4.333333333333333\n",
            "mean formula 57/80*n**2 - 59/80*n + 2/15 = 4.333333333333334\n",
            "stdev 1.247219128924647\n"
          ],
          "name": "stdout"
        }
      ]
    },
    {
      "cell_type": "code",
      "metadata": {
        "colab": {
          "base_uri": "https://localhost:8080/",
          "height": 454
        },
        "id": "-_gtIYwlnsYU",
        "outputId": "30fdc169-2516-410e-c1f6-8756bf876e23"
      },
      "source": [
        "from itertools import permutations\n",
        "import matplotlib.pyplot as plt\n",
        "import numpy as np \n",
        "import math\n",
        "\n",
        "n = 4\n",
        "perm = permutations(range(1,n+1))\n",
        "\n",
        "times =  [] \n",
        "# Print the obtained permutations\n",
        "for i in list(perm):\n",
        "    i = list(i)\n",
        "    times.append(bubbleSortOpt(i))\n",
        "\n",
        "b = np.array(range(min(times)-1,max(times)+2) ) +0.5\n",
        "plt.hist(times,bins=b)\n",
        "plt.title(\"Optimized Bubble Sort \")\n",
        "plt.xlabel(\"Steps =comparisons + swaps \")\n",
        "plt.ylabel(\"Frequency\")\n",
        "plt.show()\n",
        "    \n",
        "print(\"n\",n)  \n",
        "print(\"number of permutations n! =\",math.factorial(n)) \n",
        "print(\"exp min =\",min(times))\n",
        "print(\"min formula (n-1) =\",(n-1))\n",
        "print(\"exp max =\",max(times))\n",
        "print(\"max formula (n-1)*n =\",(n-1)*n)\n",
        "print(\"exp mean =\",np.mean(times))\n",
        "print(\"mean formula 57/80*n**2 - 59/80*n + 2/15 =\",(57/80)*(n**2)-(59/80)*n+(2/15))\n",
        "print(\"stdev\",np.std(times))"
      ],
      "execution_count": 44,
      "outputs": [
        {
          "output_type": "display_data",
          "data": {
            "image/png": "[encoded data removed]",
            "text/plain": [
              "<Figure size 432x288 with 1 Axes>"
            ]
          },
          "metadata": {
            "tags": [],
            "needs_background": "light"
          }
        },
        {
          "output_type": "stream",
          "text": [
            "n 4\n",
            "number of permutations n! = 24\n",
            "exp min = 3\n",
            "min formula (n-1) = 3\n",
            "exp max = 12\n",
            "max formula (n-1)*n = 12\n",
            "exp mean = 8.583333333333334\n",
            "mean formula 57/80*n**2 - 59/80*n + 2/15 = 8.583333333333332\n",
            "stdev 2.0395397084200697\n"
          ],
          "name": "stdout"
        }
      ]
    },
    {
      "cell_type": "code",
      "metadata": {
        "colab": {
          "base_uri": "https://localhost:8080/",
          "height": 454
        },
        "id": "0qh_3oQ9qZL8",
        "outputId": "25b8fa10-d26c-43fe-aa9f-ff77377712db"
      },
      "source": [
        "from itertools import permutations\n",
        "import matplotlib.pyplot as plt\n",
        "import numpy as np \n",
        "import math\n",
        "\n",
        "n = 5\n",
        "perm = permutations(range(1,n+1))\n",
        "\n",
        "times =  [] \n",
        "# Print the obtained permutations\n",
        "for i in list(perm):\n",
        "    i = list(i)\n",
        "    times.append(bubbleSortOpt(i))\n",
        "\n",
        "b = np.array(range(min(times)-1,max(times)+2) ) +0.5\n",
        "plt.hist(times,bins=b)\n",
        "plt.title(\"Optimized Bubble Sort \")\n",
        "plt.xlabel(\"Steps =comparisons + swaps \")\n",
        "plt.ylabel(\"Frequency\")\n",
        "plt.show()\n",
        "    \n",
        "print(\"n\",n)  \n",
        "print(\"number of permutations n! =\",math.factorial(n)) \n",
        "print(\"exp min =\",min(times))\n",
        "print(\"min formula (n-1) =\",(n-1))\n",
        "print(\"exp max =\",max(times))\n",
        "print(\"max formula (n-1)*n =\",(n-1)*n)\n",
        "print(\"exp mean =\",np.mean(times))\n",
        "print(\"mean formula 57/80*n**2 - 59/80*n + 2/15 =\",(57/80)*(n**2)-(59/80)*n+(2/15))\n",
        "print(\"stdev\",np.std(times))"
      ],
      "execution_count": 43,
      "outputs": [
        {
          "output_type": "display_data",
          "data": {
            "image/png": "[encoded data removed]",
            "text/plain": [
              "<Figure size 432x288 with 1 Axes>"
            ]
          },
          "metadata": {
            "tags": [],
            "needs_background": "light"
          }
        },
        {
          "output_type": "stream",
          "text": [
            "n 5\n",
            "number of permutations n! = 120\n",
            "exp min = 4\n",
            "min formula (n-1) = 4\n",
            "exp max = 20\n",
            "max formula (n-1)*n = 20\n",
            "exp mean = 14.258333333333333\n",
            "mean formula 57/80*n**2 - 59/80*n + 2/15 = 14.258333333333333\n",
            "stdev 2.9254510573395156\n"
          ],
          "name": "stdout"
        }
      ]
    },
    {
      "cell_type": "code",
      "metadata": {
        "colab": {
          "base_uri": "https://localhost:8080/",
          "height": 454
        },
        "id": "EkF93BCDqe6Q",
        "outputId": "26344027-9584-4b70-b365-16758334d27f"
      },
      "source": [
        "from itertools import permutations\n",
        "import matplotlib.pyplot as plt\n",
        "import numpy as np \n",
        "import math\n",
        "\n",
        "n = 6\n",
        "perm = permutations(range(1,n+1))\n",
        "\n",
        "times =  [] \n",
        "# Print the obtained permutations\n",
        "for i in list(perm):\n",
        "    i = list(i)\n",
        "    times.append(bubbleSortOpt(i))\n",
        "\n",
        "b = np.array(range(min(times)-1,max(times)+2) ) +0.5\n",
        "plt.hist(times,bins=b)\n",
        "plt.title(\"Optimized Bubble Sort \")\n",
        "plt.xlabel(\"Steps =comparisons + swaps \")\n",
        "plt.ylabel(\"Frequency\")\n",
        "plt.show()\n",
        "    \n",
        "print(\"n\",n)  \n",
        "print(\"number of permutations n! =\",math.factorial(n)) \n",
        "print(\"exp min =\",min(times))\n",
        "print(\"min formula (n-1) =\",(n-1))\n",
        "print(\"exp max =\",max(times))\n",
        "print(\"max formula (n-1)*n =\",(n-1)*n)\n",
        "print(\"exp mean =\",np.mean(times))\n",
        "print(\"mean formula 57/80*n**2 - 59/80*n + 2/15 =\",(57/80)*(n**2)-(59/80)*n+(2/15))\n",
        "print(\"stdev\",np.std(times))"
      ],
      "execution_count": 45,
      "outputs": [
        {
          "output_type": "display_data",
          "data": {
            "image/png": "[encoded data removed]",
            "text/plain": [
              "<Figure size 432x288 with 1 Axes>"
            ]
          },
          "metadata": {
            "tags": [],
            "needs_background": "light"
          }
        },
        {
          "output_type": "stream",
          "text": [
            "n 6\n",
            "number of permutations n! = 720\n",
            "exp min = 5\n",
            "min formula (n-1) = 5\n",
            "exp max = 30\n",
            "max formula (n-1)*n = 30\n",
            "exp mean = 21.377777777777776\n",
            "mean formula 57/80*n**2 - 59/80*n + 2/15 = 21.358333333333334\n",
            "stdev 3.8939490888008335\n"
          ],
          "name": "stdout"
        }
      ]
    },
    {
      "cell_type": "code",
      "metadata": {
        "colab": {
          "base_uri": "https://localhost:8080/",
          "height": 454
        },
        "id": "8DSo0wR9qm40",
        "outputId": "29a85805-6ea5-4aa6-9846-90ef49a3c5e0"
      },
      "source": [
        "from itertools import permutations\n",
        "import matplotlib.pyplot as plt\n",
        "import numpy as np \n",
        "import math\n",
        "\n",
        "n = 7\n",
        "perm = permutations(range(1,n+1))\n",
        "\n",
        "times =  [] \n",
        "# Print the obtained permutations\n",
        "for i in list(perm):\n",
        "    i = list(i)\n",
        "    times.append(bubbleSortOpt(i))\n",
        "\n",
        "b = np.array(range(min(times)-1,max(times)+2) ) +0.5\n",
        "plt.hist(times,bins=b)\n",
        "plt.title(\"Optimized Bubble Sort \")\n",
        "plt.xlabel(\"Steps =comparisons + swaps \")\n",
        "plt.ylabel(\"Frequency\")\n",
        "plt.show()\n",
        "    \n",
        "print(\"n\",n)  \n",
        "print(\"number of permutations n! =\",math.factorial(n)) \n",
        "print(\"exp min =\",min(times))\n",
        "print(\"min formula (n-1) =\",(n-1))\n",
        "print(\"exp max =\",max(times))\n",
        "print(\"max formula (n-1)*n =\",(n-1)*n)\n",
        "print(\"exp mean =\",np.mean(times))\n",
        "print(\"mean formula 57/80*n**2 - 59/80*n + 2/15 =\",(57/80)*(n**2)-(59/80)*n+(2/15))\n",
        "print(\"stdev\",np.std(times))"
      ],
      "execution_count": 46,
      "outputs": [
        {
          "output_type": "display_data",
          "data": {
            "image/png": "[encoded data removed]",
            "text/plain": [
              "<Figure size 432x288 with 1 Axes>"
            ]
          },
          "metadata": {
            "tags": [],
            "needs_background": "light"
          }
        },
        {
          "output_type": "stream",
          "text": [
            "n 7\n",
            "number of permutations n! = 5040\n",
            "exp min = 6\n",
            "min formula (n-1) = 6\n",
            "exp max = 42\n",
            "max formula (n-1)*n = 42\n",
            "exp mean = 29.954166666666666\n",
            "mean formula 57/80*n**2 - 59/80*n + 2/15 = 29.883333333333333\n",
            "stdev 4.9281426300124505\n"
          ],
          "name": "stdout"
        }
      ]
    },
    {
      "cell_type": "code",
      "metadata": {
        "colab": {
          "base_uri": "https://localhost:8080/",
          "height": 454
        },
        "id": "PVvgHZzrqrNL",
        "outputId": "f1146967-abcc-46d3-9eec-bdb3fa23d1ef"
      },
      "source": [
        "from itertools import permutations\n",
        "import matplotlib.pyplot as plt\n",
        "import numpy as np \n",
        "import math\n",
        "\n",
        "n = 8\n",
        "perm = permutations(range(1,n+1))\n",
        "\n",
        "times =  [] \n",
        "# Print the obtained permutations\n",
        "for i in list(perm):\n",
        "    i = list(i)\n",
        "    times.append(bubbleSortOpt(i))\n",
        "\n",
        "b = np.array(range(min(times)-1,max(times)+2) ) +0.5\n",
        "plt.hist(times,bins=b)\n",
        "plt.title(\"Optimized Bubble Sort \")\n",
        "plt.xlabel(\"Steps =comparisons + swaps \")\n",
        "plt.ylabel(\"Frequency\")\n",
        "plt.show()\n",
        "    \n",
        "print(\"n\",n)  \n",
        "print(\"number of permutations n! =\",math.factorial(n)) \n",
        "print(\"exp min =\",min(times))\n",
        "print(\"min formula (n-1) =\",(n-1))\n",
        "print(\"exp max =\",max(times))\n",
        "print(\"max formula (n-1)*n =\",(n-1)*n)\n",
        "print(\"exp mean =\",np.mean(times))\n",
        "print(\"mean formula 57/80*n**2 - 59/80*n + 2/15 =\",(57/80)*(n**2)-(59/80)*n+(2/15))\n",
        "print(\"stdev\",np.std(times))"
      ],
      "execution_count": 47,
      "outputs": [
        {
          "output_type": "display_data",
          "data": {
            "image/png": "[encoded data removed]",
            "text/plain": [
              "<Figure size 432x288 with 1 Axes>"
            ]
          },
          "metadata": {
            "tags": [],
            "needs_background": "light"
          }
        },
        {
          "output_type": "stream",
          "text": [
            "n 8\n",
            "number of permutations n! = 40320\n",
            "exp min = 7\n",
            "min formula (n-1) = 7\n",
            "exp max = 56\n",
            "max formula (n-1)*n = 56\n",
            "exp mean = 39.995287698412696\n",
            "mean formula 57/80*n**2 - 59/80*n + 2/15 = 39.833333333333336\n",
            "stdev 6.019608964038115\n"
          ],
          "name": "stdout"
        }
      ]
    },
    {
      "cell_type": "code",
      "metadata": {
        "colab": {
          "base_uri": "https://localhost:8080/",
          "height": 454
        },
        "id": "gBJ7N1wNqvnn",
        "outputId": "f3a0acdb-cb3c-47f5-c3cb-bf37f6c1ccde"
      },
      "source": [
        "from itertools import permutations\n",
        "import matplotlib.pyplot as plt\n",
        "import numpy as np \n",
        "import math\n",
        "\n",
        "n = 9\n",
        "perm = permutations(range(1,n+1))\n",
        "\n",
        "times =  [] \n",
        "# Print the obtained permutations\n",
        "for i in list(perm):\n",
        "    i = list(i)\n",
        "    times.append(bubbleSortOpt(i))\n",
        "\n",
        "b = np.array(range(min(times)-1,max(times)+2) ) +0.5\n",
        "plt.hist(times,bins=b)\n",
        "plt.title(\"Optimized Bubble Sort \")\n",
        "plt.xlabel(\"Steps =comparisons + swaps \")\n",
        "plt.ylabel(\"Frequency\")\n",
        "plt.show()\n",
        "    \n",
        "print(\"n\",n)  \n",
        "print(\"number of permutations n! =\",math.factorial(n)) \n",
        "print(\"exp min =\",min(times))\n",
        "print(\"min formula (n-1) =\",(n-1))\n",
        "print(\"exp max =\",max(times))\n",
        "print(\"max formula (n-1)*n =\",(n-1)*n)\n",
        "print(\"exp mean =\",np.mean(times))\n",
        "print(\"mean formula 57/80*n**2 - 59/80*n + 2/15 =\",(57/80)*(n**2)-(59/80)*n+(2/15))\n",
        "print(\"stdev\",np.std(times))"
      ],
      "execution_count": 48,
      "outputs": [
        {
          "output_type": "display_data",
          "data": {
            "image/png": "[encoded data removed]",
            "text/plain": [
              "<Figure size 432x288 with 1 Axes>"
            ]
          },
          "metadata": {
            "tags": [],
            "needs_background": "light"
          }
        },
        {
          "output_type": "stream",
          "text": [
            "n 9\n",
            "number of permutations n! = 362880\n",
            "exp min = 8\n",
            "min formula (n-1) = 8\n",
            "exp max = 72\n",
            "max formula (n-1)*n = 72\n",
            "exp mean = 51.50684248236332\n",
            "mean formula 57/80*n**2 - 59/80*n + 2/15 = 51.20833333333333\n",
            "stdev 7.162493595948604\n"
          ],
          "name": "stdout"
        }
      ]
    },
    {
      "cell_type": "code",
      "metadata": {
        "colab": {
          "base_uri": "https://localhost:8080/",
          "height": 454
        },
        "id": "D72vAoSsq35K",
        "outputId": "a7ad75ae-af19-460d-e3a1-b02883a34357"
      },
      "source": [
        "from itertools import permutations\n",
        "import matplotlib.pyplot as plt\n",
        "import numpy as np \n",
        "import math\n",
        "\n",
        "n = 10\n",
        "perm = permutations(range(1,n+1))\n",
        "\n",
        "times =  [] \n",
        "# Print the obtained permutations\n",
        "for i in list(perm):\n",
        "    i = list(i)\n",
        "    times.append(bubbleSortOpt(i))\n",
        "\n",
        "b = np.array(range(min(times)-1,max(times)+2) ) +0.5\n",
        "plt.hist(times,bins=b)\n",
        "plt.title(\"Optimized Bubble Sort \")\n",
        "plt.xlabel(\"Steps =comparisons + swaps \")\n",
        "plt.ylabel(\"Frequency\")\n",
        "plt.show()\n",
        "    \n",
        "print(\"n\",n)  \n",
        "print(\"number of permutations n! =\",math.factorial(n)) \n",
        "print(\"exp min =\",min(times))\n",
        "print(\"min formula (n-1) =\",(n-1))\n",
        "print(\"exp max =\",max(times))\n",
        "print(\"max formula (n-1)*n =\",(n-1)*n)\n",
        "print(\"exp mean =\",np.mean(times))\n",
        "print(\"mean formula 57/80*n**2 - 59/80*n + 2/15 =\",(57/80)*(n**2)-(59/80)*n+(2/15))\n",
        "print(\"stdev\",np.std(times))"
      ],
      "execution_count": 49,
      "outputs": [
        {
          "output_type": "display_data",
          "data": {
            "image/png": "[encoded data removed]",
            "text/plain": [
              "<Figure size 432x288 with 1 Axes>"
            ]
          },
          "metadata": {
            "tags": [],
            "needs_background": "light"
          }
        },
        {
          "output_type": "stream",
          "text": [
            "n 10\n",
            "number of permutations n! = 3628800\n",
            "exp min = 9\n",
            "min formula (n-1) = 9\n",
            "exp max = 90\n",
            "max formula (n-1)*n = 90\n",
            "exp mean = 64.49318672839506\n",
            "mean formula 57/80*n**2 - 59/80*n + 2/15 = 64.00833333333334\n",
            "stdev 8.352008300078836\n"
          ],
          "name": "stdout"
        }
      ]
    },
    {
      "cell_type": "code",
      "metadata": {
        "colab": {
          "base_uri": "https://localhost:8080/",
          "height": 141
        },
        "id": "HS-3PopLuqfw",
        "outputId": "b0831d0a-249f-49a9-b991-756e7746a597"
      },
      "source": [
        "import numpy as np \n",
        "import pandas as pd\n",
        "import scipy.linalg as la\n",
        "\n",
        "n = np.array([3.0,4.0,5.0])    # Number n of sorted elments \n",
        "t = np.array([4.333333333333333,8.583333333333334, 14.258333333333333]) # Average comparisons + swaps for the corresponding n \n",
        "\n",
        "data = pd.DataFrame({'n': n, 't': t})\n",
        "data"
      ],
      "execution_count": 34,
      "outputs": [
        {
          "output_type": "execute_result",
          "data": {
            "text/html": [
              "<div>\n",
              "<style scoped>\n",
              "    .dataframe tbody tr th:only-of-type {\n",
              "        vertical-align: middle;\n",
              "    }\n",
              "\n",
              "    .dataframe tbody tr th {\n",
              "        vertical-align: top;\n",
              "    }\n",
              "\n",
              "    .dataframe thead th {\n",
              "        text-align: right;\n",
              "    }\n",
              "</style>\n",
              "<table border=\"1\" class=\"dataframe\">\n",
              "  <thead>\n",
              "    <tr style=\"text-align: right;\">\n",
              "      <th></th>\n",
              "      <th>n</th>\n",
              "      <th>t</th>\n",
              "    </tr>\n",
              "  </thead>\n",
              "  <tbody>\n",
              "    <tr>\n",
              "      <th>0</th>\n",
              "      <td>3.0</td>\n",
              "      <td>4.333333</td>\n",
              "    </tr>\n",
              "    <tr>\n",
              "      <th>1</th>\n",
              "      <td>4.0</td>\n",
              "      <td>8.583333</td>\n",
              "    </tr>\n",
              "    <tr>\n",
              "      <th>2</th>\n",
              "      <td>5.0</td>\n",
              "      <td>14.258333</td>\n",
              "    </tr>\n",
              "  </tbody>\n",
              "</table>\n",
              "</div>"
            ],
            "text/plain": [
              "     n          t\n",
              "0  3.0   4.333333\n",
              "1  4.0   8.583333\n",
              "2  5.0  14.258333"
            ]
          },
          "metadata": {
            "tags": []
          },
          "execution_count": 34
        }
      ]
    },
    {
      "cell_type": "code",
      "metadata": {
        "colab": {
          "base_uri": "https://localhost:8080/"
        },
        "id": "nRjPbSndvUYs",
        "outputId": "15389793-54c0-4097-f1a9-9c06777e8f26"
      },
      "source": [
        "# Interpolating a polynomial of degree 3\n",
        "\n",
        "X = np.column_stack([n**0,n**1,n**2])\n",
        "a = la.solve(X,t)\n",
        "a"
      ],
      "execution_count": 35,
      "outputs": [
        {
          "output_type": "execute_result",
          "data": {
            "text/plain": [
              "array([ 0.13333333, -0.7375    ,  0.7125    ])"
            ]
          },
          "metadata": {
            "tags": []
          },
          "execution_count": 35
        }
      ]
    },
    {
      "cell_type": "code",
      "metadata": {
        "colab": {
          "base_uri": "https://localhost:8080/"
        },
        "id": "CnuVAiNBvs_F",
        "outputId": "c869659e-a2a4-4464-f3fb-2fb5960420e8"
      },
      "source": [
        "2/15"
      ],
      "execution_count": 25,
      "outputs": [
        {
          "output_type": "execute_result",
          "data": {
            "text/plain": [
              "0.13333333333333333"
            ]
          },
          "metadata": {
            "tags": []
          },
          "execution_count": 25
        }
      ]
    },
    {
      "cell_type": "code",
      "metadata": {
        "colab": {
          "base_uri": "https://localhost:8080/"
        },
        "id": "a-DQCzG8vu2t",
        "outputId": "b5952b37-5933-40aa-88cd-ae477e12a498"
      },
      "source": [
        "59/80"
      ],
      "execution_count": 26,
      "outputs": [
        {
          "output_type": "execute_result",
          "data": {
            "text/plain": [
              "0.7375"
            ]
          },
          "metadata": {
            "tags": []
          },
          "execution_count": 26
        }
      ]
    },
    {
      "cell_type": "code",
      "metadata": {
        "colab": {
          "base_uri": "https://localhost:8080/"
        },
        "id": "HDl_QD1RvyWJ",
        "outputId": "9027dcdb-05ec-41f9-85fa-b75b0f3989c6"
      },
      "source": [
        "57/80"
      ],
      "execution_count": 27,
      "outputs": [
        {
          "output_type": "execute_result",
          "data": {
            "text/plain": [
              "0.7125"
            ]
          },
          "metadata": {
            "tags": []
          },
          "execution_count": 27
        }
      ]
    },
    {
      "cell_type": "markdown",
      "metadata": {
        "id": "1uk6-8p_5Ail"
      },
      "source": [
        "# Bubble sort optimized time complexity histograms for permutations of  $n$  elements whit repetitions\n"
      ]
    },
    {
      "cell_type": "code",
      "metadata": {
        "colab": {
          "base_uri": "https://localhost:8080/"
        },
        "id": "fmhJ6I5p7Vsy",
        "outputId": "23ae0c38-40ab-4171-b713-49781deeec9a"
      },
      "source": [
        "from itertools import product\n",
        "\n",
        "n=3 \n",
        "perm = product(range(1,n+1), repeat = n)\n",
        "\n",
        "c=0\n",
        "for i in perm:\n",
        "    print(i)\n",
        "    c+=1\n",
        "\n",
        "print(c)"
      ],
      "execution_count": 36,
      "outputs": [
        {
          "output_type": "stream",
          "text": [
            "(1, 1, 1)\n",
            "(1, 1, 2)\n",
            "(1, 1, 3)\n",
            "(1, 2, 1)\n",
            "(1, 2, 2)\n",
            "(1, 2, 3)\n",
            "(1, 3, 1)\n",
            "(1, 3, 2)\n",
            "(1, 3, 3)\n",
            "(2, 1, 1)\n",
            "(2, 1, 2)\n",
            "(2, 1, 3)\n",
            "(2, 2, 1)\n",
            "(2, 2, 2)\n",
            "(2, 2, 3)\n",
            "(2, 3, 1)\n",
            "(2, 3, 2)\n",
            "(2, 3, 3)\n",
            "(3, 1, 1)\n",
            "(3, 1, 2)\n",
            "(3, 1, 3)\n",
            "(3, 2, 1)\n",
            "(3, 2, 2)\n",
            "(3, 2, 3)\n",
            "(3, 3, 1)\n",
            "(3, 3, 2)\n",
            "(3, 3, 3)\n",
            "27\n"
          ],
          "name": "stdout"
        }
      ]
    },
    {
      "cell_type": "code",
      "metadata": {
        "colab": {
          "base_uri": "https://localhost:8080/",
          "height": 454
        },
        "id": "q9fYpNSl73B_",
        "outputId": "c21fd0b6-ff67-40d7-cf41-9cc2de6fb30d"
      },
      "source": [
        "from itertools import product\n",
        "import matplotlib.pyplot as plt\n",
        "import numpy as np \n",
        "import math\n",
        "\n",
        "n = 3\n",
        "perm = product(range(1,n+1), repeat = n)\n",
        "\n",
        "times =  [] \n",
        "# Print the obtained permutations\n",
        "for i in list(perm):\n",
        "    i = list(i)\n",
        "    times.append(bubbleSortOpt(i))\n",
        "\n",
        "b = np.array(range(min(times)-1,max(times)+2) ) +0.5\n",
        "plt.hist(times,bins=b)\n",
        "plt.title(\"Optimized Bubble Sort \")\n",
        "plt.xlabel(\"Steps =comparisons + swaps \")\n",
        "plt.ylabel(\"Frequency\")\n",
        "plt.show()\n",
        "    \n",
        "print(\"n\",n)  \n",
        "print(\"number of permutations n! =\",math.factorial(n)) \n",
        "print(\"exp min =\",min(times))\n",
        "print(\"min formula (n-1) =\",(n-1))\n",
        "print(\"exp max =\",max(times))\n",
        "print(\"max formula (n-1)*n =\",(n-1)*n)\n",
        "print(\"exp mean =\",np.mean(times))\n",
        "print(\"mean formula 0.73182481*n**2 - 1.28365333*n + 0.8941663 =\",( 0.73182481)*(n**2)-(1.28365333)*n + 0.8941663)\n",
        "print(\"stdev\",np.std(times))"
      ],
      "execution_count": 41,
      "outputs": [
        {
          "output_type": "display_data",
          "data": {
            "image/png": "[encoded data removed]",
            "text/plain": [
              "<Figure size 432x288 with 1 Axes>"
            ]
          },
          "metadata": {
            "tags": [],
            "needs_background": "light"
          }
        },
        {
          "output_type": "stream",
          "text": [
            "n 3\n",
            "number of permutations n! = 6\n",
            "exp min = 2\n",
            "min formula (n-1) = 2\n",
            "exp max = 6\n",
            "max formula (n-1)*n = 6\n",
            "exp mean = 3.6296296296296298\n",
            "mean formula 0.73182481*n**2 - 1.28365333*n + 0.8941663 = 3.6296296000000003\n",
            "stdev 1.3374422285383547\n"
          ],
          "name": "stdout"
        }
      ]
    },
    {
      "cell_type": "code",
      "metadata": {
        "colab": {
          "base_uri": "https://localhost:8080/",
          "height": 454
        },
        "id": "HcU8sJFm_8oZ",
        "outputId": "7fc3f854-88a6-45fa-b3bd-30e1a7fdf000"
      },
      "source": [
        "from itertools import product\n",
        "import matplotlib.pyplot as plt\n",
        "import numpy as np \n",
        "import math\n",
        "\n",
        "n = 4\n",
        "perm = product(range(1,n+1), repeat = n)\n",
        "\n",
        "times =  [] \n",
        "# Print the obtained permutations\n",
        "for i in list(perm):\n",
        "    i = list(i)\n",
        "    times.append(bubbleSortOpt(i))\n",
        "\n",
        "b = np.array(range(min(times)-1,max(times)+2) ) +0.5\n",
        "plt.hist(times,bins=b)\n",
        "plt.title(\"Optimized Bubble Sort \")\n",
        "plt.xlabel(\"Steps =comparisons + swaps \")\n",
        "plt.ylabel(\"Frequency\")\n",
        "plt.show()\n",
        "    \n",
        "print(\"n\",n)  \n",
        "print(\"number of permutations n! =\",math.factorial(n)) \n",
        "print(\"exp min =\",min(times))\n",
        "print(\"min formula (n-1) =\",(n-1))\n",
        "print(\"exp max =\",max(times))\n",
        "print(\"max formula (n-1)*n =\",(n-1)*n)\n",
        "print(\"exp mean =\",np.mean(times))\n",
        "print(\"mean formula 0.73182481*n**2 - 1.28365333*n + 0.8941663 =\",( 0.73182481)*(n**2)-(1.28365333)*n + 0.8941663)\n",
        "print(\"stdev\",np.std(times))"
      ],
      "execution_count": 50,
      "outputs": [
        {
          "output_type": "display_data",
          "data": {
            "image/png": "[encoded data removed]",
            "text/plain": [
              "<Figure size 432x288 with 1 Axes>"
            ]
          },
          "metadata": {
            "tags": [],
            "needs_background": "light"
          }
        },
        {
          "output_type": "stream",
          "text": [
            "n 4\n",
            "number of permutations n! = 24\n",
            "exp min = 3\n",
            "min formula (n-1) = 3\n",
            "exp max = 12\n",
            "max formula (n-1)*n = 12\n",
            "exp mean = 7.46875\n",
            "mean formula 0.73182481*n**2 - 1.28365333*n + 0.8941663 = 7.46874994\n",
            "stdev 2.2995838618106537\n"
          ],
          "name": "stdout"
        }
      ]
    },
    {
      "cell_type": "code",
      "metadata": {
        "colab": {
          "base_uri": "https://localhost:8080/",
          "height": 454
        },
        "id": "lLMiGLUjACEZ",
        "outputId": "95c87b5a-1ea3-4508-83d0-49c1996e0cc3"
      },
      "source": [
        "from itertools import product\n",
        "import matplotlib.pyplot as plt\n",
        "import numpy as np \n",
        "import math\n",
        "\n",
        "n = 5\n",
        "perm = product(range(1,n+1), repeat = n)\n",
        "\n",
        "times =  [] \n",
        "# Print the obtained permutations\n",
        "for i in list(perm):\n",
        "    i = list(i)\n",
        "    times.append(bubbleSortOpt(i))\n",
        "\n",
        "b = np.array(range(min(times)-1,max(times)+2) ) +0.5\n",
        "plt.hist(times,bins=b)\n",
        "plt.title(\"Optimized Bubble Sort \")\n",
        "plt.xlabel(\"Steps =comparisons + swaps \")\n",
        "plt.ylabel(\"Frequency\")\n",
        "plt.show()\n",
        "    \n",
        "print(\"n\",n)  \n",
        "print(\"number of permutations n! =\",math.factorial(n)) \n",
        "print(\"exp min =\",min(times))\n",
        "print(\"min formula (n-1) =\",(n-1))\n",
        "print(\"exp max =\",max(times))\n",
        "print(\"max formula (n-1)*n =\",(n-1)*n)\n",
        "print(\"exp mean =\",np.mean(times))\n",
        "print(\"mean formula 0.73182481*n**2 - 1.28365333*n + 0.8941663 =\",( 0.73182481)*(n**2)-(1.28365333)*n + 0.8941663)\n",
        "print(\"stdev\",np.std(times))"
      ],
      "execution_count": 51,
      "outputs": [
        {
          "output_type": "display_data",
          "data": {
            "image/png": "[encoded data removed]",
            "text/plain": [
              "<Figure size 432x288 with 1 Axes>"
            ]
          },
          "metadata": {
            "tags": [],
            "needs_background": "light"
          }
        },
        {
          "output_type": "stream",
          "text": [
            "n 5\n",
            "number of permutations n! = 120\n",
            "exp min = 4\n",
            "min formula (n-1) = 4\n",
            "exp max = 20\n",
            "max formula (n-1)*n = 20\n",
            "exp mean = 12.77152\n",
            "mean formula 0.73182481*n**2 - 1.28365333*n + 0.8941663 = 12.7715199\n",
            "stdev 3.2691951440071607\n"
          ],
          "name": "stdout"
        }
      ]
    },
    {
      "cell_type": "code",
      "metadata": {
        "colab": {
          "base_uri": "https://localhost:8080/",
          "height": 454
        },
        "id": "-d9iyN8EAPx3",
        "outputId": "0d45af39-f60c-4d7f-ffeb-b68bb19b4e89"
      },
      "source": [
        "from itertools import product\n",
        "import matplotlib.pyplot as plt\n",
        "import numpy as np \n",
        "import math\n",
        "\n",
        "n = 6\n",
        "perm = product(range(1,n+1), repeat = n)\n",
        "\n",
        "times =  [] \n",
        "# Print the obtained permutations\n",
        "for i in list(perm):\n",
        "    i = list(i)\n",
        "    times.append(bubbleSortOpt(i))\n",
        "\n",
        "b = np.array(range(min(times)-1,max(times)+2) ) +0.5\n",
        "plt.hist(times,bins=b)\n",
        "plt.title(\"Optimized Bubble Sort \")\n",
        "plt.xlabel(\"Steps =comparisons + swaps \")\n",
        "plt.ylabel(\"Frequency\")\n",
        "plt.show()\n",
        "    \n",
        "print(\"n\",n)  \n",
        "print(\"number of permutations n! =\",math.factorial(n)) \n",
        "print(\"exp min =\",min(times))\n",
        "print(\"min formula (n-1) =\",(n-1))\n",
        "print(\"exp max =\",max(times))\n",
        "print(\"max formula (n-1)*n =\",(n-1)*n)\n",
        "print(\"exp mean =\",np.mean(times))\n",
        "print(\"mean formula 0.73182481*n**2 - 1.28365333*n + 0.8941663 =\",( 0.73182481)*(n**2)-(1.28365333)*n + 0.8941663)\n",
        "print(\"stdev\",np.std(times))"
      ],
      "execution_count": 52,
      "outputs": [
        {
          "output_type": "display_data",
          "data": {
            "image/png": "[encoded data removed]",
            "text/plain": [
              "<Figure size 432x288 with 1 Axes>"
            ]
          },
          "metadata": {
            "tags": [],
            "needs_background": "light"
          }
        },
        {
          "output_type": "stream",
          "text": [
            "n 6\n",
            "number of permutations n! = 720\n",
            "exp min = 5\n",
            "min formula (n-1) = 5\n",
            "exp max = 30\n",
            "max formula (n-1)*n = 30\n",
            "exp mean = 19.52895661865569\n",
            "mean formula 0.73182481*n**2 - 1.28365333*n + 0.8941663 = 19.53793948\n",
            "stdev 4.290252772629642\n"
          ],
          "name": "stdout"
        }
      ]
    },
    {
      "cell_type": "code",
      "metadata": {
        "colab": {
          "base_uri": "https://localhost:8080/",
          "height": 454
        },
        "id": "frAPV13pAYbK",
        "outputId": "bb75d1ef-4ecd-4509-8b45-d0075aaea09a"
      },
      "source": [
        "from itertools import product\n",
        "import matplotlib.pyplot as plt\n",
        "import numpy as np \n",
        "import math\n",
        "\n",
        "n = 7\n",
        "perm = product(range(1,n+1), repeat = n)\n",
        "\n",
        "times =  [] \n",
        "# Print the obtained permutations\n",
        "for i in list(perm):\n",
        "    i = list(i)\n",
        "    times.append(bubbleSortOpt(i))\n",
        "\n",
        "b = np.array(range(min(times)-1,max(times)+2) ) +0.5\n",
        "plt.hist(times,bins=b)\n",
        "plt.title(\"Optimized Bubble Sort \")\n",
        "plt.xlabel(\"Steps =comparisons + swaps \")\n",
        "plt.ylabel(\"Frequency\")\n",
        "plt.show()\n",
        "    \n",
        "print(\"n\",n)  \n",
        "print(\"number of permutations n! =\",math.factorial(n)) \n",
        "print(\"exp min =\",min(times))\n",
        "print(\"min formula (n-1) =\",(n-1))\n",
        "print(\"exp max =\",max(times))\n",
        "print(\"max formula (n-1)*n =\",(n-1)*n)\n",
        "print(\"exp mean =\",np.mean(times))\n",
        "print(\"mean formula 0.73182481*n**2 - 1.28365333*n + 0.8941663 =\",( 0.73182481)*(n**2)-(1.28365333)*n + 0.8941663)\n",
        "print(\"stdev\",np.std(times))"
      ],
      "execution_count": 53,
      "outputs": [
        {
          "output_type": "display_data",
          "data": {
            "image/png": "[encoded data removed]",
            "text/plain": [
              "<Figure size 432x288 with 1 Axes>"
            ]
          },
          "metadata": {
            "tags": [],
            "needs_background": "light"
          }
        },
        {
          "output_type": "stream",
          "text": [
            "n 7\n",
            "number of permutations n! = 5040\n",
            "exp min = 6\n",
            "min formula (n-1) = 6\n",
            "exp max = 42\n",
            "max formula (n-1)*n = 42\n",
            "exp mean = 27.74813215581943\n",
            "mean formula 0.73182481*n**2 - 1.28365333*n + 0.8941663 = 27.768008679999998\n",
            "stdev 5.373187736730251\n"
          ],
          "name": "stdout"
        }
      ]
    },
    {
      "cell_type": "code",
      "metadata": {
        "colab": {
          "base_uri": "https://localhost:8080/",
          "height": 454
        },
        "id": "tCcgKbs0Amiv",
        "outputId": "44b60972-d4c9-43f1-b7ee-1a74b03e91f5"
      },
      "source": [
        "from itertools import product\n",
        "import matplotlib.pyplot as plt\n",
        "import numpy as np \n",
        "import math\n",
        "\n",
        "n = 3\n",
        "perm = product(range(1,n+1), repeat = n)\n",
        "\n",
        "times =  [] \n",
        "# Print the obtained permutations\n",
        "for i in list(perm):\n",
        "    i = list(i)\n",
        "    times.append(bubbleSortOpt(i))\n",
        "\n",
        "b = np.array(range(min(times)-1,max(times)+2) ) +0.5\n",
        "plt.hist(times,bins=b)\n",
        "plt.title(\"Optimized Bubble Sort \")\n",
        "plt.xlabel(\"Steps =comparisons + swaps \")\n",
        "plt.ylabel(\"Frequency\")\n",
        "plt.show()\n",
        "    \n",
        "print(\"n\",n)  \n",
        "print(\"number of permutations n! =\",math.factorial(n)) \n",
        "print(\"exp min =\",min(times))\n",
        "print(\"min formula (n-1) =\",(n-1))\n",
        "print(\"exp max =\",max(times))\n",
        "print(\"max formula (n-1)*n =\",(n-1)*n)\n",
        "print(\"exp mean =\",np.mean(times))\n",
        "print(\"mean formula 0.73182481*n**2 - 1.28365333*n + 0.8941663 =\",( 0.73182481)*(n**2)-(1.28365333)*n + 0.8941663)\n",
        "print(\"stdev\",np.std(times))"
      ],
      "execution_count": 54,
      "outputs": [
        {
          "output_type": "display_data",
          "data": {
            "image/png": "[encoded data removed]",
            "text/plain": [
              "<Figure size 432x288 with 1 Axes>"
            ]
          },
          "metadata": {
            "tags": [],
            "needs_background": "light"
          }
        },
        {
          "output_type": "stream",
          "text": [
            "n 3\n",
            "number of permutations n! = 6\n",
            "exp min = 2\n",
            "min formula (n-1) = 2\n",
            "exp max = 6\n",
            "max formula (n-1)*n = 6\n",
            "exp mean = 3.6296296296296298\n",
            "mean formula 0.73182481*n**2 - 1.28365333*n + 0.8941663 = 3.6296296000000003\n",
            "stdev 1.3374422285383547\n"
          ],
          "name": "stdout"
        }
      ]
    },
    {
      "cell_type": "markdown",
      "metadata": {
        "id": "UZYVMWW7Auyi"
      },
      "source": [
        "# Average case - expected number of comparisons + swaps on random unifrom permtation of $n$   elements with repetitions $t_a(n) = 0.73182481n^2 - 1.28365333n + 0.8941663= \\Theta(n^2) $"
      ]
    },
    {
      "cell_type": "code",
      "metadata": {
        "colab": {
          "base_uri": "https://localhost:8080/",
          "height": 141
        },
        "id": "WDEFAqU-AwJD",
        "outputId": "316f7e53-152b-405e-9a17-6da8369199c3"
      },
      "source": [
        "import numpy as np \n",
        "import pandas as pd\n",
        "import scipy.linalg as la\n",
        "\n",
        "n = np.array([3.0,4.0,5.0])    # Number n of sorted elments \n",
        "t = np.array([3.6296296296296298,7.46875, 12.77152]) # Average comparisons + swaps for the corresponding n \n",
        "\n",
        "data = pd.DataFrame({'n': n, 't': t})\n",
        "data"
      ],
      "execution_count": 55,
      "outputs": [
        {
          "output_type": "execute_result",
          "data": {
            "text/html": [
              "<div>\n",
              "<style scoped>\n",
              "    .dataframe tbody tr th:only-of-type {\n",
              "        vertical-align: middle;\n",
              "    }\n",
              "\n",
              "    .dataframe tbody tr th {\n",
              "        vertical-align: top;\n",
              "    }\n",
              "\n",
              "    .dataframe thead th {\n",
              "        text-align: right;\n",
              "    }\n",
              "</style>\n",
              "<table border=\"1\" class=\"dataframe\">\n",
              "  <thead>\n",
              "    <tr style=\"text-align: right;\">\n",
              "      <th></th>\n",
              "      <th>n</th>\n",
              "      <th>t</th>\n",
              "    </tr>\n",
              "  </thead>\n",
              "  <tbody>\n",
              "    <tr>\n",
              "      <th>0</th>\n",
              "      <td>3.0</td>\n",
              "      <td>3.62963</td>\n",
              "    </tr>\n",
              "    <tr>\n",
              "      <th>1</th>\n",
              "      <td>4.0</td>\n",
              "      <td>7.46875</td>\n",
              "    </tr>\n",
              "    <tr>\n",
              "      <th>2</th>\n",
              "      <td>5.0</td>\n",
              "      <td>12.77152</td>\n",
              "    </tr>\n",
              "  </tbody>\n",
              "</table>\n",
              "</div>"
            ],
            "text/plain": [
              "     n         t\n",
              "0  3.0   3.62963\n",
              "1  4.0   7.46875\n",
              "2  5.0  12.77152"
            ]
          },
          "metadata": {
            "tags": []
          },
          "execution_count": 55
        }
      ]
    },
    {
      "cell_type": "code",
      "metadata": {
        "colab": {
          "base_uri": "https://localhost:8080/"
        },
        "id": "DfK3TLXFBHzU",
        "outputId": "884f5a3c-e629-4835-9572-e78e5dbc32bd"
      },
      "source": [
        "# Interpolating a polynomial of degree 3\n",
        "\n",
        "X = np.column_stack([n**0,n**1,n**2])\n",
        "a = la.solve(X,t)\n",
        "a"
      ],
      "execution_count": 56,
      "outputs": [
        {
          "output_type": "execute_result",
          "data": {
            "text/plain": [
              "array([ 0.8941663 , -1.28365333,  0.73182481])"
            ]
          },
          "metadata": {
            "tags": []
          },
          "execution_count": 56
        }
      ]
    }
  ]
}