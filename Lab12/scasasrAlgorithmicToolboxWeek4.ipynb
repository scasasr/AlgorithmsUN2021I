{
  "nbformat": 4,
  "nbformat_minor": 0,
  "metadata": {
    "colab": {
      "name": "scasasrAlgorithmicToolboxWeek4.ipynb",
      "provenance": [],
      "collapsed_sections": [],
      "include_colab_link": true
    },
    "kernelspec": {
      "name": "python3",
      "display_name": "Python 3"
    },
    "language_info": {
      "name": "python"
    }
  },
  "cells": [
    {
      "cell_type": "markdown",
      "metadata": {
        "id": "view-in-github",
        "colab_type": "text"
      },
      "source": [
        "<a href=\"https://colab.research.google.com/github/scasasr/AlgorithmsUN2021I/blob/main/Lab12/scasasrAlgorithmicToolboxWeek4.ipynb\" target=\"_parent\"><img src=\"https://colab.research.google.com/assets/colab-badge.svg\" alt=\"Open In Colab\"/></a>"
      ]
    },
    {
      "cell_type": "markdown",
      "metadata": {
        "id": "uYTU1qFFMZb4"
      },
      "source": [
        "#Week 4: Divide and Conquer\n",
        "\n",
        "Integrantes:\n",
        "\n",
        "- Juan Diego Castañeda Oviedo\n",
        "- Sebastian Camilo Casas Rojas\n",
        "- Daniel Santiago Gaitan Gaitan"
      ]
    },
    {
      "cell_type": "markdown",
      "metadata": {
        "id": "6szocISJNSkL"
      },
      "source": [
        "##4-1:Binary Search"
      ]
    },
    {
      "cell_type": "code",
      "metadata": {
        "colab": {
          "base_uri": "https://localhost:8080/"
        },
        "id": "4R8xMp0oMKYm",
        "outputId": "32efb392-5009-4d10-df88-cd919909e023"
      },
      "source": [
        "%%writefile ex4_1.py\n",
        "\n",
        "def bs(s, t, r):\n",
        "    l = 0\n",
        "\n",
        "    while l<=r: \n",
        "\n",
        "        m = (l+r)//2\n",
        "\n",
        "        if t > s[m]:\n",
        "            l = m + 1\n",
        "        elif t < s[m]:\n",
        "            r = m - 1\n",
        "        else:\n",
        "            return m\n",
        "\n",
        "    return -1\n",
        "\n",
        "s = list(map(int, input().split()))\n",
        "ss = list(map(int, input().split()))\n",
        "\n",
        "n = s[0]\n",
        "s = s[1:]\n",
        "t = True\n",
        "\n",
        "ln = []\n",
        "x = ss[1:]\n",
        "\n",
        "for i in x:\n",
        "    ln.append(bs(s, i, n-1))\n",
        "\n",
        "print(' '.join([str(i) for i in ln]))"
      ],
      "execution_count": null,
      "outputs": [
        {
          "output_type": "stream",
          "text": [
            "Writing ex4_1.py\n"
          ],
          "name": "stdout"
        }
      ]
    },
    {
      "cell_type": "code",
      "metadata": {
        "colab": {
          "base_uri": "https://localhost:8080/"
        },
        "id": "0Nx7imwaNa9B",
        "outputId": "055d888a-1b5b-4fe8-ce39-8897a6b01875"
      },
      "source": [
        "!python ex4_1.py"
      ],
      "execution_count": null,
      "outputs": [
        {
          "output_type": "stream",
          "text": [
            "5 1 5 8 12 13\n",
            "5 8 1 23 1 11\n",
            "2 0 -1 0 -1\n"
          ],
          "name": "stdout"
        }
      ]
    },
    {
      "cell_type": "markdown",
      "metadata": {
        "id": "BJqsIGNCNbU_"
      },
      "source": [
        "##4-2: Majority Element"
      ]
    },
    {
      "cell_type": "code",
      "metadata": {
        "colab": {
          "base_uri": "https://localhost:8080/"
        },
        "id": "tGVGqwXgNfOz",
        "outputId": "fcbc3f49-de1e-43b1-cb08-485cf5403c4d"
      },
      "source": [
        "%%writefile ex4_2.py\n",
        "\n",
        "def df(l, r, s):\n",
        "    \n",
        "    if l+1==r:\n",
        "        return s[l]\n",
        "    elif l+2==r:\n",
        "        return s[l]\n",
        "\n",
        "    m = (l+r)//2\n",
        "\n",
        "    c1 = 0\n",
        "    c2 = 0\n",
        "\n",
        "    left = df(l, m, s)\n",
        "    right = df(m, r, s)\n",
        "\n",
        "    for i in s[l:r]:\n",
        "        if i == left:\n",
        "            c1 = c1 + 1\n",
        "        elif i == right:\n",
        "            c2 = c2 + 1\n",
        "\n",
        "    if c1>(r-l)//2 and left != -1:\n",
        "        return left\n",
        "    elif c2>(r-l)//2 and right != -1:\n",
        "        return right\n",
        "    else: \n",
        "        return -1\n",
        "\n",
        "n = int(input())\n",
        "s = list(map(int, input().split()))\n",
        "\n",
        "if df(0, n, s) != -1:\n",
        "    print(1)\n",
        "else:\n",
        "    print(0)"
      ],
      "execution_count": null,
      "outputs": [
        {
          "output_type": "stream",
          "text": [
            "Writing ex4_2.py\n"
          ],
          "name": "stdout"
        }
      ]
    },
    {
      "cell_type": "code",
      "metadata": {
        "colab": {
          "base_uri": "https://localhost:8080/"
        },
        "id": "yr-eira1NfiX",
        "outputId": "7e5b7f05-c3dd-451d-c98c-202796a55232"
      },
      "source": [
        "!python ex4_2.py"
      ],
      "execution_count": null,
      "outputs": [
        {
          "output_type": "stream",
          "text": [
            "5\n",
            "2 3 9 2 2\n",
            "1\n"
          ],
          "name": "stdout"
        }
      ]
    },
    {
      "cell_type": "code",
      "metadata": {
        "colab": {
          "base_uri": "https://localhost:8080/"
        },
        "id": "y-hxQTEJNhro",
        "outputId": "635ef8a8-f21b-4a94-dcb7-75e15dd2d967"
      },
      "source": [
        "!python ex4_2.py"
      ],
      "execution_count": null,
      "outputs": [
        {
          "output_type": "stream",
          "text": [
            "4\n",
            "1 2 3 4\n",
            "0\n"
          ],
          "name": "stdout"
        }
      ]
    },
    {
      "cell_type": "code",
      "metadata": {
        "colab": {
          "base_uri": "https://localhost:8080/"
        },
        "id": "33jYE89pNh93",
        "outputId": "041ebe20-299a-4208-ecee-de63623488c2"
      },
      "source": [
        "!python ex4_2.py"
      ],
      "execution_count": null,
      "outputs": [
        {
          "output_type": "stream",
          "text": [
            "4\n",
            "1 2 3 1\n",
            "0\n"
          ],
          "name": "stdout"
        }
      ]
    },
    {
      "cell_type": "markdown",
      "metadata": {
        "id": "jQZATfMdNsXy"
      },
      "source": [
        "##4-3: Improving Quick Sort"
      ]
    },
    {
      "cell_type": "code",
      "metadata": {
        "colab": {
          "base_uri": "https://localhost:8080/"
        },
        "id": "G9xd4vRsNy-R",
        "outputId": "5d976b16-3214-4cfb-adf0-24d7b3caadb6"
      },
      "source": [
        "%%writefile ex4_3.py\n",
        "\n",
        "import random\n",
        "\n",
        "def p(a, l, r):\n",
        "    \n",
        "    x = a[l]\n",
        "    m1 = l\n",
        "    m2 = l\n",
        "    for i in range(l + 1, r + 1):\n",
        "    \tif a[i] < x:\n",
        "        \ta[i],a[m1] = a[m1],a[i]\n",
        "        \tm1+=1\n",
        "        \tm2+=1\n",
        "        \ta[i],a[m2] = a[m2],a[i]\n",
        "    \telif a[i] == x:\n",
        "        \tm2+=1\n",
        "        \ta[i],a[m2] = a[m2],a[i]\n",
        "\n",
        "    return m1,m2\n",
        "\n",
        "\n",
        "def sort_quick(a, l, r):\n",
        "\n",
        "    if l >= r:\n",
        "        return\n",
        "\n",
        "    k = random.randint(l, r)\n",
        "    a[l], a[k] = a[k], a[l]\n",
        "    j,k = p(a, l, r)\n",
        "    sort_quick(a, l, j-1)\n",
        "    sort_quick(a, k+1, r)\n",
        "\n",
        "\n",
        "n = int(input())\n",
        "\n",
        "a = list(map(int, input().split()))\n",
        "\n",
        "sort_quick(a, 0, n - 1)\n",
        "\n",
        "for x in a:\n",
        "    print(x, end=' ')"
      ],
      "execution_count": null,
      "outputs": [
        {
          "output_type": "stream",
          "text": [
            "Writing ex4_3.py\n"
          ],
          "name": "stdout"
        }
      ]
    },
    {
      "cell_type": "code",
      "metadata": {
        "colab": {
          "base_uri": "https://localhost:8080/"
        },
        "id": "kq77JMgpNzIg",
        "outputId": "a13f6cdc-971c-4774-958d-8ec5aef0850d"
      },
      "source": [
        "!python ex4_3.py"
      ],
      "execution_count": null,
      "outputs": [
        {
          "output_type": "stream",
          "text": [
            "5\n",
            "2 3 9 2 2\n",
            "2 2 2 3 9 "
          ],
          "name": "stdout"
        }
      ]
    },
    {
      "cell_type": "markdown",
      "metadata": {
        "id": "hnYQirH9N1CC"
      },
      "source": [
        "##4-4: Number of Inversions"
      ]
    },
    {
      "cell_type": "code",
      "metadata": {
        "colab": {
          "base_uri": "https://localhost:8080/"
        },
        "id": "0XkibvKaN5y9",
        "outputId": "0f401e59-d8e3-4260-e8e6-ae5a89c28ba2"
      },
      "source": [
        "%%writefile ex4_4.py\n",
        "\n",
        "def merge(l, r):\n",
        "\n",
        "    final = []\n",
        "    j = 0\n",
        "    ic = 0\n",
        "    i = 0\n",
        "\n",
        "    while i < len(l) and j< len(r):\n",
        "\n",
        "        if l[i] <= r[j]:\n",
        "            final.append(l[i])\n",
        "            i += 1\n",
        "        else:\n",
        "            final.append(r[j])\n",
        "            ic += len(l) - i\n",
        "            j += 1\n",
        "\n",
        "    final += l[i:]\n",
        "    final += r[j:]\n",
        "        \n",
        "    return [final, ic]\n",
        "\n",
        "def merge_sort(arr):\n",
        "\n",
        "    global tc\n",
        "    \n",
        "    if len(arr) <= 1:\n",
        "        return arr\n",
        "\n",
        "    l = merge_sort(arr[:len(arr)//2])\n",
        "    r = merge_sort(arr[len(arr)//2:])\n",
        "\n",
        "    y = merge(l, r)\n",
        "    sorted_arr = y[0]\n",
        "    temp = y[1]\n",
        "\n",
        "    tc += temp\n",
        "\n",
        "    return sorted_arr\n",
        "\n",
        "tc = 0\n",
        "\n",
        "n = int(input())\n",
        "s = list(map(int, input().split()))\n",
        "\n",
        "merge_sort(s)\n",
        "print(tc)"
      ],
      "execution_count": null,
      "outputs": [
        {
          "output_type": "stream",
          "text": [
            "Writing ex4_4.py\n"
          ],
          "name": "stdout"
        }
      ]
    },
    {
      "cell_type": "code",
      "metadata": {
        "colab": {
          "base_uri": "https://localhost:8080/"
        },
        "id": "MG7VNgzNN6Kw",
        "outputId": "a0194120-bf11-4514-d8ef-c123bb736d0c"
      },
      "source": [
        "!python ex4_4.py"
      ],
      "execution_count": null,
      "outputs": [
        {
          "output_type": "stream",
          "text": [
            "5\n",
            "2 3 9 2 9\n",
            "2\n"
          ],
          "name": "stdout"
        }
      ]
    },
    {
      "cell_type": "markdown",
      "metadata": {
        "id": "j4NCbEv6N85Y"
      },
      "source": [
        "##4-5: Organizing a Lottery"
      ]
    },
    {
      "cell_type": "code",
      "metadata": {
        "colab": {
          "base_uri": "https://localhost:8080/"
        },
        "id": "A1SGMSCqN_qD",
        "outputId": "c28b1194-a0ab-4f7b-fdc0-cb4bd6e0fbfb"
      },
      "source": [
        "%%writefile ex4_5.py\n",
        "\n",
        "def result(s, p, ml):\n",
        "    \n",
        "    for i in range(s):\n",
        "        a, b = [int(i) for i in input().split()]\n",
        "        ml.append((a,'l'))\n",
        "        ml.append((b,'r'))\n",
        "\n",
        "    points = input().split()\n",
        "    for i in points:\n",
        "        ml.append((int(i),'p'))\n",
        "\n",
        "    ml.sort()\n",
        "\n",
        "    segment_count = 0\n",
        "    point_segment_map = dict()\n",
        "    for i in ml:\n",
        "        if i[1] == 'l': segment_count += 1\n",
        "        elif i[1] == 'r': segment_count -= 1\n",
        "        else:\n",
        "            point_segment_map[i[0]] = segment_count\n",
        "\n",
        "    temp = ''\n",
        "    for i in points:\n",
        "        temp += str(point_segment_map[int(i)]) + ' '\n",
        "\n",
        "    return temp[:-1]\n",
        "\n",
        "s, p = list(map(int, input().split()))\n",
        "\n",
        "ml = []\n",
        "\n",
        "print(result(s, p, ml))"
      ],
      "execution_count": null,
      "outputs": [
        {
          "output_type": "stream",
          "text": [
            "Writing ex4_5.py\n"
          ],
          "name": "stdout"
        }
      ]
    },
    {
      "cell_type": "code",
      "metadata": {
        "colab": {
          "base_uri": "https://localhost:8080/"
        },
        "id": "m2avH55RN_8g",
        "outputId": "7422e75f-6ecd-4eea-9657-6f474cdde3e3"
      },
      "source": [
        "!python ex4_5.py"
      ],
      "execution_count": null,
      "outputs": [
        {
          "output_type": "stream",
          "text": [
            "2 3\n",
            "0 5\n",
            "7 10\n",
            "1 6 11\n",
            "1 0 0\n"
          ],
          "name": "stdout"
        }
      ]
    },
    {
      "cell_type": "code",
      "metadata": {
        "colab": {
          "base_uri": "https://localhost:8080/"
        },
        "id": "02AII7HvOCZd",
        "outputId": "60d5fe05-27a0-4ea4-c9e4-00b214e907a3"
      },
      "source": [
        "!python ex4_5.py"
      ],
      "execution_count": null,
      "outputs": [
        {
          "output_type": "stream",
          "text": [
            "1 3\n",
            "-10 10\n",
            "-100 100 0\n",
            "0 0 1\n"
          ],
          "name": "stdout"
        }
      ]
    },
    {
      "cell_type": "code",
      "metadata": {
        "colab": {
          "base_uri": "https://localhost:8080/"
        },
        "id": "_YC59okeOCyr",
        "outputId": "3d6f2225-a6c8-42bd-90d5-0fd37e05caa8"
      },
      "source": [
        "!python ex4_5.py"
      ],
      "execution_count": null,
      "outputs": [
        {
          "output_type": "stream",
          "text": [
            "3 2\n",
            "0 5\n",
            "-3 2\n",
            "7 10\n",
            "1 6\n",
            "2 0\n"
          ],
          "name": "stdout"
        }
      ]
    },
    {
      "cell_type": "markdown",
      "metadata": {
        "id": "CdN7NxxfOFzP"
      },
      "source": [
        "##4-6: Closest Points"
      ]
    },
    {
      "cell_type": "code",
      "metadata": {
        "colab": {
          "base_uri": "https://localhost:8080/"
        },
        "id": "mkeLJUxPOJx7",
        "outputId": "ded6a6c6-7332-406b-871a-80b11d8a8dac"
      },
      "source": [
        "%%writefile ex4_6.py\n",
        "\n",
        "def dist(p1, p2):\n",
        "\n",
        "    return ((p1[0] - p2[0]) ** 2 + (p1[1] - p2[1]) ** 2)**(0.5)\n",
        "\n",
        "def closest_split_pair(p_x, p_y, delta, best_pair):\n",
        "\n",
        "    ln_x = len(p_x)\n",
        "    mx_x = p_x[ln_x // 2][0]\n",
        "\n",
        "    s_y = [x for x in p_y if mx_x - delta <= x[0] <= mx_x + delta]\n",
        "\n",
        "    best = delta\n",
        "    ln_y = len(s_y)\n",
        "\n",
        "    for i in range(ln_y - 1):\n",
        "        for j in range(i+1, min(i + 5, ln_y)):\n",
        "            p, q = s_y[i], s_y[j]\n",
        "            dst = dist(p, q)\n",
        "            if dst < best:\n",
        "                best_pair = p, q\n",
        "                best = dst\n",
        "\n",
        "    return best_pair[0], best_pair[1], best\n",
        "\n",
        "\n",
        "def brute(ax):\n",
        "\n",
        "    mi = dist(ax[0], ax[1])\n",
        "    p2 = ax[1]\n",
        "    ln_ax = len(ax)\n",
        "    p1 = ax[0]\n",
        "\n",
        "    if ln_ax == 2:\n",
        "        return p1, p2, mi\n",
        "\n",
        "    for i in range(ln_ax-1):\n",
        "        for j in range(i + 1, ln_ax):\n",
        "            if i != 0 and j != 1:\n",
        "                d = dist(ax[i], ax[j])\n",
        "                if d < mi:\n",
        "                    mi = d\n",
        "                    p1, p2 = ax[i], ax[j]\n",
        "    return p1, p2, mi\n",
        "\n",
        "\n",
        "def closest_pair(ax, ay):\n",
        "    ln_ax = len(ax)\n",
        "\n",
        "    if ln_ax <= 3:\n",
        "        return brute(ax)\n",
        "\n",
        "    mid = ln_ax // 2\n",
        "    Qx = ax[:mid]\n",
        "    Rx = ax[mid:]\n",
        "\n",
        "    midpoint = ax[mid][0]\n",
        "    Qy = list()\n",
        "    Ry = list()\n",
        "\n",
        "    for x in ay:\n",
        "        if x[0] < midpoint:\n",
        "           Qy.append(x)\n",
        "        else:\n",
        "           Ry.append(x)\n",
        "    \n",
        "    (p1, q1, mi1) = closest_pair(Qx, Qy)\n",
        "    (p2, q2, mi2) = closest_pair(Rx, Ry)\n",
        "\n",
        "\n",
        "    if mi1 <= mi2:\n",
        "        d = mi1\n",
        "        mn = (p1, q1)\n",
        "    else:\n",
        "        d = mi2\n",
        "        mn = (p2, q2)\n",
        "\n",
        "    \n",
        "    (p3, q3, mi3) = closest_split_pair(ax, ay, d, mn)\n",
        "    \n",
        "    if d <= mi3:\n",
        "        return mn[0], mn[1], d\n",
        "    else:\n",
        "        return p3, q3, mi3\n",
        "\n",
        "\n",
        "def sol(a):\n",
        "    ax = sorted(a, key=lambda x: x[0])\n",
        "    ay = sorted(a, key=lambda x: (x[1], x[0]))\n",
        "    p1, p2, mi = closest_pair(ax, ay)\n",
        "    return mi\n",
        "\n",
        "\n",
        "\n",
        "pnts = list()\n",
        "n = int(input())\n",
        "for i in range(n):\n",
        "    pnts.append(list(map(int, input().split())))\n",
        "\n",
        "print(sol(pnts))"
      ],
      "execution_count": null,
      "outputs": [
        {
          "output_type": "stream",
          "text": [
            "Writing ex4_6.py\n"
          ],
          "name": "stdout"
        }
      ]
    },
    {
      "cell_type": "code",
      "metadata": {
        "colab": {
          "base_uri": "https://localhost:8080/"
        },
        "id": "qc3jhxgOOJ-L",
        "outputId": "0ce7a674-dc86-4819-bb56-64e24e3bcc21"
      },
      "source": [
        "!python ex4_6.py"
      ],
      "execution_count": null,
      "outputs": [
        {
          "output_type": "stream",
          "text": [
            "2\n",
            "0 0\n",
            "3 4\n",
            "5.0\n"
          ],
          "name": "stdout"
        }
      ]
    },
    {
      "cell_type": "code",
      "metadata": {
        "colab": {
          "base_uri": "https://localhost:8080/"
        },
        "id": "CUErZl9_OKK0",
        "outputId": "5a84c167-7613-4b2b-9344-775b9d8f7d6b"
      },
      "source": [
        "!python ex4_6.py"
      ],
      "execution_count": null,
      "outputs": [
        {
          "output_type": "stream",
          "text": [
            "4\n",
            "7 7\n",
            "1 100\n",
            "4 8\n",
            "7 7\n",
            "0.0\n"
          ],
          "name": "stdout"
        }
      ]
    },
    {
      "cell_type": "code",
      "metadata": {
        "colab": {
          "base_uri": "https://localhost:8080/"
        },
        "id": "cot8mJTVOKZD",
        "outputId": "a330f7d6-a358-49c0-fd5c-ccea2c9071ed"
      },
      "source": [
        "!python ex4_6.py"
      ],
      "execution_count": null,
      "outputs": [
        {
          "output_type": "stream",
          "text": [
            "11\n",
            "4 4\n",
            "-2 -2\n",
            "-3 -4\n",
            "-1 3\n",
            "2 3\n",
            "-4 0\n",
            "1 1\n",
            "-1 -1\n",
            "3 -1\n",
            "-4 2\n",
            "-2 4\n",
            "1.4142135623730951\n"
          ],
          "name": "stdout"
        }
      ]
    },
    {
      "cell_type": "markdown",
      "metadata": {
        "id": "JfRZotVUOUfq"
      },
      "source": [
        "##Results:"
      ]
    },
    {
      "cell_type": "markdown",
      "metadata": {
        "id": "7lFHvU0l_XHF"
      },
      "source": [
        "![image.png](data:image/png;base64,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)"
      ]
    }
  ]
}