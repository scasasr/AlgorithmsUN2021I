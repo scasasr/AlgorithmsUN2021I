{
  "nbformat": 4,
  "nbformat_minor": 0,
  "metadata": {
    "colab": {
      "name": "scasasrAlgorithmicToolboxWeek1.ipynb",
      "provenance": [],
      "collapsed_sections": [],
      "include_colab_link": true
    },
    "kernelspec": {
      "name": "python3",
      "display_name": "Python 3"
    },
    "language_info": {
      "name": "python"
    }
  },
  "cells": [
    {
      "cell_type": "markdown",
      "metadata": {
        "id": "view-in-github",
        "colab_type": "text"
      },
      "source": [
        "<a href=\"https://colab.research.google.com/github/scasasr/AlgorithmsUN2021I/blob/main/Lab6/scasasrAlgorithmicToolboxWeek1.ipynb\" target=\"_parent\"><img src=\"https://colab.research.google.com/assets/colab-badge.svg\" alt=\"Open In Colab\"/></a>"
      ]
    },
    {
      "cell_type": "markdown",
      "metadata": {
        "id": "N1ok_-56OjB1"
      },
      "source": [
        "# I Solving the Sum of Two Digits Programming Challenge"
      ]
    },
    {
      "cell_type": "markdown",
      "metadata": {
        "id": "MMY7kmDSO0KM"
      },
      "source": [
        "## C++"
      ]
    },
    {
      "cell_type": "code",
      "metadata": {
        "colab": {
          "base_uri": "https://localhost:8080/"
        },
        "id": "2pGGf9BkPNIk",
        "outputId": "28e20713-8e4f-47cc-d3b2-8c4b7e8c1d19"
      },
      "source": [
        "%%writefile APlusB.cpp\n",
        "#include <iostream>\n",
        "\n",
        "int sum_of_two_digits(int first_digit, int second_digit) {\n",
        "    return first_digit + second_digit;\n",
        "}\n",
        "\n",
        "int main() {\n",
        "    int a = 0;\n",
        "    int b = 0;\n",
        "    std::cin >> a;\n",
        "    std::cin >> b;\n",
        "    std::cout << sum_of_two_digits(a, b);\n",
        "    return 0;\n",
        "}"
      ],
      "execution_count": null,
      "outputs": [
        {
          "output_type": "stream",
          "text": [
            "Overwriting APlusB.cpp\n"
          ],
          "name": "stdout"
        }
      ]
    },
    {
      "cell_type": "code",
      "metadata": {
        "colab": {
          "base_uri": "https://localhost:8080/"
        },
        "id": "0G3ZKOYAPXSU",
        "outputId": "95574e77-2ff7-4191-a74d-6715b7a92ed0"
      },
      "source": [
        "!g++ APlusB.cpp -o APlusB\n",
        "!./APlusB"
      ],
      "execution_count": null,
      "outputs": [
        {
          "output_type": "stream",
          "text": [
            "4 11\n",
            "15"
          ],
          "name": "stdout"
        }
      ]
    },
    {
      "cell_type": "markdown",
      "metadata": {
        "id": "iNkG2HqfTl9c"
      },
      "source": [
        "### Test input output files"
      ]
    },
    {
      "cell_type": "code",
      "metadata": {
        "colab": {
          "base_uri": "https://localhost:8080/"
        },
        "id": "aTzU2efzMxly",
        "outputId": "aa254a61-1152-42b5-a11e-a3981f96d972"
      },
      "source": [
        "%%writefile input1.txt\n",
        "4 8"
      ],
      "execution_count": null,
      "outputs": [
        {
          "output_type": "stream",
          "text": [
            "Overwriting input1.txt\n"
          ],
          "name": "stdout"
        }
      ]
    },
    {
      "cell_type": "markdown",
      "metadata": {
        "id": "pdkfsvs-T0Wr"
      },
      "source": [
        ""
      ]
    },
    {
      "cell_type": "code",
      "metadata": {
        "colab": {
          "base_uri": "https://localhost:8080/"
        },
        "id": "zBJ0Gc0NQRet",
        "outputId": "67219fb3-7e55-40af-8ee4-deada7384695"
      },
      "source": [
        "%%writefile output1.txt\n",
        "12"
      ],
      "execution_count": null,
      "outputs": [
        {
          "output_type": "stream",
          "text": [
            "Overwriting output1.txt\n"
          ],
          "name": "stdout"
        }
      ]
    },
    {
      "cell_type": "code",
      "metadata": {
        "colab": {
          "base_uri": "https://localhost:8080/"
        },
        "id": "IjEcIx63PJAN",
        "outputId": "3240ee72-df71-4592-8cb0-57fc8d1a7453"
      },
      "source": [
        "%%writefile input2.txt\n",
        "-5 9"
      ],
      "execution_count": null,
      "outputs": [
        {
          "output_type": "stream",
          "text": [
            "Overwriting input2.txt\n"
          ],
          "name": "stdout"
        }
      ]
    },
    {
      "cell_type": "code",
      "metadata": {
        "colab": {
          "base_uri": "https://localhost:8080/"
        },
        "id": "Up9gOrxURTmd",
        "outputId": "856b79e0-46b1-4c93-d4fa-eb0f3db7847d"
      },
      "source": [
        "%%writefile output2.txt\n",
        "4"
      ],
      "execution_count": null,
      "outputs": [
        {
          "output_type": "stream",
          "text": [
            "Overwriting output2.txt\n"
          ],
          "name": "stdout"
        }
      ]
    },
    {
      "cell_type": "code",
      "metadata": {
        "colab": {
          "base_uri": "https://localhost:8080/"
        },
        "id": "PST6G-s-Pwgc",
        "outputId": "1ffae13c-98c4-47d0-b3ef-317e4a855ec0"
      },
      "source": [
        "!./APlusB < input1.txt"
      ],
      "execution_count": null,
      "outputs": [
        {
          "output_type": "stream",
          "text": [
            "12"
          ],
          "name": "stdout"
        }
      ]
    },
    {
      "cell_type": "code",
      "metadata": {
        "colab": {
          "base_uri": "https://localhost:8080/"
        },
        "id": "cKxZOjSlRfIN",
        "outputId": "a132b940-176c-43fb-dc88-9d1b7a8b2607"
      },
      "source": [
        "!./APlusB < input2.txt"
      ],
      "execution_count": null,
      "outputs": [
        {
          "output_type": "stream",
          "text": [
            "4"
          ],
          "name": "stdout"
        }
      ]
    },
    {
      "cell_type": "markdown",
      "metadata": {
        "id": "Qw2TQWCCUwqk"
      },
      "source": [
        "### Comparing files with grep\n",
        "\n",
        "https://askubuntu.com/questions/546796/comparing-two-text-files"
      ]
    },
    {
      "cell_type": "code",
      "metadata": {
        "id": "WVIaAmMKU4QM"
      },
      "source": [
        "!grep -xvFf output1.txt output1.txt "
      ],
      "execution_count": null,
      "outputs": []
    },
    {
      "cell_type": "code",
      "metadata": {
        "colab": {
          "base_uri": "https://localhost:8080/"
        },
        "id": "MQU8gPPjQuYO",
        "outputId": "aa7bd22c-a990-4c3e-95a3-245a263f440f"
      },
      "source": [
        "!grep -xvFf output1.txt output2.txt "
      ],
      "execution_count": null,
      "outputs": [
        {
          "output_type": "stream",
          "text": [
            "4\n"
          ],
          "name": "stdout"
        }
      ]
    },
    {
      "cell_type": "code",
      "metadata": {
        "colab": {
          "base_uri": "https://localhost:8080/"
        },
        "id": "jYL9OuYBTD_l",
        "outputId": "971cb7af-db13-4a14-cf6d-a2d00149d320"
      },
      "source": [
        "!grep -xvFf output2.txt output1.txt "
      ],
      "execution_count": null,
      "outputs": [
        {
          "output_type": "stream",
          "text": [
            "12\n"
          ],
          "name": "stdout"
        }
      ]
    },
    {
      "cell_type": "code",
      "metadata": {
        "id": "Jlja0Xm4TX9M"
      },
      "source": [
        "!./APlusB < input1.txt> ctest1.txt\n",
        "!grep -xvFf output1.txt ctest1.txt"
      ],
      "execution_count": null,
      "outputs": []
    },
    {
      "cell_type": "code",
      "metadata": {
        "id": "g9OIUZA_QLCQ"
      },
      "source": [
        "!./APlusB < input2.txt > ctest2.txt\n",
        "!grep -xvFf output2.txt ctest2.txt"
      ],
      "execution_count": null,
      "outputs": []
    },
    {
      "cell_type": "markdown",
      "metadata": {
        "id": "3BgOaDjUVJk6"
      },
      "source": [
        "## Python"
      ]
    },
    {
      "cell_type": "code",
      "metadata": {
        "colab": {
          "base_uri": "https://localhost:8080/"
        },
        "id": "DBvl-T0CTN_8",
        "outputId": "a6fb70ad-9db0-452c-bec0-8d5f62be2189"
      },
      "source": [
        "%%writefile sum.py\n",
        "# python3\n",
        "\n",
        "def sum_of_two_digits(first_digit, second_digit):\n",
        "    return first_digit + second_digit\n",
        "\n",
        "if __name__ == '__main__':\n",
        "    a, b = map(int, input().split())\n",
        "    print(sum_of_two_digits(a, b))"
      ],
      "execution_count": null,
      "outputs": [
        {
          "output_type": "stream",
          "text": [
            "Overwriting sum.py\n"
          ],
          "name": "stdout"
        }
      ]
    },
    {
      "cell_type": "code",
      "metadata": {
        "colab": {
          "base_uri": "https://localhost:8080/"
        },
        "id": "QKoKM11_WGyF",
        "outputId": "e3867fb5-7d40-4ef1-ff1b-66c3135f67cb"
      },
      "source": [
        "!python sum.py"
      ],
      "execution_count": null,
      "outputs": [
        {
          "output_type": "stream",
          "text": [
            "32 90\n",
            "122\n"
          ],
          "name": "stdout"
        }
      ]
    },
    {
      "cell_type": "code",
      "metadata": {
        "id": "cocFbPRTWrqt"
      },
      "source": [
        "!python sum.py  < input1.txt> ptest1.txt\n",
        "!grep -xvFf output1.txt ptest1.txt"
      ],
      "execution_count": null,
      "outputs": []
    },
    {
      "cell_type": "code",
      "metadata": {
        "id": "MorKTa-XXASN"
      },
      "source": [
        "!python sum.py  < input2.txt> ptest2.txt\n",
        "!grep -xvFf output2.txt ptest2.txt"
      ],
      "execution_count": null,
      "outputs": []
    },
    {
      "cell_type": "markdown",
      "metadata": {
        "id": "uvP-mOubW_5F"
      },
      "source": [
        "# II Solving The Maximum Pairwise Product Programming Challenge in C++"
      ]
    },
    {
      "cell_type": "markdown",
      "metadata": {
        "id": "C12yoFR6Xonl"
      },
      "source": [
        "## C++"
      ]
    },
    {
      "cell_type": "code",
      "metadata": {
        "colab": {
          "base_uri": "https://localhost:8080/"
        },
        "id": "YL4qJX3tXxdd",
        "outputId": "76f550a6-b694-4086-951e-5aa1b3ac3845"
      },
      "source": [
        "%%writefile max_pairwise_product.cpp\n",
        "#include <iostream>\n",
        "#include <vector>\n",
        "#include <algorithm>\n",
        "\n",
        "int MaxPairwiseProduct(const std::vector<int>& numbers) {\n",
        "    int max_product = 0;\n",
        "    int n = numbers.size();\n",
        "\n",
        "    for (int first = 0; first < n; ++first) {\n",
        "        for (int second = first + 1; second < n; ++second) {\n",
        "            max_product = std::max(max_product,\n",
        "                numbers[first] * numbers[second]);\n",
        "        }\n",
        "    }\n",
        "\n",
        "    return max_product;\n",
        "}\n",
        "\n",
        "int main() {\n",
        "    int n;\n",
        "    std::cin >> n;\n",
        "    std::vector<int> numbers(n);\n",
        "    for (int i = 0; i < n; ++i) {\n",
        "        std::cin >> numbers[i];\n",
        "    }\n",
        "\n",
        "    std::cout << MaxPairwiseProduct(numbers) << \"\\n\";\n",
        "    return 0;\n",
        "}\n"
      ],
      "execution_count": null,
      "outputs": [
        {
          "output_type": "stream",
          "text": [
            "Overwriting max_pairwise_product.cpp\n"
          ],
          "name": "stdout"
        }
      ]
    },
    {
      "cell_type": "code",
      "metadata": {
        "colab": {
          "base_uri": "https://localhost:8080/"
        },
        "id": "KGxaEjvWX__O",
        "outputId": "3f856225-4011-46bf-dab1-05a7c27b2580"
      },
      "source": [
        "!g++ max_pairwise_product.cpp -o max_pairwise_product\n",
        "!./max_pairwise_product"
      ],
      "execution_count": null,
      "outputs": [
        {
          "output_type": "stream",
          "text": [
            "6\n",
            "23 1 89 56 34 5\n",
            "4984\n"
          ],
          "name": "stdout"
        }
      ]
    },
    {
      "cell_type": "markdown",
      "metadata": {
        "id": "e7KhxHGNS3i0"
      },
      "source": [
        "### Test 1: Small numbers"
      ]
    },
    {
      "cell_type": "code",
      "metadata": {
        "colab": {
          "base_uri": "https://localhost:8080/"
        },
        "id": "e1mmTzBgShT-",
        "outputId": "6fcd330a-9057-4023-8388-b4b64152d8ee"
      },
      "source": [
        "%%writefile input1.txt\n",
        "10\n",
        "1 2 3 4 5 6 7 8 9 10"
      ],
      "execution_count": null,
      "outputs": [
        {
          "output_type": "stream",
          "text": [
            "Writing input1.txt\n"
          ],
          "name": "stdout"
        }
      ]
    },
    {
      "cell_type": "code",
      "metadata": {
        "colab": {
          "base_uri": "https://localhost:8080/"
        },
        "id": "vy_uI0x7TCId",
        "outputId": "2783453a-1f2a-4243-f377-e8eee0e53ff5"
      },
      "source": [
        "!./max_pairwise_product < input1.txt"
      ],
      "execution_count": null,
      "outputs": [
        {
          "output_type": "stream",
          "text": [
            "90\n"
          ],
          "name": "stdout"
        }
      ]
    },
    {
      "cell_type": "markdown",
      "metadata": {
        "id": "IeZ3kTjpYmR9"
      },
      "source": [
        "### Test 2: largest input numbers 200000 200000 in the input"
      ]
    },
    {
      "cell_type": "code",
      "metadata": {
        "colab": {
          "base_uri": "https://localhost:8080/"
        },
        "id": "LQNlZqaqYt7U",
        "outputId": "ab53f097-8f78-4fd5-cd6e-d14f5a3eae1a"
      },
      "source": [
        "%%writefile input2.txt\n",
        "6\n",
        "1 3 200000 9 200000 23"
      ],
      "execution_count": null,
      "outputs": [
        {
          "output_type": "stream",
          "text": [
            "Writing input2.txt\n"
          ],
          "name": "stdout"
        }
      ]
    },
    {
      "cell_type": "code",
      "metadata": {
        "colab": {
          "base_uri": "https://localhost:8080/"
        },
        "id": "2Wad2VZUZDxR",
        "outputId": "53715137-ffce-4884-c4ef-98932df16b39"
      },
      "source": [
        "!./max_pairwise_product < input2.txt"
      ],
      "execution_count": null,
      "outputs": [
        {
          "output_type": "stream",
          "text": [
            "1345294336\n"
          ],
          "name": "stdout"
        }
      ]
    },
    {
      "cell_type": "markdown",
      "metadata": {
        "id": "H2SC0Qt5HCzz"
      },
      "source": [
        "Changing the variables to long long"
      ]
    },
    {
      "cell_type": "code",
      "metadata": {
        "colab": {
          "base_uri": "https://localhost:8080/"
        },
        "id": "MPcmsxiQZSfE",
        "outputId": "c8908e61-3a5f-49a9-c049-afdc56f8e9b8"
      },
      "source": [
        "%%writefile max_pairwise_product_long.cpp\n",
        "#include <iostream>\n",
        "#include <vector>\n",
        "#include <algorithm>\n",
        "\n",
        "long long MaxPairwiseProduct(const std::vector<int>& numbers) {\n",
        "    long long max_product = 0LL;\n",
        "\t  long long aux_product = 0LL;\n",
        "    int n = numbers.size();\n",
        "\n",
        "    for (int first = 0; first < n; ++first) {\n",
        "        for (int second = first + 1; second < n; ++second) {\n",
        "\t\t\t       aux_product =  (long long) numbers[first] * numbers[second];\n",
        "            if ( max_product < aux_product)  {\n",
        "\t\t\t\t        max_product = aux_product;\n",
        "             }\n",
        "        }\n",
        "    }\n",
        "\n",
        "    return max_product;\n",
        "}\n",
        "\n",
        "int main() {\n",
        "    int n;\n",
        "    std::cin >> n;\n",
        "    std::vector<int> numbers(n);\n",
        "    for (int i = 0; i < n; ++i) {\n",
        "        std::cin >> numbers[i];\n",
        "    }\n",
        "\n",
        "    std::cout << MaxPairwiseProduct(numbers) << \"\\n\";\n",
        "    return 0;\n",
        "}\n"
      ],
      "execution_count": null,
      "outputs": [
        {
          "output_type": "stream",
          "text": [
            "Writing max_pairwise_product_long.cpp\n"
          ],
          "name": "stdout"
        }
      ]
    },
    {
      "cell_type": "code",
      "metadata": {
        "colab": {
          "base_uri": "https://localhost:8080/"
        },
        "id": "I5pCeOG1Zm7s",
        "outputId": "857e0e16-cbac-4276-b003-b1f485f21f1f"
      },
      "source": [
        "!g++ max_pairwise_product_long.cpp -o max_pairwise_product_long\n",
        "!./max_pairwise_product_long < input1.txt\n",
        "!./max_pairwise_product_long < input2.txt"
      ],
      "execution_count": null,
      "outputs": [
        {
          "output_type": "stream",
          "text": [
            "90\n",
            "40000000000\n"
          ],
          "name": "stdout"
        }
      ]
    },
    {
      "cell_type": "markdown",
      "metadata": {
        "id": "XPVHkHxH6_7s"
      },
      "source": [
        "### Test 3  stress tests 20  times  random n in [2, 20] "
      ]
    },
    {
      "cell_type": "code",
      "metadata": {
        "id": "PwqpBmYr69fu",
        "colab": {
          "base_uri": "https://localhost:8080/"
        },
        "outputId": "1fc36a6a-3165-44d4-ff8b-fd097e834374"
      },
      "source": [
        "%%writefile StressTest1.cpp\n",
        "\n",
        "#include <cstdlib>\n",
        "#include <iostream>\n",
        "#include <vector>\n",
        "#include <stdio.h>\n",
        "\n",
        "using std::vector;\n",
        "using std::cout;\n",
        "\n",
        "vector <int> a;\n",
        "\n",
        "int MaxPairwiseProduct1(const std::vector<int>& numbers) {\n",
        "    int max_product = 0;\n",
        "    int n = numbers.size();\n",
        "\n",
        "    for (int first = 0; first < n; ++first) {\n",
        "        for (int second = first + 1; second < n; ++second) {\n",
        "            max_product = std::max(max_product,\n",
        "                numbers[first] * numbers[second]);\n",
        "        }\n",
        "    }\n",
        "\n",
        "    return max_product;\n",
        "}\n",
        "\n",
        "long long MaxPairwiseProduct2(const std::vector<int>& numbers) {\n",
        "    long long max_product = 0LL;\n",
        "\t  long long aux_product = 0LL;\n",
        "    int n = numbers.size();\n",
        "\n",
        "    for (int first = 0; first < n; ++first) {\n",
        "        for (int second = first + 1; second < n; ++second) {\n",
        "\t\t\t       aux_product =  (long long) numbers[first] * numbers[second];\n",
        "            if ( max_product < aux_product)  {\n",
        "\t\t\t\t        max_product = aux_product;\n",
        "             }\n",
        "        }\n",
        "    }\n",
        "\n",
        "    return max_product;\n",
        "}\n",
        "\n",
        "int main() {\n",
        "\n",
        "    for (int j=0; j<20; j++) {\n",
        "\n",
        "        int n = 2 + (rand() % (20 - 2 + 1));\n",
        "        cout << n << \"\\n\";\n",
        "        vector <int> a;\n",
        "\n",
        "        for (int i=0; i<n; i++) {\n",
        "            a.push_back(1 + (rand() % (200000 - 1 + 1)));\n",
        "        }\n",
        "\n",
        "        for (int i=0; i<n; i++) {\n",
        "            cout << a[i] << \" \";\n",
        "        }\n",
        "\n",
        "        cout << \"\\n\";\n",
        "\n",
        "        int res1 = MaxPairwiseProduct1(a);\n",
        "        long long res2 = MaxPairwiseProduct2(a);\n",
        "\n",
        "        if (res1 != res2) {\n",
        "            cout << \"Wrong answer: \" << res1 << \" \" << res2 << \"\\n\";\n",
        "        }\n",
        "        else {\n",
        "            cout << \"OK\\n\";\n",
        "        }\n",
        "\n",
        "    }\n",
        "\n",
        "\n",
        "}"
      ],
      "execution_count": null,
      "outputs": [
        {
          "output_type": "stream",
          "text": [
            "Overwriting StressTest1.cpp\n"
          ],
          "name": "stdout"
        }
      ]
    },
    {
      "cell_type": "code",
      "metadata": {
        "colab": {
          "base_uri": "https://localhost:8080/"
        },
        "id": "7i69SN0GhD06",
        "outputId": "2923400a-b549-4566-e196-5da6d9c8d8bb"
      },
      "source": [
        "!g++ StressTest1.cpp -o StressTest1\n",
        "!./StressTest1"
      ],
      "execution_count": null,
      "outputs": [
        {
          "output_type": "stream",
          "text": [
            "4\n",
            "130887 92778 36916 147794 \n",
            "Wrong answer: 1160996008 19344313278\n",
            "10\n",
            "85387 160493 116650 41422 2363 90028 168691 120060 97764 113927 \n",
            "Wrong answer: 2088920396 27073724663\n",
            "9\n",
            "183427 89173 55737 5212 195369 102568 156430 65783 21531 \n",
            "Wrong answer: 1919983863 35835949563\n",
            "8\n",
            "65124 174068 103136 113930 179803 34023 123059 133070 \n",
            "Wrong answer: 1822470173 31297948604\n",
            "7\n",
            "161394 18457 175012 78043 176230 177374 84422 \n",
            "Wrong answer: 2089365940 31258620020\n",
            "3\n",
            "13785 98538 175199 \n",
            "Wrong answer: 1358346330 17263759062\n",
            "11\n",
            "198316 64371 166414 3527 176092 68981 159957 41874 6863 199171 106997 \n",
            "Wrong answer: 2122301002 39498796036\n",
            "18\n",
            "102306 20926 77085 136328 60337 126506 150847 21730 61314 125858 16125 153896 19583 100546 98815 33368 115435 190365 \n",
            "Wrong answer: 2147249950 29296412040\n",
            "2\n",
            "113751 171088 \n",
            "Wrong answer: 0 19461431088\n",
            "15\n",
            "117277 147179 95789 193585 105404 102652 192755 12400 199933 95061 149677 193369 147740 10013 36227 \n",
            "Wrong answer: 2001929129 38704029805\n",
            "7\n",
            "148095 97540 140796 80571 51435 160379 97468 \n",
            "Wrong answer: 1560284412 23751328005\n",
            "15\n",
            "110098 12903 173318 170493 126653 60757 197302 160281 124287 9442 153866 29690 28445 146620 158441 \n",
            "Wrong answer: 2068105743 34195988036\n",
            "13\n",
            "158032 108118 138098 105772 34482 90676 120710 98928 104568 177857 179498 72354 54587 \n",
            "Wrong answer: 2105962912 31924975786\n",
            "6\n",
            "55307 164684 6220 28625 51529 132872 \n",
            "Wrong answer: 1583162875 21881892448\n",
            "17\n",
            "48830 9504 130020 58271 163369 159709 86716 26341 118150 147797 100724 142619 2246 122847 93452 92922 43556 \n",
            "Wrong answer: 2142478836 26091499621\n",
            "19\n",
            "197489 137765 88229 69842 192351 165194 41501 157035 87765 70125 124915 136988 75857 173744 146492 122228 148366 109860 81937 \n",
            "Wrong answer: 2137405828 37987206639\n",
            "11\n",
            "52552 116438 99229 153276 175408 101475 76122 68859 194396 36030 61238 \n",
            "Wrong answer: 2109851500 34098613568\n",
            "3\n",
            "173794 65819 94429 \n",
            "Wrong answer: 1920255055 16411193626\n",
            "10\n",
            "31012 135929 39530 118777 122405 164444 55764 114614 54539 118607 \n",
            "Wrong answer: 2096367800 22352708476\n",
            "7\n",
            "2905 144819 35129 70689 197370 67918 169918 \n",
            "Wrong answer: 1674082126 33536715660\n"
          ],
          "name": "stdout"
        }
      ]
    },
    {
      "cell_type": "markdown",
      "metadata": {
        "id": "9z9yr5QkeyJF"
      },
      "source": [
        "### Test 4  time test  measure the execution time running with the the largest worst case file (200000 increasing numbers, 200000 and 200000 the end) "
      ]
    },
    {
      "cell_type": "code",
      "metadata": {
        "id": "oLiMjbAIfPlX",
        "colab": {
          "base_uri": "https://localhost:8080/"
        },
        "outputId": "4cb04da1-8b93-4d65-b6a9-01cc0ff1400f"
      },
      "source": [
        "%%writefile Test2Write.cpp\n",
        "\n",
        "#include <iostream>\n",
        "#include <fstream>\n",
        "#include <cstdlib>\n",
        "\n",
        "using namespace std;\n",
        "\n",
        "int main() {\n",
        "  // Create and open a text file\n",
        "  ofstream MyFile(\"input3.txt\");\n",
        "\n",
        " MyFile << 200000 <<\"\\n\";  // n \n",
        " for (int i=1; i < 200001; i++){\n",
        "     MyFile << i <<\" \";\n",
        " }\n",
        "  \n",
        "  // Close the file\n",
        "  MyFile.close();\n",
        "}"
      ],
      "execution_count": null,
      "outputs": [
        {
          "output_type": "stream",
          "text": [
            "Writing Test2Write.cpp\n"
          ],
          "name": "stdout"
        }
      ]
    },
    {
      "cell_type": "code",
      "metadata": {
        "id": "EH25TkOkZfD9"
      },
      "source": [
        "!g++ Test2Write.cpp -o Test2Write\n",
        "!./Test2Write"
      ],
      "execution_count": null,
      "outputs": []
    },
    {
      "cell_type": "markdown",
      "metadata": {
        "id": "JB6f03qO-lj9"
      },
      "source": [
        "Measure time\n",
        "\n",
        "https://askubuntu.com/questions/53444/how-can-i-measure-the-execution-time-of-a-terminal-process"
      ]
    },
    {
      "cell_type": "code",
      "metadata": {
        "colab": {
          "base_uri": "https://localhost:8080/"
        },
        "id": "6p2QLEr576zk",
        "outputId": "d006bee0-2b6f-48c5-afbf-de4427feb6fb"
      },
      "source": [
        "!g++ max_pairwise_product_long.cpp -o max_pairwise_product_long\n",
        "!time ./max_pairwise_product_long < input3.txt"
      ],
      "execution_count": null,
      "outputs": [
        {
          "output_type": "stream",
          "text": [
            "39999800000\n",
            "\n",
            "real\t2m7.508s\n",
            "user\t2m7.223s\n",
            "sys\t0m0.026s\n"
          ],
          "name": "stdout"
        }
      ]
    },
    {
      "cell_type": "markdown",
      "metadata": {
        "id": "AmZeB2wYjxy5"
      },
      "source": [
        "##### Calculate  the number of instructions executed by the algorithm as a function of n, add in each line a comment with the number of instructions that are executed in that line \n",
        "\n",
        "```cpp\n",
        " int main() {                         //N inst exec by line executed  \n",
        "   \n",
        "    int n;                            //1                      \n",
        "    std::cin >> n;                    //1\n",
        "                                              \n",
        "    std::vector<int> numbers(n);      //n    init vector\n",
        "    .\n",
        "    .\n",
        " }\n",
        "\n",
        "```"
      ]
    },
    {
      "cell_type": "code",
      "metadata": {
        "colab": {
          "base_uri": "https://localhost:8080/"
        },
        "id": "djGX3FL13g9b",
        "outputId": "270176eb-1660-419e-de67-2c8f8c3c7f74"
      },
      "source": [
        "%%writefile test_init_vectors.cpp\n",
        "#include <iostream>\n",
        "#include <vector>\n",
        "#include <algorithm>\n",
        "int main() {                                                               \n",
        "    int n = 10;                                                                                                                            //1\n",
        "    std::vector<int> numbers(n);                                            \n",
        "    for (int i = 0; i < n; ++i) {                                           \n",
        "        std::cout << numbers[i];                                             \n",
        "    }\n",
        "\n",
        "    std::cout << \"\\n\";                       \n",
        "    return 0;                                                              \n",
        "}  "
      ],
      "execution_count": null,
      "outputs": [
        {
          "output_type": "stream",
          "text": [
            "Overwriting test_init_vectors.cpp\n"
          ],
          "name": "stdout"
        }
      ]
    },
    {
      "cell_type": "code",
      "metadata": {
        "colab": {
          "base_uri": "https://localhost:8080/"
        },
        "id": "44gZcuE237-1",
        "outputId": "7f5f9c2a-bed0-4223-ee39-3290f70db610"
      },
      "source": [
        "!g++ test_init_vectors.cpp -o test_init_vectors\n",
        "!./test_init_vectors"
      ],
      "execution_count": null,
      "outputs": [
        {
          "output_type": "stream",
          "text": [
            "0000000000\n"
          ],
          "name": "stdout"
        }
      ]
    },
    {
      "cell_type": "code",
      "metadata": {
        "colab": {
          "base_uri": "https://localhost:8080/"
        },
        "id": "uG6Mv-Pwlkii",
        "outputId": "8b4b2a48-2fc3-4feb-81ab-088e183a49f5"
      },
      "source": [
        "%%writefile max_pairwise_product_long.cpp\n",
        "#include <iostream>\n",
        "#include <vector>\n",
        "#include <algorithm>\n",
        "\n",
        "long long MaxPairwiseProduct(const std::vector<int>& numbers) {              //N inst exec by line executed \n",
        "    long long max_product = 0LL;                                             //1                                          \n",
        "\t  long long aux_product = 0LL;                                             //1 \n",
        "    int n = numbers.size();                                                  //1 \n",
        "                                                                             \n",
        "    for (int first = 0; first < n; ++first) {                                //1+2n  \n",
        "        for (int second = first + 1; second < n; ++second) {                 //n + (n-1)n \n",
        "\t\t\t       aux_product =  (long long) numbers[first] * numbers[second];    //(n-1)n/2 \n",
        "            if (max_product < aux_product)  {                                //(n-1)n/2 \n",
        "\t\t\t\t        max_product = aux_product;                                   //[0, (n-1)n/2] \n",
        "             }\n",
        "        }\n",
        "    }\n",
        "                                                                             // -------------- \n",
        "    return max_product;                                                      // 4 + 3n + [2(n-1)n, 2.5 (n-1)n] \n",
        "}\n",
        "\n",
        "int main() {                                              //N inst exec by line executed \n",
        "    int n;                                                //1  \n",
        "    std::cin >> n;                                        //1\n",
        "    std::vector<int> numbers(n);                          //n\n",
        "    for (int i = 0; i < n; ++i) {                         //1 + 2n\n",
        "        std::cin >> numbers[i];                           //n\n",
        "    }\n",
        "\n",
        "    std::cout << MaxPairwiseProduct(numbers) << \"\\n\";     //1 + 1  + 4 + 3n + [2(n-1)n, 2.5 (n-1)n]\n",
        "    return 0;                                             // -------------- \n",
        "}                                                         // 9 + 7n + [2(n-1)n, 2.5 (n-1)n]\n"
      ],
      "execution_count": null,
      "outputs": [
        {
          "output_type": "stream",
          "text": [
            "Overwriting max_pairwise_product_long.cpp\n"
          ],
          "name": "stdout"
        }
      ]
    },
    {
      "cell_type": "markdown",
      "metadata": {
        "id": "0vTsUg8OwcHs"
      },
      "source": [
        "Count executed intructions in code and verify with inputs 1, 2 and 3"
      ]
    },
    {
      "cell_type": "code",
      "metadata": {
        "colab": {
          "base_uri": "https://localhost:8080/"
        },
        "id": "CuRKkqQc137V",
        "outputId": "58b72004-01f8-4734-96f8-5ff1a32cdd31"
      },
      "source": [
        "%%writefile max_pairwise_product_long_execints.cpp\n",
        "#include <iostream>\n",
        "#include <vector>\n",
        "#include <algorithm>\n",
        "\n",
        "long long MaxPairwiseProduct(const std::vector<int>& numbers, long long &execints) {              //N inst exec by line executed \n",
        "    \n",
        "    long long m = 0LL;                                                       //1\n",
        "    \n",
        "    long long max_product = 0LL;                                             //1\n",
        "    execints++;\n",
        "\n",
        "\t  long long aux_product = 0LL;                                             //1\n",
        "    execints++;\n",
        "\n",
        "    int n = numbers.size();                                                  //1 \n",
        "    execints++;\n",
        "\n",
        "    execints++;                                                                         \n",
        "    for (int first = 0; first < n; ++first) {                                //1+2n  \n",
        "        execints += 2;\n",
        "\n",
        "        long long m = 0LL;\n",
        "\n",
        "        execints++;                                    \n",
        "        for (int second = first + 1; second < n; ++second) {                 //n+ (n-1)n \n",
        "            execints += 2;                                                \n",
        "\n",
        "\t\t\t      aux_product =  (long long) numbers[first] * numbers[second];    //(n-1)n/2 \n",
        "            execints++; \n",
        "\n",
        "            execints++; \n",
        "            if ( max_product < aux_product)  {                               //(n-1)n/2 \n",
        "                       \n",
        "\t\t\t\t        max_product = aux_product;                                   //[0, (n-1)n/2] \n",
        "                execints++; \n",
        "                m++;\n",
        "             }\n",
        "        }\n",
        "        if ( (first <= 10) || (n- first <= 10)) std::cout << m << \"\\n\";\n",
        "    }\n",
        "                                                                            // -------------- \n",
        "    return max_product;                                                     // 4 + 3n + [2(n-1)n, 2.5 (n-1)n] \n",
        "}\n",
        "\n",
        "int main() {                                                 //N inst exec by line executed \n",
        "    long long execints =0LL;\n",
        "\n",
        "    int n;                                                   //1\n",
        "    execints++;                                                              \n",
        "    \n",
        "    std::cin >> n;                                           //1\n",
        "    execints++;\n",
        "\n",
        "    std::vector<int> numbers(n);                             //n\n",
        "    execints += n;\n",
        "    \n",
        "    execints++;\n",
        "    for (int i = 0; i < n; ++i) {                            //1 + 2n\n",
        "        execints += 2;\n",
        "\n",
        "        std::cin >> numbers[i];\n",
        "        execints++;                                          //n\n",
        "    }\n",
        "    \n",
        "    //std::cout << MaxPairwiseProduct(numbers) << \"\\n\";      //1 + 1  + 4 + 3n + [2(n-1)n, 2.5 (n-1)n]\n",
        "\n",
        "    execints++;\n",
        "    int M = MaxPairwiseProduct(numbers,execints);\n",
        "\n",
        "    execints++;\n",
        "    std::cout <<  execints << \"\\n\";                       \n",
        "    return 0;                                                // -------------- \n",
        "}                                                            // 9 + 7n + [2(n-1)n, 2.5 (n-1)n]"
      ],
      "execution_count": null,
      "outputs": [
        {
          "output_type": "stream",
          "text": [
            "Overwriting max_pairwise_product_long_execints.cpp\n"
          ],
          "name": "stdout"
        }
      ]
    },
    {
      "cell_type": "code",
      "metadata": {
        "colab": {
          "base_uri": "https://localhost:8080/"
        },
        "id": "Kuvm1C05ly2a",
        "outputId": "f8e2f872-e7d9-4732-acb4-5ffe2e6568d1"
      },
      "source": [
        "!g++ max_pairwise_product_long_execints.cpp -o max_pairwise_product_long_execints\n",
        "!./max_pairwise_product_long_execints < input1.txt\n",
        "!./max_pairwise_product_long_execints < input2.txt\n",
        "!./max_pairwise_product_long_execints < input3.txt"
      ],
      "execution_count": null,
      "outputs": [
        {
          "output_type": "stream",
          "text": [
            "9\n",
            "5\n",
            "4\n",
            "3\n",
            "2\n",
            "2\n",
            "2\n",
            "2\n",
            "1\n",
            "0\n",
            "289\n",
            "2\n",
            "1\n",
            "2\n",
            "0\n",
            "0\n",
            "0\n",
            "116\n",
            "199999\n",
            "100000\n",
            "66667\n",
            "50000\n",
            "40000\n",
            "33334\n",
            "28572\n",
            "25000\n",
            "22223\n",
            "20000\n",
            "18182\n",
            "2\n",
            "2\n",
            "2\n",
            "2\n",
            "2\n",
            "2\n",
            "2\n",
            "2\n",
            "1\n",
            "0\n",
            "80003672077\n"
          ],
          "name": "stdout"
        }
      ]
    },
    {
      "cell_type": "markdown",
      "metadata": {
        "id": "L_uaamxeAHK7"
      },
      "source": [
        "The number of instructions executed by the algooirithm with a list of size $n$ is  \n",
        "\n",
        "$$T = 9 + 7n + [2(n-1)n, 2.5 (n-1)n]$$\n",
        "\n",
        "It depends on the size of the lists and  the order of the list.\n",
        "\n",
        "For the input1.txt \n",
        "```\n",
        "10\n",
        "1 2 3 4 5 6 7 8 9 10\n",
        "```\n",
        "$$T = 9 + 7(10) + 2(9)(10) +  9 + 5 + 4 + 3 + 2 + 2 + 2 + 2 + 1 + 0  = 289 $$\n",
        "\n",
        "For the input2.txt \n",
        "```\n",
        "6\n",
        "1 3 200000 9 200000 23\n",
        "```\n",
        "$$T = 9 + 7(6) + 2(5)(6)  +  2 + 1 + 2 + 0 + 0 + 0 = 116 $$\n",
        "\n",
        "\n",
        "For the input3.txt that is the worst case (n=200000 and list in incresing order)\n",
        "\n",
        "```\n",
        "200000\n",
        "1 2 3 4 5 6 7 8 9 10 ... 199998 199999 200000\n",
        "```\n",
        "\n",
        "$$\n",
        "\\begin{array}{ll}\n",
        "T &= 9 + 7(200000) + (2)(199999)(200000)  + (199999 +\n",
        "100000 + 66667 +50000 \\cdots 2 + 2 + 1)\\\\\n",
        "&= 80003672077  \\\\\n",
        "  &< 9 + 7(200000) + (2.5)(199999)(200000) \\\\\n",
        "  & = 100000900009\n",
        "\\end{array}\n",
        "  $$"
      ]
    },
    {
      "cell_type": "markdown",
      "metadata": {
        "id": "NXW7QkoBL6xH"
      },
      "source": [
        "Calculate estimated time by instruction and number of instructions by second"
      ]
    },
    {
      "cell_type": "code",
      "metadata": {
        "colab": {
          "base_uri": "https://localhost:8080/"
        },
        "id": "pKqB3i7dIxnc",
        "outputId": "cec850f5-16e3-4cd6-bf9b-6f5f2fd7b076"
      },
      "source": [
        "# Estimated time by instruction\n",
        "\n",
        "128/80003672077 \n"
      ],
      "execution_count": null,
      "outputs": [
        {
          "output_type": "execute_result",
          "data": {
            "text/plain": [
              "1.5999265618308827e-09"
            ]
          },
          "metadata": {
            "tags": []
          },
          "execution_count": 34
        }
      ]
    },
    {
      "cell_type": "code",
      "metadata": {
        "colab": {
          "base_uri": "https://localhost:8080/"
        },
        "id": "18N1ouqeMhE1",
        "outputId": "d7d4d1bf-b899-4c01-8ecb-e30da3ae6468"
      },
      "source": [
        "# Estimated number of instructions by second\n",
        "\n",
        "1/(128/80003672077) "
      ],
      "execution_count": null,
      "outputs": [
        {
          "output_type": "execute_result",
          "data": {
            "text/plain": [
              "625028688.1015625"
            ]
          },
          "metadata": {
            "tags": []
          },
          "execution_count": 35
        }
      ]
    },
    {
      "cell_type": "markdown",
      "metadata": {
        "id": "CQufozXLNJwO"
      },
      "source": [
        "### Efficient solution"
      ]
    },
    {
      "cell_type": "markdown",
      "metadata": {
        "id": "nLcKBwbU0QsE"
      },
      "source": [
        "Add in each line a coment with the number of instruction that are executed in that line"
      ]
    },
    {
      "cell_type": "code",
      "metadata": {
        "id": "knls5Fh3NSt_",
        "colab": {
          "base_uri": "https://localhost:8080/"
        },
        "outputId": "15a6d18a-10d7-467c-e5cd-fed291517804"
      },
      "source": [
        "%%writefile max_pairwise_product_ef.cpp\n",
        "#include <cstdlib>\n",
        "#include <iostream>\n",
        "#include <vector>\n",
        "\n",
        "using namespace std;\n",
        "\n",
        "long long MaxPairwiseProductFast(const vector<int> &numbers) {                                            //N inst exec by line executed\n",
        "    int n = numbers.size();                                                                               //1\n",
        "\n",
        "    int max_index1 = -1;                                                                                  //1\n",
        "    for (int i = 0; i < n; ++i)                                                                           //1 + 2n\n",
        "        if ((max_index1 == -1) || (numbers[i] > numbers[max_index1]))                                     //n\n",
        "            max_index1 = i;                                                                               //[1, n]\n",
        "\n",
        "    int max_index2 = -1;                                                                                  //1\n",
        "    for (int j = 0; j < n; ++j)                                                                           //1 + 2n\n",
        "        if ((j != max_index1) && ((max_index2 == -1) || (numbers[j] > numbers[max_index2])))              //n\n",
        "            max_index2 = j;                                                                               //[1, n]\n",
        "\n",
        "    return ((long long) (numbers[max_index1])) * numbers[max_index2];                                     //5 + 6n + [2, 2n]\n",
        "}\n",
        "\n",
        "int main() {\n",
        "    \n",
        "    int n;                                                                                                //1\n",
        "    cin >> n;                                                                                             //1\n",
        "    vector<int> numbers(n);                                                                               //n\n",
        "    for (int i = 0; i < n; ++i) {                                                                         //1 + 2n\n",
        "        cin >> numbers[i];                                                                                //n\n",
        "    }\n",
        "\n",
        "    long long result = MaxPairwiseProductFast(numbers);                                                   //5 + 6n + [2, 2n]\n",
        "    cout << result << \"\\n\";                                                                               //1\n",
        "\n",
        "    return 0;\n",
        "    \n",
        "}"
      ],
      "execution_count": null,
      "outputs": [
        {
          "output_type": "stream",
          "text": [
            "Overwriting max_pairwise_product_ef.cpp\n"
          ],
          "name": "stdout"
        }
      ]
    },
    {
      "cell_type": "markdown",
      "metadata": {
        "id": "-JCijbWxNSii"
      },
      "source": [
        "Test with inputs 1 and 2\n",
        "\n"
      ]
    },
    {
      "cell_type": "code",
      "metadata": {
        "id": "TrTGAfqlNVXT",
        "colab": {
          "base_uri": "https://localhost:8080/"
        },
        "outputId": "f5e7cbec-4392-4593-c457-0ce123fbab09"
      },
      "source": [
        "!g++ max_pairwise_product_ef.cpp -o max_pairwise_product_ef\n",
        "!time ./max_pairwise_product_ef < input1.txt"
      ],
      "execution_count": null,
      "outputs": [
        {
          "output_type": "stream",
          "text": [
            "90\n",
            "\n",
            "real\t0m0.003s\n",
            "user\t0m0.001s\n",
            "sys\t0m0.002s\n"
          ],
          "name": "stdout"
        }
      ]
    },
    {
      "cell_type": "code",
      "metadata": {
        "colab": {
          "base_uri": "https://localhost:8080/"
        },
        "id": "Uy96zeCMAPZt",
        "outputId": "114ca193-1d98-4ddc-9573-2f7d9a4ce1fb"
      },
      "source": [
        "!g++ max_pairwise_product_ef.cpp -o max_pairwise_product_ef\n",
        "!time ./max_pairwise_product_ef < input2.txt"
      ],
      "execution_count": null,
      "outputs": [
        {
          "output_type": "stream",
          "text": [
            "40000000000\n",
            "\n",
            "real\t0m0.003s\n",
            "user\t0m0.002s\n",
            "sys\t0m0.001s\n"
          ],
          "name": "stdout"
        }
      ]
    },
    {
      "cell_type": "markdown",
      "metadata": {
        "id": "PRX51wADNR8b"
      },
      "source": [
        "Test and time it with input 3"
      ]
    },
    {
      "cell_type": "code",
      "metadata": {
        "id": "v4z7-Is_NRt7",
        "colab": {
          "base_uri": "https://localhost:8080/"
        },
        "outputId": "f37b69fd-c493-4194-9bc1-f55f37792967"
      },
      "source": [
        "!g++ max_pairwise_product_ef.cpp -o max_pairwise_product_ef\n",
        "!time ./max_pairwise_product_ef < input3.txt"
      ],
      "execution_count": null,
      "outputs": [
        {
          "output_type": "stream",
          "text": [
            "39999800000\n",
            "\n",
            "real\t0m0.071s\n",
            "user\t0m0.067s\n",
            "sys\t0m0.004s\n"
          ],
          "name": "stdout"
        }
      ]
    },
    {
      "cell_type": "markdown",
      "metadata": {
        "id": "rpdfs0_TNZJf"
      },
      "source": [
        "20 stress tests"
      ]
    },
    {
      "cell_type": "code",
      "metadata": {
        "id": "Lu4tYcKzNcTT",
        "colab": {
          "base_uri": "https://localhost:8080/"
        },
        "outputId": "cea1acb9-1ada-4d2e-947c-f11eb14036cf"
      },
      "source": [
        "%%writefile StressTest2.cpp\n",
        "\n",
        "#include <cstdlib>\n",
        "#include <iostream>\n",
        "#include <vector>\n",
        "#include <stdio.h>\n",
        "\n",
        "using std::vector;\n",
        "using std::cout;\n",
        "\n",
        "vector <int> a;\n",
        "\n",
        "long long MaxPairwiseProductFast(const vector<int> &numbers) {                                            \n",
        "    int n = numbers.size();                                                                               \n",
        "\n",
        "    int max_index1 = -1;                                                                                  \n",
        "    for (int i = 0; i < n; ++i)                                                                           \n",
        "        if ((max_index1 == -1) || (numbers[i] > numbers[max_index1]))                                     \n",
        "            max_index1 = i;                                                                               \n",
        "\n",
        "    int max_index2 = -1;                                                                                 \n",
        "    for (int j = 0; j < n; ++j)                                                                          \n",
        "        if ((j != max_index1) && ((max_index2 == -1) || (numbers[j] > numbers[max_index2])))             \n",
        "            max_index2 = j;                                                                              \n",
        "\n",
        "    return ((long long) (numbers[max_index1])) * numbers[max_index2];                                     \n",
        "}\n",
        "\n",
        "long long MaxPairwiseProduct2(const std::vector<int>& numbers) {\n",
        "    long long max_product = 0LL;\n",
        "\t  long long aux_product = 0LL;\n",
        "    int n = numbers.size();\n",
        "\n",
        "    for (int first = 0; first < n; ++first) {\n",
        "        for (int second = first + 1; second < n; ++second) {\n",
        "\t\t\t       aux_product =  (long long) numbers[first] * numbers[second];\n",
        "            if ( max_product < aux_product)  {\n",
        "\t\t\t\t        max_product = aux_product;\n",
        "             }\n",
        "        }\n",
        "    }\n",
        "\n",
        "    return max_product;\n",
        "}\n",
        "\n",
        "int main() {\n",
        "\n",
        "    for (int j=0; j<20; j++) {\n",
        "\n",
        "        int n = 2 + (rand() % (20 - 2 + 1));\n",
        "        cout << n << \"\\n\";\n",
        "        vector <int> a;\n",
        "\n",
        "        for (int i=0; i<n; i++) {\n",
        "            a.push_back(1 + (rand() % (200000 - 1 + 1)));\n",
        "        }\n",
        "\n",
        "        for (int i=0; i<n; i++) {\n",
        "            cout << a[i] << \" \";\n",
        "        }\n",
        "\n",
        "        cout << \"\\n\";\n",
        "\n",
        "        long long res1 = MaxPairwiseProduct2(a);\n",
        "        long long res2 = MaxPairwiseProductFast(a);\n",
        "\n",
        "        if (res1 != res2) {\n",
        "            cout << \"Wrong answer: \" << res1 << \" \" << res2 << \"\\n\";\n",
        "        }\n",
        "        else {\n",
        "            cout << \"OK\\n\";\n",
        "        }\n",
        "\n",
        "    }\n",
        "\n",
        "\n",
        "}"
      ],
      "execution_count": null,
      "outputs": [
        {
          "output_type": "stream",
          "text": [
            "Overwriting StressTest2.cpp\n"
          ],
          "name": "stdout"
        }
      ]
    },
    {
      "cell_type": "code",
      "metadata": {
        "id": "dh85RM8vNhFz",
        "colab": {
          "base_uri": "https://localhost:8080/"
        },
        "outputId": "87e31c89-81ed-4f56-b307-1a941e093db1"
      },
      "source": [
        "!g++ StressTest2.cpp -o StressTest2\n",
        "!./StressTest2"
      ],
      "execution_count": null,
      "outputs": [
        {
          "output_type": "stream",
          "text": [
            "4\n",
            "130887 92778 36916 147794 \n",
            "OK\n",
            "10\n",
            "85387 160493 116650 41422 2363 90028 168691 120060 97764 113927 \n",
            "OK\n",
            "9\n",
            "183427 89173 55737 5212 195369 102568 156430 65783 21531 \n",
            "OK\n",
            "8\n",
            "65124 174068 103136 113930 179803 34023 123059 133070 \n",
            "OK\n",
            "7\n",
            "161394 18457 175012 78043 176230 177374 84422 \n",
            "OK\n",
            "3\n",
            "13785 98538 175199 \n",
            "OK\n",
            "11\n",
            "198316 64371 166414 3527 176092 68981 159957 41874 6863 199171 106997 \n",
            "OK\n",
            "18\n",
            "102306 20926 77085 136328 60337 126506 150847 21730 61314 125858 16125 153896 19583 100546 98815 33368 115435 190365 \n",
            "OK\n",
            "2\n",
            "113751 171088 \n",
            "OK\n",
            "15\n",
            "117277 147179 95789 193585 105404 102652 192755 12400 199933 95061 149677 193369 147740 10013 36227 \n",
            "OK\n",
            "7\n",
            "148095 97540 140796 80571 51435 160379 97468 \n",
            "OK\n",
            "15\n",
            "110098 12903 173318 170493 126653 60757 197302 160281 124287 9442 153866 29690 28445 146620 158441 \n",
            "OK\n",
            "13\n",
            "158032 108118 138098 105772 34482 90676 120710 98928 104568 177857 179498 72354 54587 \n",
            "OK\n",
            "6\n",
            "55307 164684 6220 28625 51529 132872 \n",
            "OK\n",
            "17\n",
            "48830 9504 130020 58271 163369 159709 86716 26341 118150 147797 100724 142619 2246 122847 93452 92922 43556 \n",
            "OK\n",
            "19\n",
            "197489 137765 88229 69842 192351 165194 41501 157035 87765 70125 124915 136988 75857 173744 146492 122228 148366 109860 81937 \n",
            "OK\n",
            "11\n",
            "52552 116438 99229 153276 175408 101475 76122 68859 194396 36030 61238 \n",
            "OK\n",
            "3\n",
            "173794 65819 94429 \n",
            "OK\n",
            "10\n",
            "31012 135929 39530 118777 122405 164444 55764 114614 54539 118607 \n",
            "OK\n",
            "7\n",
            "2905 144819 35129 70689 197370 67918 169918 \n",
            "OK\n"
          ],
          "name": "stdout"
        }
      ]
    },
    {
      "cell_type": "markdown",
      "metadata": {
        "id": "tGblvDMMdkNK"
      },
      "source": [
        "Count executed instructions in code and verify with inputs 1,2 and 3"
      ]
    },
    {
      "cell_type": "code",
      "metadata": {
        "colab": {
          "base_uri": "https://localhost:8080/"
        },
        "id": "n6E3TpTzdl2W",
        "outputId": "12678268-8ed4-4ee9-9fb5-c44344de8912"
      },
      "source": [
        "%%writefile max_pairwise_product_ef_execints.cpp\n",
        "#include <cstdlib>\n",
        "#include <iostream>\n",
        "#include <vector>\n",
        "\n",
        "using namespace std;\n",
        "\n",
        "long long execints =0LL;\n",
        "\n",
        "long long MaxPairwiseProductFast(const vector<int> &numbers) {                       //N inst exec by line executed\n",
        "    \n",
        "    long long m = 0LL;\n",
        "    \n",
        "    int n = numbers.size();                                                                               //1\n",
        "    execints++;\n",
        "\n",
        "    int max_index1 = -1;                                                                                  //1\n",
        "    execints++;\n",
        "\n",
        "    execints++;\n",
        "    for (int i = 0; i < n; ++i) {                                                                         //1 + 2n\n",
        "        execints += 2;\n",
        "\n",
        "        execints++;\n",
        "        if ((max_index1 == -1) || (numbers[i] > numbers[max_index1])) {                                   //n\n",
        "\n",
        "            m++;\n",
        "\n",
        "            max_index1 = i;                                                                               //[1, n]\n",
        "            execints++;\n",
        "        }\n",
        "    }\n",
        "\n",
        "    cout << m << \"\\n\";\n",
        "\n",
        "    m = 0LL;\n",
        "\n",
        "    int max_index2 = -1;                                                                                  //1\n",
        "    execints++;\n",
        "\n",
        "    execints++;\n",
        "    for (int j = 0; j < n; ++j) {                                                                         //1 + 2n\n",
        "        execints += 2;\n",
        "\n",
        "        execints++;\n",
        "        if ((j != max_index1) && ((max_index2 == -1) || (numbers[j] > numbers[max_index2]))) {            //n\n",
        "\n",
        "            m++;\n",
        "\n",
        "            max_index2 = j;                                                                               //[1, n]\n",
        "            execints++;\n",
        "        }\n",
        "    }\n",
        "\n",
        "    cout << m << \"\\n\";\n",
        "\n",
        "    execints++;\n",
        "    return ((long long) (numbers[max_index1])) * numbers[max_index2];                                     //5 + 6n + [2, 2n]\n",
        "\n",
        "}\n",
        "\n",
        "int main() {\n",
        "\n",
        "    int n;                                                                                                //1\n",
        "    execints++;\n",
        "\n",
        "    cin >> n;                                                                                             //1\n",
        "    execints++;\n",
        "\n",
        "    vector<int> numbers(n);                                                                               //n\n",
        "    execints += n;\n",
        "\n",
        "    execints++;\n",
        "    for (int i = 0; i < n; ++i) {                                                                         //1 + 2n                    \n",
        "        execints += 2;\n",
        "\n",
        "        cin >> numbers[i];                                                                                //n\n",
        "        execints++;\n",
        "    }\n",
        "\n",
        "    long long result = MaxPairwiseProductFast(numbers);                                                   //6 + 6n + [2, 2n]\n",
        "\n",
        "    cout << result << \"\\n\";                                                                               //1\n",
        "    execints++;\n",
        "\n",
        "    cout << execints << \"\\n\";\n",
        "\n",
        "    return 0;                                                                                   //-------------------\n",
        "                                                                                                //10 + 10n + [2, 2n]\n",
        "    \n",
        "}"
      ],
      "execution_count": null,
      "outputs": [
        {
          "output_type": "stream",
          "text": [
            "Overwriting max_pairwise_product_ef_execints.cpp\n"
          ],
          "name": "stdout"
        }
      ]
    },
    {
      "cell_type": "markdown",
      "metadata": {
        "id": "AJlUh_o72cSM"
      },
      "source": [
        "Calculate estimated time by instruction and number of instructions by second"
      ]
    },
    {
      "cell_type": "code",
      "metadata": {
        "colab": {
          "base_uri": "https://localhost:8080/"
        },
        "id": "1o9WffZpgrdz",
        "outputId": "66ceee97-36f3-496d-cc1d-dc81931f713e"
      },
      "source": [
        "!g++ max_pairwise_product_ef_execints.cpp -o max_pairwise_product_ef_execints\n",
        "!time ./max_pairwise_product_ef_execints < input1.txt"
      ],
      "execution_count": null,
      "outputs": [
        {
          "output_type": "stream",
          "text": [
            "10\n",
            "9\n",
            "90\n",
            "129\n",
            "\n",
            "real\t0m0.003s\n",
            "user\t0m0.000s\n",
            "sys\t0m0.003s\n"
          ],
          "name": "stdout"
        }
      ]
    },
    {
      "cell_type": "markdown",
      "metadata": {
        "id": "pbvdbW-22hgA"
      },
      "source": [
        "For the input 1 we have:\n",
        "\n",
        "$ T = 10 + 10(10) + 10 + 9 = 129 $"
      ]
    },
    {
      "cell_type": "code",
      "metadata": {
        "colab": {
          "base_uri": "https://localhost:8080/"
        },
        "id": "9kb4cwMzzs2P",
        "outputId": "2caafacc-481c-49de-c8ef-8c59db757825"
      },
      "source": [
        "!g++ max_pairwise_product_ef_execints.cpp -o max_pairwise_product_ef_execints\n",
        "!time ./max_pairwise_product_ef_execints < input2.txt"
      ],
      "execution_count": null,
      "outputs": [
        {
          "output_type": "stream",
          "text": [
            "3\n",
            "4\n",
            "40000000000\n",
            "77\n",
            "\n",
            "real\t0m0.003s\n",
            "user\t0m0.001s\n",
            "sys\t0m0.002s\n"
          ],
          "name": "stdout"
        }
      ]
    },
    {
      "cell_type": "markdown",
      "metadata": {
        "id": "LUahVdF34e63"
      },
      "source": [
        "For the input 2 we have:\n",
        "\n",
        "$ T = 10 + 10(6) + 3 + 4 = 77 $"
      ]
    },
    {
      "cell_type": "code",
      "metadata": {
        "colab": {
          "base_uri": "https://localhost:8080/"
        },
        "id": "P2yTPRSC0bqf",
        "outputId": "39b9feb8-3946-4181-a60e-26bddc09240b"
      },
      "source": [
        "!g++ max_pairwise_product_ef_execints.cpp -o max_pairwise_product_ef_execints\n",
        "!time ./max_pairwise_product_ef_execints < input3.txt"
      ],
      "execution_count": null,
      "outputs": [
        {
          "output_type": "stream",
          "text": [
            "200000\n",
            "199999\n",
            "39999800000\n",
            "2400009\n",
            "\n",
            "real\t0m0.063s\n",
            "user\t0m0.060s\n",
            "sys\t0m0.002s\n"
          ],
          "name": "stdout"
        }
      ]
    },
    {
      "cell_type": "markdown",
      "metadata": {
        "id": "ZdL9RNAd5dSx"
      },
      "source": [
        "For the input 3 we have:\n",
        "\n",
        "$ T = 10 + 10(200000) + 200000 + 199999 = 2400009 $"
      ]
    },
    {
      "cell_type": "markdown",
      "metadata": {
        "id": "K6ybgCmpNygr"
      },
      "source": [
        "Calculate estimated time by instruction and number of instructions by second"
      ]
    },
    {
      "cell_type": "code",
      "metadata": {
        "id": "kwe3G1O3Nz1w",
        "colab": {
          "base_uri": "https://localhost:8080/"
        },
        "outputId": "8b7b619e-f55d-4c6f-d794-e732f975bb5c"
      },
      "source": [
        "# Estimated time by instruction\n",
        "\n",
        "0.067/2400009"
      ],
      "execution_count": null,
      "outputs": [
        {
          "output_type": "execute_result",
          "data": {
            "text/plain": [
              "2.7916561979559246e-08"
            ]
          },
          "metadata": {
            "tags": []
          },
          "execution_count": 19
        }
      ]
    },
    {
      "cell_type": "code",
      "metadata": {
        "colab": {
          "base_uri": "https://localhost:8080/"
        },
        "id": "t4Bs6cCE6DF0",
        "outputId": "b66c0e91-1cc6-4904-8713-c3c9d0657c78"
      },
      "source": [
        "# Estimated number of instructions by second\n",
        "\n",
        "1/(0.067/2400009)"
      ],
      "execution_count": null,
      "outputs": [
        {
          "output_type": "execute_result",
          "data": {
            "text/plain": [
              "35821029.85074627"
            ]
          },
          "metadata": {
            "tags": []
          },
          "execution_count": 20
        }
      ]
    },
    {
      "cell_type": "markdown",
      "metadata": {
        "id": "sc9nOLQrfTm0"
      },
      "source": [
        "### Super efficient solution\n",
        "\n",
        "Whitout storing the list in memory and whitout calling a function, add in each line a coment with the number of intstrcution that are executed in that line "
      ]
    },
    {
      "cell_type": "code",
      "metadata": {
        "id": "hBLt_xBQLy8E",
        "colab": {
          "base_uri": "https://localhost:8080/"
        },
        "outputId": "6a9ec18a-e792-4691-c101-1caea00408fb"
      },
      "source": [
        "%%writefile max_pairwise_product_superef.cpp\n",
        "\n",
        "#include <cstdlib>\n",
        "#include <iostream>\n",
        "#include <vector>\n",
        "\n",
        "using namespace std;\n",
        "\n",
        "int main() {\n",
        "    \n",
        "    int n;                                                                      //1\n",
        "    int actual_num;                                                             //1\n",
        "    int aux;                                                                    //1\n",
        "    int max1 = -1;                                                              //1\n",
        "    int max2 = -1;                                                              //1\n",
        "    cin >> n;                                                                   //1\n",
        "\n",
        "    for (int i = 0; i < n; ++i) {                                               //1 + 2n\n",
        "        cin >> actual_num;                                                      //1\n",
        "\n",
        "        if (max1 == -1) {                                                       //1\n",
        "            max1 = actual_num;                                                  //[1, n]\n",
        "        }\n",
        "        \n",
        "        else if (actual_num > max1) {                                           //1\n",
        "            aux = max1;                                                         //[0, n]\n",
        "            max1 = actual_num;                                                  //[0, n]\n",
        "            max2 = aux;                                                         //[0, n]\n",
        "        }\n",
        "        \n",
        "        else if ((max2 == -1) || (actual_num > max2)) {                         //1\n",
        "            max2 = actual_num;                                                  //[0, n]\n",
        "        }\n",
        "        \n",
        "    }\n",
        "\n",
        "    cout << (long long) max1*max2 << \"\\n\";                                      //1\n",
        "\n",
        "    return 0;                                                                   //----------------------\n",
        "                                                                                //12 + 2n + [1, 5n]\n",
        "    \n",
        "}"
      ],
      "execution_count": null,
      "outputs": [
        {
          "output_type": "stream",
          "text": [
            "Writing max_pairwise_product_superef.cpp\n"
          ],
          "name": "stdout"
        }
      ]
    },
    {
      "cell_type": "markdown",
      "metadata": {
        "id": "683gc3roHqzb"
      },
      "source": [
        "Test with inputs 1 and 2\n",
        "\n",
        "\n",
        " "
      ]
    },
    {
      "cell_type": "code",
      "metadata": {
        "id": "b7d4LA8OIc2_",
        "colab": {
          "base_uri": "https://localhost:8080/"
        },
        "outputId": "82b9dab9-db36-4ed7-8413-a73511b0dd0b"
      },
      "source": [
        "!g++ max_pairwise_product_superef.cpp -o max_pairwise_product_superef\n",
        "!time ./max_pairwise_product_superef < input1.txt"
      ],
      "execution_count": null,
      "outputs": [
        {
          "output_type": "stream",
          "text": [
            "90\n",
            "\n",
            "real\t0m0.003s\n",
            "user\t0m0.000s\n",
            "sys\t0m0.003s\n"
          ],
          "name": "stdout"
        }
      ]
    },
    {
      "cell_type": "code",
      "metadata": {
        "colab": {
          "base_uri": "https://localhost:8080/"
        },
        "id": "5Sj0Uauk_bFb",
        "outputId": "a32cab95-5645-4e9c-e809-db428a338415"
      },
      "source": [
        "!g++ max_pairwise_product_superef.cpp -o max_pairwise_product_superef\n",
        "!time ./max_pairwise_product_superef < input2.txt"
      ],
      "execution_count": null,
      "outputs": [
        {
          "output_type": "stream",
          "text": [
            "40000000000\n",
            "\n",
            "real\t0m0.003s\n",
            "user\t0m0.002s\n",
            "sys\t0m0.001s\n"
          ],
          "name": "stdout"
        }
      ]
    },
    {
      "cell_type": "markdown",
      "metadata": {
        "id": "36Ugn1odIeJz"
      },
      "source": [
        "Test and time it with input 3"
      ]
    },
    {
      "cell_type": "code",
      "metadata": {
        "id": "jDyMbCnxHqSN",
        "colab": {
          "base_uri": "https://localhost:8080/"
        },
        "outputId": "2285ab20-6169-4e44-dae1-86ca5526cead"
      },
      "source": [
        "!g++ max_pairwise_product_superef.cpp -o max_pairwise_product_superef\n",
        "!time ./max_pairwise_product_superef < input3.txt"
      ],
      "execution_count": null,
      "outputs": [
        {
          "output_type": "stream",
          "text": [
            "39999800000\n",
            "\n",
            "real\t0m0.058s\n",
            "user\t0m0.056s\n",
            "sys\t0m0.002s\n"
          ],
          "name": "stdout"
        }
      ]
    },
    {
      "cell_type": "markdown",
      "metadata": {
        "id": "bhqiKQG6fjKM"
      },
      "source": [
        "20 stress tests "
      ]
    },
    {
      "cell_type": "code",
      "metadata": {
        "id": "2KsiXKhALzwm",
        "colab": {
          "base_uri": "https://localhost:8080/"
        },
        "outputId": "1aede1b1-2d57-49a7-c9a7-fd55c1f2ede1"
      },
      "source": [
        "%%writefile StressTest3.cpp\n",
        "\n",
        "#include <cstdlib>\n",
        "#include <iostream>\n",
        "#include <vector>\n",
        "#include <stdio.h>\n",
        "\n",
        "using std::vector;\n",
        "using std::cout;\n",
        "\n",
        "vector <int> a;\n",
        "\n",
        "long long MaxPairwiseProductFast(const vector<int> &numbers) {                                            \n",
        "    int n = numbers.size();                                                                               \n",
        "\n",
        "    int max_index1 = -1;                                                                                  \n",
        "    for (int i = 0; i < n; ++i)                                                                           \n",
        "        if ((max_index1 == -1) || (numbers[i] > numbers[max_index1]))                                     \n",
        "            max_index1 = i;                                                                               \n",
        "\n",
        "    int max_index2 = -1;                                                                                 \n",
        "    for (int j = 0; j < n; ++j)                                                                          \n",
        "        if ((j != max_index1) && ((max_index2 == -1) || (numbers[j] > numbers[max_index2])))             \n",
        "            max_index2 = j;                                                                              \n",
        "\n",
        "    return ((long long) (numbers[max_index1])) * numbers[max_index2];                                     \n",
        "}\n",
        "\n",
        "int main() {\n",
        "\n",
        "    for (int j=0; j<20; j++) {\n",
        "        \n",
        "        long long actual_num;\n",
        "        long long aux;\n",
        "        long long max1 = -1;\n",
        "        long long max2 = -1;\n",
        "\n",
        "        int n = 2 + (rand() % (20 - 2 + 1));\n",
        "        cout << n << \"\\n\";\n",
        "        vector <int> a;\n",
        "\n",
        "        for (int i=0; i<n; i++) {\n",
        "            \n",
        "            actual_num = 1 + (rand() % (200000 - 1 + 1));\n",
        "\n",
        "            a.push_back(actual_num);\n",
        "\n",
        "            if (max1 == -1) {\n",
        "                max1 = actual_num;\n",
        "            }\n",
        "            \n",
        "            else if (actual_num > max1) {\n",
        "                aux = max1;\n",
        "                max1 = actual_num;\n",
        "                max2 = aux;\n",
        "            }\n",
        "            \n",
        "            else if ((max2 == -1) || (actual_num > max2)) {\n",
        "                max2 = actual_num;\n",
        "            }\n",
        "\n",
        "        }\n",
        "\n",
        "        for (int i=0; i<n; i++) {\n",
        "            cout << a[i] << \" \";\n",
        "        }\n",
        "\n",
        "        cout << \"\\n\";\n",
        "\n",
        "        long long res1 = MaxPairwiseProductFast(a);\n",
        "        long long res2 = max1*max2;\n",
        "\n",
        "        if (res1 != res2) {\n",
        "            cout << \"Wrong answer: \" << res1 << \" \" << res2 << \"\\n\";\n",
        "        }\n",
        "        else {\n",
        "            cout << \"OK\\n\";\n",
        "        }\n",
        "\n",
        "    }\n",
        "\n",
        "\n",
        "}"
      ],
      "execution_count": null,
      "outputs": [
        {
          "output_type": "stream",
          "text": [
            "Overwriting StressTest3.cpp\n"
          ],
          "name": "stdout"
        }
      ]
    },
    {
      "cell_type": "code",
      "metadata": {
        "colab": {
          "base_uri": "https://localhost:8080/"
        },
        "id": "FUctGm4hAYMr",
        "outputId": "8cd85701-003f-4ef4-84fc-e026197a09a7"
      },
      "source": [
        "!g++ StressTest3.cpp -o StressTest3\n",
        "!./StressTest3"
      ],
      "execution_count": null,
      "outputs": [
        {
          "output_type": "stream",
          "text": [
            "4\n",
            "130887 92778 36916 147794 \n",
            "OK\n",
            "10\n",
            "85387 160493 116650 41422 2363 90028 168691 120060 97764 113927 \n",
            "OK\n",
            "9\n",
            "183427 89173 55737 5212 195369 102568 156430 65783 21531 \n",
            "OK\n",
            "8\n",
            "65124 174068 103136 113930 179803 34023 123059 133070 \n",
            "OK\n",
            "7\n",
            "161394 18457 175012 78043 176230 177374 84422 \n",
            "OK\n",
            "3\n",
            "13785 98538 175199 \n",
            "OK\n",
            "11\n",
            "198316 64371 166414 3527 176092 68981 159957 41874 6863 199171 106997 \n",
            "OK\n",
            "18\n",
            "102306 20926 77085 136328 60337 126506 150847 21730 61314 125858 16125 153896 19583 100546 98815 33368 115435 190365 \n",
            "OK\n",
            "2\n",
            "113751 171088 \n",
            "OK\n",
            "15\n",
            "117277 147179 95789 193585 105404 102652 192755 12400 199933 95061 149677 193369 147740 10013 36227 \n",
            "OK\n",
            "7\n",
            "148095 97540 140796 80571 51435 160379 97468 \n",
            "OK\n",
            "15\n",
            "110098 12903 173318 170493 126653 60757 197302 160281 124287 9442 153866 29690 28445 146620 158441 \n",
            "OK\n",
            "13\n",
            "158032 108118 138098 105772 34482 90676 120710 98928 104568 177857 179498 72354 54587 \n",
            "OK\n",
            "6\n",
            "55307 164684 6220 28625 51529 132872 \n",
            "OK\n",
            "17\n",
            "48830 9504 130020 58271 163369 159709 86716 26341 118150 147797 100724 142619 2246 122847 93452 92922 43556 \n",
            "OK\n",
            "19\n",
            "197489 137765 88229 69842 192351 165194 41501 157035 87765 70125 124915 136988 75857 173744 146492 122228 148366 109860 81937 \n",
            "OK\n",
            "11\n",
            "52552 116438 99229 153276 175408 101475 76122 68859 194396 36030 61238 \n",
            "OK\n",
            "3\n",
            "173794 65819 94429 \n",
            "OK\n",
            "10\n",
            "31012 135929 39530 118777 122405 164444 55764 114614 54539 118607 \n",
            "OK\n",
            "7\n",
            "2905 144819 35129 70689 197370 67918 169918 \n",
            "OK\n"
          ],
          "name": "stdout"
        }
      ]
    },
    {
      "cell_type": "markdown",
      "metadata": {
        "id": "fEXj8GHJH5p1"
      },
      "source": [
        "Count executed instructions in code and verify with inputs 1,2 and 3"
      ]
    },
    {
      "cell_type": "code",
      "metadata": {
        "id": "LF1DHjKXIAsF",
        "colab": {
          "base_uri": "https://localhost:8080/"
        },
        "outputId": "53f04a31-8dba-4200-f363-16d4f6f88893"
      },
      "source": [
        "%%writefile max_pairwise_product_superef_execints.cpp\n",
        "\n",
        "#include <cstdlib>\n",
        "#include <iostream>\n",
        "#include <vector>\n",
        "\n",
        "using namespace std;\n",
        "\n",
        "long long execints = 0LL;\n",
        "\n",
        "int main() {\n",
        "    \n",
        "    int n;                                                                      //1\n",
        "    execints++;\n",
        "\n",
        "    int m = 0;\n",
        "\n",
        "    int actual_num;                                                             //1\n",
        "    execints++;\n",
        "\n",
        "    int aux;                                                                    //1\n",
        "    execints++;\n",
        "\n",
        "    int max1 = -1;                                                              //1\n",
        "    execints++;\n",
        "\n",
        "    int max2 = -1;                                                              //1\n",
        "    execints++;\n",
        "\n",
        "    cin >> n;                                                                   //1\n",
        "    execints++;\n",
        "\n",
        "    execints++;\n",
        "    for (int i = 0; i < n; ++i) {                                               //1 + 2n\n",
        "        execints += 2;                       \n",
        "\n",
        "        cin >> actual_num;                                                      //n\n",
        "        execints++;\n",
        "\n",
        "        execints++;\n",
        "        if (max1 == -1) {                                                       //n\n",
        "            max1 = actual_num;                                                  //[1, n]\n",
        "            execints++;\n",
        "            m++;\n",
        "        }\n",
        "\n",
        "        else if (actual_num > max1) {                                           //[0, n]\n",
        "            aux = max1;                                                         //[0, n]\n",
        "            execints++;\n",
        "            max1 = actual_num;                                                  //[0, n]\n",
        "            execints++;\n",
        "            max2 = aux;                                                         //[0, n]\n",
        "            execints++;\n",
        "            m += 3;\n",
        "        }\n",
        "\n",
        "        else if ((max2 == -1) || (actual_num > max2)) {                         //[0, n]\n",
        "            max2 = actual_num;                                                  //[0, n]\n",
        "            execints++;\n",
        "            m++;\n",
        "        }\n",
        "        \n",
        "    }\n",
        "\n",
        "    cout << m << \"\\n\";\n",
        "\n",
        "    execints++;\n",
        "    cout << (long long) max1*max2 << \"\\n\";                                      //1\n",
        "\n",
        "    cout << execints << \"\\n\";\n",
        "\n",
        "    return 0;                                                                   //----------------------\n",
        "                                                                                //8 + 4n + [1, 7n]\n",
        "    \n",
        "}"
      ],
      "execution_count": null,
      "outputs": [
        {
          "output_type": "stream",
          "text": [
            "Overwriting max_pairwise_product_superef_execints.cpp\n"
          ],
          "name": "stdout"
        }
      ]
    },
    {
      "cell_type": "code",
      "metadata": {
        "colab": {
          "base_uri": "https://localhost:8080/"
        },
        "id": "vykK27vzGJ6m",
        "outputId": "f2d80bb2-d001-43e5-c6b7-3391be87e629"
      },
      "source": [
        "!g++ max_pairwise_product_superef_execints.cpp -o max_pairwise_product_superef_execints\n",
        "!time ./max_pairwise_product_superef_execints < input1.txt"
      ],
      "execution_count": null,
      "outputs": [
        {
          "output_type": "stream",
          "text": [
            "28\n",
            "90\n",
            "76\n",
            "\n",
            "real\t0m0.003s\n",
            "user\t0m0.003s\n",
            "sys\t0m0.000s\n"
          ],
          "name": "stdout"
        }
      ]
    },
    {
      "cell_type": "markdown",
      "metadata": {
        "id": "0gKXdvsTkloV"
      },
      "source": [
        "input 1:\n",
        "\n",
        "$T = 8 + 4(10) + 28 = 76$"
      ]
    },
    {
      "cell_type": "code",
      "metadata": {
        "colab": {
          "base_uri": "https://localhost:8080/"
        },
        "id": "SmQmE6bZGUWx",
        "outputId": "0746e02c-333f-458b-acac-55133752d69d"
      },
      "source": [
        "!g++ max_pairwise_product_superef_execints.cpp -o max_pairwise_product_superef_execints\n",
        "!time ./max_pairwise_product_superef_execints < input2.txt"
      ],
      "execution_count": null,
      "outputs": [
        {
          "output_type": "stream",
          "text": [
            "9\n",
            "40000000000\n",
            "41\n",
            "\n",
            "real\t0m0.003s\n",
            "user\t0m0.002s\n",
            "sys\t0m0.001s\n"
          ],
          "name": "stdout"
        }
      ]
    },
    {
      "cell_type": "markdown",
      "metadata": {
        "id": "rROTaKBkmYve"
      },
      "source": [
        "input 2:\n",
        "\n",
        "$T=8+4(6)+9 = 41$"
      ]
    },
    {
      "cell_type": "code",
      "metadata": {
        "colab": {
          "base_uri": "https://localhost:8080/"
        },
        "id": "kM0HJonmNm5C",
        "outputId": "3e98f228-f7f4-476b-b6db-d8ddefcca67f"
      },
      "source": [
        "!g++ max_pairwise_product_superef_execints.cpp -o max_pairwise_product_superef_execints\n",
        "!time ./max_pairwise_product_superef_execints < input3.txt"
      ],
      "execution_count": null,
      "outputs": [
        {
          "output_type": "stream",
          "text": [
            "599998\n",
            "39999800000\n",
            "1400006\n",
            "\n",
            "real\t0m0.060s\n",
            "user\t0m0.058s\n",
            "sys\t0m0.002s\n"
          ],
          "name": "stdout"
        }
      ]
    },
    {
      "cell_type": "markdown",
      "metadata": {
        "id": "xY_Jv2jSory7"
      },
      "source": [
        "input 3:\n",
        "\n",
        "$T=8+4(200000)+599998=1400006$"
      ]
    },
    {
      "cell_type": "markdown",
      "metadata": {
        "id": "yae7sSm2IG9U"
      },
      "source": [
        "Calculate estimated time by instruction and number of instructions by second"
      ]
    },
    {
      "cell_type": "code",
      "metadata": {
        "id": "suouY7BYL2dz",
        "colab": {
          "base_uri": "https://localhost:8080/"
        },
        "outputId": "7d7de7b0-bf7b-498a-ca25-00d901d1e990"
      },
      "source": [
        "# Estimated time by instruction\n",
        "\n",
        "0.056/1400006"
      ],
      "execution_count": null,
      "outputs": [
        {
          "output_type": "execute_result",
          "data": {
            "text/plain": [
              "3.9999828572163264e-08"
            ]
          },
          "metadata": {
            "tags": []
          },
          "execution_count": 17
        }
      ]
    },
    {
      "cell_type": "code",
      "metadata": {
        "colab": {
          "base_uri": "https://localhost:8080/"
        },
        "id": "GKkHOcf7NxmG",
        "outputId": "5d067493-cc66-4835-e99d-4de82b7b4a69"
      },
      "source": [
        "# Estimated number of instructions by second\n",
        "\n",
        "1/(0.056/1600005)"
      ],
      "execution_count": null,
      "outputs": [
        {
          "output_type": "execute_result",
          "data": {
            "text/plain": [
              "28571517.85714286"
            ]
          },
          "metadata": {
            "tags": []
          },
          "execution_count": 18
        }
      ]
    },
    {
      "cell_type": "markdown",
      "metadata": {
        "id": "rydCU4bFfrhG"
      },
      "source": [
        "## Python"
      ]
    },
    {
      "cell_type": "markdown",
      "metadata": {
        "id": "6n707zUXO0N0"
      },
      "source": [
        "Efficient cython file reading, string parsing, and array building\n",
        "\n",
        "https://stackoverflow.com/questions/37219875/efficient-cython-file-reading-string-parsing-and-array-building\n",
        "\n",
        "\n",
        "\n",
        "File PreProcessing With C and Cython\n",
        "\n",
        "https://github.com/EveryTimeIWill18/Cython_Repo/blob/master/FastFileProcessingWithCython.ipynb\n",
        "\n"
      ]
    },
    {
      "cell_type": "code",
      "metadata": {
        "id": "OhAgb5eOP5rt"
      },
      "source": [
        "%load_ext Cython"
      ],
      "execution_count": null,
      "outputs": []
    },
    {
      "cell_type": "code",
      "metadata": {
        "id": "xwq0n_b4L3ML"
      },
      "source": [
        "%%cython\n",
        "# distutils: extra_compile_args = -fopenmp\n",
        "# distutils: extra_link_args = -fopenmp\n",
        "# cython: language_level=3\n",
        "# cython: embedsignature=True\n",
        "# cython: profile=True\n",
        "# cython: boundscheck=False\n",
        "# coding: utf8\n",
        "\n",
        "from libc.stdlib cimport malloc, realloc, free\n",
        "from libc.stdio cimport fopen, fclose, FILE, EOF, fseek, SEEK_END, SEEK_SET\n",
        "from libc.stdio cimport ftell, fgetc, fgets, getc, gets, feof, fread, getline\n",
        "from libc.string cimport strlen, memcpy, strcpy, strtok, strchr, strncpy\n",
        "from cython.parallel import prange, parallel, threadid\n",
        "\n",
        "# - C structure that is set to readonly\n",
        "cdef readonly struct FileContents:\n",
        "    char *contents\n",
        "    \n",
        "cdef class CyReadFile:\n",
        "    \"\"\"Read in the contents of a file.\"\"\"\n",
        "    cdef:\n",
        "        FileContents *File\n",
        "        FILE *fp\n",
        "        char *filename\n",
        "        char *delimiter\n",
        "        long file_size\n",
        "        bint is_open\n",
        "        bint EO_STR\n",
        "    \n",
        "    def __init__(self, char *delimiter, char *filename):\n",
        "        self.File = <FileContents*>malloc(sizeof(CyReadFile))\n",
        "        self.delimiter = delimiter\n",
        "        self.filename = filename\n",
        "        self.File.contents = NULL\n",
        "        self.is_open = 0\n",
        "        self.EO_STR = 0\n",
        "        self.file_size = 0\n",
        "        self.fp = NULL\n",
        "        \n",
        "    def open_file(self):\n",
        "        \"\"\"Open the file for reading.\"\"\"\n",
        "        self.fp = fopen(self.filename, \"r\")\n",
        "        if self.fp == NULL:\n",
        "            raise FileNotFoundError(2, \"No such file or directory: '%s'\" % self.filename)\n",
        "        else:\n",
        "            # file is now open\n",
        "            self.is_open = 1\n",
        "    \n",
        "    def read_in_file(self):\n",
        "        \"\"\"Read in the entire file.\"\"\"\n",
        "        if self.is_open == 1:\n",
        "            # get the length of the file\n",
        "            fseek(self.fp, 0, SEEK_END)\n",
        "            self.file_size = ftell(self.fp)\n",
        "            fseek(self.fp, 0, SEEK_SET)\n",
        "            # allocate memory for reading in the file\n",
        "            self.File.contents = <char*>malloc(self.file_size*sizeof(char))\n",
        "            # read entire file into the struct\n",
        "            fread(self.File.contents, 1, self.file_size, self.fp)\n",
        "            # close the file once it's read into the char array\n",
        "            fclose(self.fp)\n",
        "            # set is_open to 0\n",
        "            self.is_open = 0\n",
        "              \n",
        "    def read_file_in_parallel(self):\n",
        "        \"\"\"Bypass the gil and read in the file.\"\"\"\n",
        "        if self.is_open == 1:\n",
        "            with nogil:\n",
        "                # get the length of the file\n",
        "                fseek(self.fp, 0, SEEK_END)\n",
        "                self.file_size = ftell(self.fp)\n",
        "                fseek(self.fp, 0, SEEK_SET)\n",
        "                # allocate memory for reading in the file\n",
        "                self.File.contents = <char*>malloc(self.file_size*sizeof(char))\n",
        "                # read entire file into the struct\n",
        "                fread(self.File.contents, 1, self.file_size, self.fp)\n",
        "                # close the file once it's read into the char array\n",
        "                fclose(self.fp)\n",
        "                # set is_open to 0\n",
        "                self.is_open = 0\n",
        "    \n",
        "    def __dealloc__(self):\n",
        "        \"\"\"Deallocate memory\"\"\"\n",
        "        free(self.File.contents)\n",
        "        free(self.File)\n",
        "        free(self.fp)\n",
        "        free(self.filename)\n",
        "        free(self.delimiter)\n",
        "        \n",
        "\n",
        "class PyReadFile(CyReadFile):\n",
        "    \"\"\"A python wrapper around a cython class.\"\"\"\n",
        "    def __init__(self, emlFile):\n",
        "        super().__init__(b',', emlFile)\n",
        "    \n",
        "        \n",
        "def py_read_file(filename):\n",
        "    with open(filename, \"r\") as f:\n",
        "        return f.read()"
      ],
      "execution_count": null,
      "outputs": []
    },
    {
      "cell_type": "markdown",
      "metadata": {
        "id": "l0YSUD_QpP1n"
      },
      "source": [
        "### Brute Force"
      ]
    },
    {
      "cell_type": "code",
      "metadata": {
        "id": "oao44pfxvJ7d"
      },
      "source": [
        "def max_pairwise_product(n, a):\n",
        "\n",
        "    result = 0                                                                  #1\n",
        "    aux_product = 0                                                             #1\n",
        "\n",
        "    for i in range(0, n):                                                       #1 + 2n\n",
        "        for j in range(i + 1, n):                                               #n+ (n-1)n\n",
        "            aux_product = a[i] * a[j]                                           #(n-1)n/2\n",
        "            if aux_product > result:                                            #(n-1)n/2\n",
        "                result = aux_product                                            #[0, (n-1)n/2]\n",
        "    return result                                                               #--------------\n",
        "                                                                                #3 + 3n + [2(n-1)n, 2.5 (n-1)n]"
      ],
      "execution_count": null,
      "outputs": []
    },
    {
      "cell_type": "markdown",
      "metadata": {
        "id": "XmrafDlM-TkK"
      },
      "source": [
        "$T=9+6n+[2(n−1)n,2.5(n−1)n]$"
      ]
    },
    {
      "cell_type": "markdown",
      "metadata": {
        "id": "Q_UzVj0u-PIv"
      },
      "source": [
        "Tests with inputs 1 and 2"
      ]
    },
    {
      "cell_type": "code",
      "metadata": {
        "colab": {
          "base_uri": "https://localhost:8080/"
        },
        "id": "XVcyo2z9y_wK",
        "outputId": "9fe73719-481f-4437-aa17-3295d2e01915"
      },
      "source": [
        "pyrf1 = PyReadFile(b\"input1.txt\")                                               #1\n",
        "scan = py_read_file(b\"input1.txt\").split()                                      #1\n",
        "\n",
        "n = int(scan[0])                                                                #1\n",
        "a = []                                                                          #1\n",
        "\n",
        "for i in range(1, len(scan)):                                                   #1 + 2n\n",
        "    a.append(int(scan[i]))                                                      #n\n",
        "\n",
        "print(max_pairwise_product(n, a))                                               #4 + 3n + [2(n-1)n, 2.5 (n-1)n]\n",
        "\n",
        "                                                                                #------------------\n",
        "                                                                                #8 + 6n + [2(n-1)n, 2.5 (n-1)n]"
      ],
      "execution_count": null,
      "outputs": [
        {
          "output_type": "stream",
          "text": [
            "90\n"
          ],
          "name": "stdout"
        }
      ]
    },
    {
      "cell_type": "code",
      "metadata": {
        "colab": {
          "base_uri": "https://localhost:8080/"
        },
        "id": "L0L7-xb2zyua",
        "outputId": "89441563-1ef9-49ac-ad52-0121cbf84c33"
      },
      "source": [
        "pyrf2 = PyReadFile(b\"input2.txt\")\n",
        "scan = py_read_file(b\"input2.txt\").split()\n",
        "\n",
        "n = int(scan[0])\n",
        "a = []\n",
        "\n",
        "for i in range(1, len(scan)):\n",
        "    a.append(int(scan[i]))\n",
        "\n",
        "print(max_pairwise_product(n, a))"
      ],
      "execution_count": null,
      "outputs": [
        {
          "output_type": "stream",
          "text": [
            "40000000000\n"
          ],
          "name": "stdout"
        }
      ]
    },
    {
      "cell_type": "markdown",
      "metadata": {
        "id": "N66xJyM1RJ3u"
      },
      "source": [
        "Test and time with input 3:"
      ]
    },
    {
      "cell_type": "code",
      "metadata": {
        "colab": {
          "base_uri": "https://localhost:8080/"
        },
        "id": "f4HB8RA0z3O3",
        "outputId": "b636b20b-3496-4471-8b96-dc0e9ed741c2"
      },
      "source": [
        "%%time\n",
        "\n",
        "pyrf3 = PyReadFile(b\"input3.txt\")\n",
        "scan = py_read_file(b\"input3.txt\").split()\n",
        "\n",
        "n = int(scan[0])\n",
        "a = []\n",
        "\n",
        "for i in range(1, len(scan)):\n",
        "    a.append(int(scan[i]))\n",
        "\n",
        "print(max_pairwise_product(n, a))"
      ],
      "execution_count": null,
      "outputs": [
        {
          "output_type": "stream",
          "text": [
            "39999800000\n",
            "CPU times: user 41min 39s, sys: 5.01 s, total: 41min 44s\n",
            "Wall time: 41min 43s\n"
          ],
          "name": "stdout"
        }
      ]
    },
    {
      "cell_type": "markdown",
      "metadata": {
        "id": "X96z_fEuAZVa"
      },
      "source": [
        "Count executed intructions in code and verify with inputs 1, 2 and 3"
      ]
    },
    {
      "cell_type": "code",
      "metadata": {
        "id": "3fkI_FA6AY8K"
      },
      "source": [
        "def max_pairwise_product(n, a, execints):\n",
        "\n",
        "    result = 0                                                                  #1\n",
        "    m = 0\n",
        "    execints+=1\n",
        "    aux_product = 0                                                             #1\n",
        "    execints+=1\n",
        "\n",
        "    execints+=1\n",
        "    for i in range(0, n):                                                       #1 + 2n\n",
        "        execints += 2\n",
        "        execints+=1\n",
        "        for j in range(i + 1, n):                                               #n+ (n-1)n\n",
        "            execints += 2\n",
        "            aux_product = a[i] * a[j]                                           #(n-1)n/2\n",
        "            execints+=1\n",
        "            execints+=1\n",
        "            if aux_product > result:                                            #(n-1)n/2\n",
        "                result = aux_product                                            #[0, (n-1)n/2]\n",
        "                execints+=1\n",
        "                m+=1\n",
        "    return result, execints, m                                                  #--------------\n",
        "                                                                                #3 + 3n + [2(n-1)n, 2.5 (n-1)n]"
      ],
      "execution_count": null,
      "outputs": []
    },
    {
      "cell_type": "code",
      "metadata": {
        "colab": {
          "base_uri": "https://localhost:8080/"
        },
        "id": "9lqflH5zBh34",
        "outputId": "212859f3-f1a7-4335-d2ab-8d2eb2e46a2e"
      },
      "source": [
        "%%time\n",
        "\n",
        "pyrf4 = PyReadFile(b\"input1.txt\")\n",
        "scan = py_read_file(b\"input1.txt\").split()\n",
        "\n",
        "execints = 2\n",
        "\n",
        "n = int(scan[0])\n",
        "execints+=1\n",
        "a = []\n",
        "execints+=1\n",
        "\n",
        "execints+=1\n",
        "for i in range(1, len(scan)):\n",
        "    execints += 2\n",
        "    a.append(int(scan[i]))\n",
        "    execints+=1\n",
        "\n",
        "res, execints, m = max_pairwise_product(n, a, execints)\n",
        "\n",
        "print(res)\n",
        "print(m)\n",
        "print(execints)"
      ],
      "execution_count": null,
      "outputs": [
        {
          "output_type": "stream",
          "text": [
            "90\n",
            "30\n",
            "278\n",
            "CPU times: user 1.47 ms, sys: 0 ns, total: 1.47 ms\n",
            "Wall time: 8.25 ms\n"
          ],
          "name": "stdout"
        }
      ]
    },
    {
      "cell_type": "markdown",
      "metadata": {
        "id": "Hu3K8Wd7CymD"
      },
      "source": [
        "input 1:\n",
        "\n",
        "$T= 8 + 6(10) + 2(9)(10) + 30 = 278$"
      ]
    },
    {
      "cell_type": "code",
      "metadata": {
        "colab": {
          "base_uri": "https://localhost:8080/"
        },
        "id": "cOHaBEr3DtOK",
        "outputId": "1a4966ef-2442-4bb8-dd35-e95880b02599"
      },
      "source": [
        "%%time\n",
        "\n",
        "pyrf5 = PyReadFile(b\"input2.txt\")\n",
        "scan = py_read_file(b\"input2.txt\").split()\n",
        "\n",
        "execints = 2\n",
        "\n",
        "n = int(scan[0])\n",
        "execints+=1\n",
        "a = []\n",
        "execints+=1\n",
        "\n",
        "execints+=1\n",
        "for i in range(1, len(scan)):\n",
        "    execints += 2\n",
        "    a.append(int(scan[i]))\n",
        "    execints+=1\n",
        "\n",
        "res, execints, m = max_pairwise_product(n, a, execints)\n",
        "\n",
        "print(res)\n",
        "print(m)\n",
        "print(execints)"
      ],
      "execution_count": null,
      "outputs": [
        {
          "output_type": "stream",
          "text": [
            "40000000000\n",
            "5\n",
            "109\n",
            "CPU times: user 373 µs, sys: 0 ns, total: 373 µs\n",
            "Wall time: 325 µs\n"
          ],
          "name": "stdout"
        }
      ]
    },
    {
      "cell_type": "markdown",
      "metadata": {
        "id": "GKNN-8fLDl6k"
      },
      "source": [
        "input 2:"
      ]
    },
    {
      "cell_type": "markdown",
      "metadata": {
        "id": "FY5xfBWADosE"
      },
      "source": [
        "$T=8+6(6)+2(5)(6)+5=109$"
      ]
    },
    {
      "cell_type": "code",
      "metadata": {
        "colab": {
          "base_uri": "https://localhost:8080/"
        },
        "id": "y3owgxfSFEYO",
        "outputId": "d1e341f0-528e-445f-d450-cadcb851d8e8"
      },
      "source": [
        "%%time\n",
        "\n",
        "pyrf6 = PyReadFile(b\"input3.txt\")\n",
        "scan = py_read_file(b\"input3.txt\").split()\n",
        "\n",
        "execints = 2\n",
        "\n",
        "n = int(scan[0])\n",
        "execints+=1\n",
        "a = []\n",
        "execints+=1\n",
        "\n",
        "execints+=1\n",
        "for i in range(1, len(scan)):\n",
        "    execints += 2\n",
        "    a.append(int(scan[i]))\n",
        "    execints+=1\n",
        "\n",
        "res, execints, m = max_pairwise_product(n, a, execints)\n",
        "\n",
        "print(res)\n",
        "print(m)\n",
        "print(execints)"
      ],
      "execution_count": null,
      "outputs": [
        {
          "output_type": "stream",
          "text": [
            "39999800000\n",
            "2672068\n",
            "80003472076\n",
            "CPU times: user 1h 48min 44s, sys: 7.39 s, total: 1h 48min 52s\n",
            "Wall time: 1h 48min 51s\n"
          ],
          "name": "stdout"
        }
      ]
    },
    {
      "cell_type": "markdown",
      "metadata": {
        "id": "PIa5smPkFOV5"
      },
      "source": [
        "input 3:\n",
        "\n",
        "$T=8+6(200000)+2(199999)(200000)+2672068=80003472076$"
      ]
    },
    {
      "cell_type": "markdown",
      "metadata": {
        "id": "bkcj8kbuAffF"
      },
      "source": [
        "Calculate estimated time by instruction and number of instructions by second"
      ]
    },
    {
      "cell_type": "code",
      "metadata": {
        "colab": {
          "base_uri": "https://localhost:8080/"
        },
        "id": "2hNevD4HPqTx",
        "outputId": "fc3b163e-4aa9-44e2-fed2-bdaa960aeb1d"
      },
      "source": [
        "#Estimated time by instruction\n",
        "2499/80003472076"
      ],
      "execution_count": null,
      "outputs": [
        {
          "output_type": "execute_result",
          "data": {
            "text/plain": [
              "3.12361443216621e-08"
            ]
          },
          "metadata": {
            "tags": []
          },
          "execution_count": 1
        }
      ]
    },
    {
      "cell_type": "code",
      "metadata": {
        "colab": {
          "base_uri": "https://localhost:8080/"
        },
        "id": "SGHJC_XrPqrU",
        "outputId": "28ab4eb0-984b-42f7-a84b-40b32655c611"
      },
      "source": [
        "# Estimated number of instructions by second\n",
        "1/(2499/80003472076)"
      ],
      "execution_count": null,
      "outputs": [
        {
          "output_type": "execute_result",
          "data": {
            "text/plain": [
              "32014194.508203283"
            ]
          },
          "metadata": {
            "tags": []
          },
          "execution_count": 2
        }
      ]
    },
    {
      "cell_type": "markdown",
      "metadata": {
        "id": "Zs4CBUVAT2hD"
      },
      "source": [
        "### Efficient solution"
      ]
    },
    {
      "cell_type": "code",
      "metadata": {
        "id": "jJIyiP2gT1pd"
      },
      "source": [
        "def max_pairwise_product_fast(n, numbers):\n",
        "    max_index1 = -1                                                             #1\n",
        "    for i in range(n):                                                          #1 + 2n\n",
        "        if max_index1 == -1 or numbers[i] > numbers[max_index1]:                #n\n",
        "            max_index1 = i                                                      #[1, n]\n",
        "\n",
        "    max_index2 = -1                                                                     #1\n",
        "    for i in range(n):                                                                  #1 + 2n\n",
        "        if i != max_index1 and (max_index2 == -1 or numbers[i] > numbers[max_index2]):        #n\n",
        "            max_index2 = i                                                                    #[1, n]\n",
        "\n",
        "    return numbers[max_index1] * numbers[max_index2]                                  #----------------\n",
        "                                                                                      #4 + 6n + [2, 2n]"
      ],
      "execution_count": null,
      "outputs": []
    },
    {
      "cell_type": "markdown",
      "metadata": {
        "id": "VYqGV3-lfjEI"
      },
      "source": [
        "Tests with inputs 1 and 2"
      ]
    },
    {
      "cell_type": "code",
      "metadata": {
        "colab": {
          "base_uri": "https://localhost:8080/"
        },
        "id": "63AXDH0wVU45",
        "outputId": "2c922347-baab-4d36-e049-96ffd42df9a4"
      },
      "source": [
        "pyrf7 = PyReadFile(b\"input1.txt\")                                               #1\n",
        "scan = py_read_file(b\"input1.txt\").split()                                      #1\n",
        "\n",
        "n = int(scan[0])                                                                #1\n",
        "a = []                                                                          \n",
        "\n",
        "for i in range(1, len(scan)):                                                   #1 + 2n\n",
        "    a.append(int(scan[i]))                                                      #n\n",
        "\n",
        "print(max_pairwise_product_fast(n, a))                                          #5 + 6n + [2, 2n]\n",
        "\n",
        "                                                                                #------------------\n",
        "                                                                                #9 + 9n + [2, 2n]"
      ],
      "execution_count": null,
      "outputs": [
        {
          "output_type": "stream",
          "text": [
            "90\n"
          ],
          "name": "stdout"
        }
      ]
    },
    {
      "cell_type": "code",
      "metadata": {
        "colab": {
          "base_uri": "https://localhost:8080/"
        },
        "id": "0wu0T-INVhcS",
        "outputId": "27df8599-db55-4f36-ee67-878785a20600"
      },
      "source": [
        "pyrf8 = PyReadFile(b\"input2.txt\")                                               \n",
        "scan = py_read_file(b\"input2.txt\").split()                                     \n",
        "\n",
        "n = int(scan[0])                                                               \n",
        "a = []                                                                         \n",
        "\n",
        "for i in range(1, len(scan)):                                                   \n",
        "    a.append(int(scan[i]))                                                      \n",
        "\n",
        "print(max_pairwise_product_fast(n, a))"
      ],
      "execution_count": null,
      "outputs": [
        {
          "output_type": "stream",
          "text": [
            "40000000000\n"
          ],
          "name": "stdout"
        }
      ]
    },
    {
      "cell_type": "markdown",
      "metadata": {
        "id": "IkJGmy25fmns"
      },
      "source": [
        "Test and time with input 3"
      ]
    },
    {
      "cell_type": "code",
      "metadata": {
        "colab": {
          "base_uri": "https://localhost:8080/"
        },
        "id": "0NnzwlqJVlkR",
        "outputId": "22c70278-b414-460c-991d-7da482e54772"
      },
      "source": [
        "%%time\n",
        "\n",
        "pyrf9 = PyReadFile(b\"input3.txt\")                                               \n",
        "scan = py_read_file(b\"input3.txt\").split()                                     \n",
        "\n",
        "n = int(scan[0])                                                               \n",
        "a = []                                                                         \n",
        "\n",
        "for i in range(1, len(scan)):                                                   \n",
        "    a.append(int(scan[i]))                                                      \n",
        "\n",
        "print(max_pairwise_product_fast(n, a))"
      ],
      "execution_count": null,
      "outputs": [
        {
          "output_type": "stream",
          "text": [
            "39999800000\n",
            "CPU times: user 148 ms, sys: 13.8 ms, total: 161 ms\n",
            "Wall time: 166 ms\n"
          ],
          "name": "stdout"
        }
      ]
    },
    {
      "cell_type": "markdown",
      "metadata": {
        "id": "ve1vsUO-fsJp"
      },
      "source": [
        "20 Stress tests"
      ]
    },
    {
      "cell_type": "code",
      "metadata": {
        "colab": {
          "base_uri": "https://localhost:8080/"
        },
        "id": "d9e8oS67ftBM",
        "outputId": "8f99a999-f7c9-4d4b-aeac-eac13a9c92dc"
      },
      "source": [
        "from random import randint\n",
        "\n",
        "def max_pairwise_product(n, a):\n",
        "\n",
        "    result = 0\n",
        "\n",
        "    for i in range(0, n):\n",
        "        for j in range(i + 1, n):\n",
        "            if a[i] * a[j] > result:\n",
        "                result = a[i] * a[j]\n",
        "    return result\n",
        "\n",
        "def max_pairwise_product_fast(n, numbers):\n",
        "    max_index1 = -1                                                             \n",
        "    for i in range(n):                                                          \n",
        "        if max_index1 == -1 or numbers[i] > numbers[max_index1]:                \n",
        "            max_index1 = i                                                      \n",
        "\n",
        "    max_index2 = -1                                                                     \n",
        "    for i in range(n):                                                                  \n",
        "        if i != max_index1 and (max_index2 == -1 or numbers[i] > numbers[max_index2]):        \n",
        "            max_index2 = i                                                                    \n",
        "\n",
        "    return numbers[max_index1] * numbers[max_index2]      \n",
        "\n",
        "if __name__ == '__main__':\n",
        "\n",
        "    for i in range(20):\n",
        "      \n",
        "      n = randint(2, 10)\n",
        "\n",
        "      print(n)\n",
        "\n",
        "      a = []\n",
        "      max1 = -1\n",
        "      max2 = -1\n",
        "\n",
        "      for j in range(n):\n",
        "\n",
        "          actual_num = randint(1, 200000)\n",
        "          print(actual_num, end=\" \")\n",
        "\n",
        "          a.append(actual_num)\n",
        "\n",
        "          if max1 == -1:\n",
        "              max1 = actual_num\n",
        "          \n",
        "          elif actual_num > max1:\n",
        "              aux = max1\n",
        "              max1 = actual_num\n",
        "              max2 = aux\n",
        "          \n",
        "          elif (max2 == -1) or (actual_num > max2):\n",
        "              max2 = actual_num\n",
        "\n",
        "      res1 = max_pairwise_product(n, a)\n",
        "      res2 = max_pairwise_product_fast(n, a)\n",
        "\n",
        "      print()\n",
        "\n",
        "      if res1 != res2:\n",
        "          print(\"Wrong answer:\", res1, res2, \"\\n\")\n",
        "          break\n",
        "\n",
        "      else:\n",
        "          print(\"OK \\n\")"
      ],
      "execution_count": null,
      "outputs": [
        {
          "output_type": "stream",
          "text": [
            "7\n",
            "144796 96155 18677 44214 36841 177762 60170 \n",
            "OK \n",
            "\n",
            "3\n",
            "24827 110536 174463 \n",
            "OK \n",
            "\n",
            "5\n",
            "160253 62852 12672 153027 74783 \n",
            "OK \n",
            "\n",
            "3\n",
            "123366 148590 155478 \n",
            "OK \n",
            "\n",
            "6\n",
            "40310 8775 56996 119693 181889 109002 \n",
            "OK \n",
            "\n",
            "2\n",
            "24165 77155 \n",
            "OK \n",
            "\n",
            "4\n",
            "161835 199037 12190 47087 \n",
            "OK \n",
            "\n",
            "4\n",
            "164490 184654 131036 43775 \n",
            "OK \n",
            "\n",
            "8\n",
            "15081 119869 54282 125422 73294 102684 137327 113808 \n",
            "OK \n",
            "\n",
            "2\n",
            "19613 19858 \n",
            "OK \n",
            "\n",
            "6\n",
            "186475 80387 157069 25891 179484 83755 \n",
            "OK \n",
            "\n",
            "10\n",
            "142733 142604 114794 3937 85080 70542 21952 161098 12914 156967 \n",
            "OK \n",
            "\n",
            "10\n",
            "109006 38196 157158 132376 90861 130487 33162 106698 40931 177021 \n",
            "OK \n",
            "\n",
            "8\n",
            "195603 170374 75872 73214 122912 116807 93183 30695 \n",
            "OK \n",
            "\n",
            "4\n",
            "119017 106169 4464 29916 \n",
            "OK \n",
            "\n",
            "6\n",
            "194086 69706 179965 165974 173597 22244 \n",
            "OK \n",
            "\n",
            "5\n",
            "168296 35359 98945 41252 10087 \n",
            "OK \n",
            "\n",
            "7\n",
            "187619 95736 135798 168281 165435 117251 113103 \n",
            "OK \n",
            "\n",
            "3\n",
            "145860 171871 57644 \n",
            "OK \n",
            "\n",
            "10\n",
            "5956 108860 126322 158799 4289 59395 163744 160834 155397 63903 \n",
            "OK \n",
            "\n"
          ],
          "name": "stdout"
        }
      ]
    },
    {
      "cell_type": "markdown",
      "metadata": {
        "id": "DEPupFdcVLDe"
      },
      "source": [
        "Count executed intructions in code and verify with inputs 1, 2 and 3"
      ]
    },
    {
      "cell_type": "code",
      "metadata": {
        "id": "dYmrunpbVxcU"
      },
      "source": [
        "def max_pairwise_product_fast(n, numbers, execints):\n",
        "\n",
        "    m = 0\n",
        "\n",
        "    max_index1 = -1                                                             #1\n",
        "    execints += 1\n",
        "\n",
        "    execints += 1\n",
        "    for i in range(n):                                                          #1 + 2n\n",
        "        execints += 2\n",
        "\n",
        "        execints += 1\n",
        "        if max_index1 == -1 or numbers[i] > numbers[max_index1]:                #n\n",
        "            max_index1 = i                                                      #[1, n]\n",
        "            execints += 1\n",
        "            m += 1\n",
        "\n",
        "    max_index2 = -1                                                             #1\n",
        "    execints += 1\n",
        "\n",
        "    execints += 1\n",
        "    for i in range(n):                                                          #1 + 2n\n",
        "        execints += 2\n",
        "\n",
        "        execints += 1\n",
        "        if i != max_index1 and (max_index2 == -1 or numbers[i] > numbers[max_index2]):              #n\n",
        "            max_index2 = i                                                                          #[1, n]\n",
        "            execints += 1\n",
        "            m += 1\n",
        "\n",
        "    return numbers[max_index1] * numbers[max_index2], execints, m                               #-------------------\n",
        "                                                                                                #4 + 6n + [2, 2n]"
      ],
      "execution_count": null,
      "outputs": []
    },
    {
      "cell_type": "markdown",
      "metadata": {
        "id": "ozW7e1l4grkU"
      },
      "source": [
        "$T=10 + 9n + [2, 2n]$"
      ]
    },
    {
      "cell_type": "code",
      "metadata": {
        "colab": {
          "base_uri": "https://localhost:8080/"
        },
        "id": "Ga4UPVrqWyrQ",
        "outputId": "8bc16835-66ec-4ad9-9c35-920cb50976e2"
      },
      "source": [
        "%%time\n",
        "\n",
        "pyrf10 = PyReadFile(b\"input1.txt\")\n",
        "scan = py_read_file(b\"input1.txt\").split()\n",
        "\n",
        "execints = 2\n",
        "\n",
        "n = int(scan[0])\n",
        "execints+=1\n",
        "a = []\n",
        "execints+=1\n",
        "\n",
        "execints+=1\n",
        "for i in range(1, len(scan)):\n",
        "    execints += 2\n",
        "    a.append(int(scan[i]))\n",
        "    execints+=1\n",
        "\n",
        "res, execints, m = max_pairwise_product_fast(n, a, execints)\n",
        "\n",
        "print(res)\n",
        "print(m)\n",
        "print(execints)"
      ],
      "execution_count": null,
      "outputs": [
        {
          "output_type": "stream",
          "text": [
            "90\n",
            "19\n",
            "118\n",
            "CPU times: user 5.02 ms, sys: 1 ms, total: 6.02 ms\n",
            "Wall time: 6.27 ms\n"
          ],
          "name": "stdout"
        }
      ]
    },
    {
      "cell_type": "markdown",
      "metadata": {
        "id": "8SQb_iMeXBxv"
      },
      "source": [
        "input 1:\n",
        "\n",
        "$T=9+9(10)+19 = 118$"
      ]
    },
    {
      "cell_type": "code",
      "metadata": {
        "colab": {
          "base_uri": "https://localhost:8080/"
        },
        "id": "RdLkKHmCXDhJ",
        "outputId": "8674b5f4-f3df-46cb-ff68-dc1f637c20e5"
      },
      "source": [
        "%%time\n",
        "\n",
        "pyrf11 = PyReadFile(b\"input2.txt\")\n",
        "scan = py_read_file(b\"input2.txt\").split()\n",
        "\n",
        "execints = 2\n",
        "\n",
        "n = int(scan[0])\n",
        "execints+=1\n",
        "a = []\n",
        "execints+=1\n",
        "\n",
        "execints+=1\n",
        "for i in range(1, len(scan)):\n",
        "    execints += 2\n",
        "    a.append(int(scan[i]))\n",
        "    execints+=1\n",
        "\n",
        "res, execints, m = max_pairwise_product_fast(n, a, execints)\n",
        "\n",
        "print(res)\n",
        "print(m)\n",
        "print(execints)"
      ],
      "execution_count": null,
      "outputs": [
        {
          "output_type": "stream",
          "text": [
            "40000000000\n",
            "7\n",
            "70\n",
            "CPU times: user 0 ns, sys: 635 µs, total: 635 µs\n",
            "Wall time: 3.02 ms\n"
          ],
          "name": "stdout"
        }
      ]
    },
    {
      "cell_type": "markdown",
      "metadata": {
        "id": "dhorqDh4XHQk"
      },
      "source": [
        "input 2:\n",
        "\n",
        "$T=9+9(6)+7 = 70$"
      ]
    },
    {
      "cell_type": "code",
      "metadata": {
        "colab": {
          "base_uri": "https://localhost:8080/"
        },
        "id": "a9bp0at1XLbN",
        "outputId": "363763e7-a03c-4882-888a-86acdf012dcb"
      },
      "source": [
        "%%time\n",
        "\n",
        "pyrf12 = PyReadFile(b\"input3.txt\")\n",
        "scan = py_read_file(b\"input3.txt\").split()\n",
        "\n",
        "execints = 2\n",
        "\n",
        "n = int(scan[0])\n",
        "execints+=1\n",
        "a = []\n",
        "execints+=1\n",
        "\n",
        "execints+=1\n",
        "for i in range(1, len(scan)):\n",
        "    execints += 2\n",
        "    a.append(int(scan[i]))\n",
        "    execints+=1\n",
        "\n",
        "res, execints, m = max_pairwise_product_fast(n, a, execints)\n",
        "\n",
        "print(res)\n",
        "print(m)\n",
        "print(execints)"
      ],
      "execution_count": null,
      "outputs": [
        {
          "output_type": "stream",
          "text": [
            "39999800000\n",
            "399999\n",
            "2200008\n",
            "CPU times: user 238 ms, sys: 11 ms, total: 249 ms\n",
            "Wall time: 250 ms\n"
          ],
          "name": "stdout"
        }
      ]
    },
    {
      "cell_type": "markdown",
      "metadata": {
        "id": "ZRROkvhNXOxn"
      },
      "source": [
        "input 3:\n",
        "\n",
        "$T=9+9(200000)+399999 = 2200008$"
      ]
    },
    {
      "cell_type": "markdown",
      "metadata": {
        "id": "lBVB-NEtXXiw"
      },
      "source": [
        "Calculate estimated time by instruction and number of instructions by second"
      ]
    },
    {
      "cell_type": "code",
      "metadata": {
        "colab": {
          "base_uri": "https://localhost:8080/"
        },
        "id": "RM1w6hYBXbEh",
        "outputId": "f55ac16e-ade3-48eb-ab8b-2161a040f88d"
      },
      "source": [
        "#Estimated time by instruction\n",
        "0.148/2200008"
      ],
      "execution_count": null,
      "outputs": [
        {
          "output_type": "execute_result",
          "data": {
            "text/plain": [
              "6.727248264551765e-08"
            ]
          },
          "metadata": {
            "tags": []
          },
          "execution_count": 6
        }
      ]
    },
    {
      "cell_type": "code",
      "metadata": {
        "colab": {
          "base_uri": "https://localhost:8080/"
        },
        "id": "Mdwv49TiXblz",
        "outputId": "7a3cec73-64ef-4f3a-e960-5c769f681237"
      },
      "source": [
        "# Estimated number of instructions by second\n",
        "1/(0.148/2200008)"
      ],
      "execution_count": null,
      "outputs": [
        {
          "output_type": "execute_result",
          "data": {
            "text/plain": [
              "14864918.918918919"
            ]
          },
          "metadata": {
            "tags": []
          },
          "execution_count": 7
        }
      ]
    },
    {
      "cell_type": "markdown",
      "metadata": {
        "id": "2kDyP2BXh-da"
      },
      "source": [
        "###Super efficient solution"
      ]
    },
    {
      "cell_type": "markdown",
      "metadata": {
        "id": "aMDmi_cVRAKj"
      },
      "source": [
        "Test with inputs 1 and 2"
      ]
    },
    {
      "cell_type": "code",
      "metadata": {
        "colab": {
          "base_uri": "https://localhost:8080/"
        },
        "id": "7diREV83iCuy",
        "outputId": "0e000ac6-b631-4a79-c259-6c7e788d0b26"
      },
      "source": [
        "if __name__ == '__main__':\n",
        "\n",
        "    pyrf13 = PyReadFile(b\"input1.txt\")                                          #1\n",
        "    scan = py_read_file(b\"input1.txt\").split()                                  #1\n",
        "\n",
        "    n = scan[0]                                                                 #1\n",
        "    a = map(int, scan[1:])                                                      #1\n",
        "\n",
        "    max1 = -1                                                                   #1\n",
        "    max2 = -1                                                                   #1\n",
        "\n",
        "    for actual_num in a:                                                        #1 + 2n\n",
        "        if max1 == -1:                                                          #n\n",
        "            max1 = actual_num                                                   #[0, n]\n",
        "        \n",
        "        elif actual_num > max1:                                                 #[0, n]\n",
        "            aux = max1                                                          #[0, n]\n",
        "            max1 = actual_num                                                   #[0, n]\n",
        "            max2 = aux                                                          #[0, n]\n",
        "        \n",
        "        elif (actual_num == -1) or (actual_num > max2):                         #[0, n]\n",
        "            max2 = actual_num                                                   #[0, n]\n",
        "\n",
        "    print(max1*max2)"
      ],
      "execution_count": null,
      "outputs": [
        {
          "output_type": "stream",
          "text": [
            "90\n"
          ],
          "name": "stdout"
        }
      ]
    },
    {
      "cell_type": "code",
      "metadata": {
        "colab": {
          "base_uri": "https://localhost:8080/"
        },
        "id": "KLXw5v2_jlqE",
        "outputId": "3b1a87f1-3383-40b0-c3a2-c06763bf72bf"
      },
      "source": [
        "if __name__ == '__main__':\n",
        "\n",
        "    pyrf14 = PyReadFile(b\"input2.txt\")                                          #1\n",
        "    scan = py_read_file(b\"input2.txt\").split()                                  #1\n",
        "\n",
        "    n = scan[0]                                                                 #1\n",
        "    a = map(int, scan[1:])                                                      #1\n",
        "\n",
        "    max1 = -1                                                                   #1\n",
        "    max2 = -1                                                                   #1\n",
        "\n",
        "    for actual_num in a:                                                        #1 + 2n\n",
        "        if max1 == -1:                                                          #n\n",
        "            max1 = actual_num                                                   #[0, n]\n",
        "        \n",
        "        elif actual_num > max1:                                                 #[0, n]\n",
        "            aux = max1                                                          #[0, n]\n",
        "            max1 = actual_num                                                   #[0, n]\n",
        "            max2 = aux                                                          #[0, n]\n",
        "        \n",
        "        elif (actual_num == -1) or (actual_num > max2):                         #[0, n]\n",
        "            max2 = actual_num                                                   #[0, n]\n",
        "\n",
        "    print(max1*max2)"
      ],
      "execution_count": null,
      "outputs": [
        {
          "output_type": "stream",
          "text": [
            "40000000000\n"
          ],
          "name": "stdout"
        }
      ]
    },
    {
      "cell_type": "markdown",
      "metadata": {
        "id": "1GgzC0uARDDQ"
      },
      "source": [
        "Test and time with input 3:"
      ]
    },
    {
      "cell_type": "code",
      "metadata": {
        "colab": {
          "base_uri": "https://localhost:8080/"
        },
        "id": "pReDip-cn6ET",
        "outputId": "acf3c203-0303-4cdb-9828-8b1805338f88"
      },
      "source": [
        "%%time\n",
        "\n",
        "if __name__ == '__main__':\n",
        "\n",
        "    pyrf15 = PyReadFile(b\"input3.txt\")                                          #1\n",
        "    scan = py_read_file(b\"input3.txt\").split()                                  #1\n",
        "\n",
        "    n = scan[0]                                                                 #1\n",
        "    a = map(int, scan[1:])                                                      #1\n",
        "\n",
        "    max1 = -1                                                                   #1\n",
        "    max2 = -1                                                                   #1\n",
        "\n",
        "    for actual_num in a:                                                        #1 + 2n\n",
        "        if max1 == -1:                                                          #n\n",
        "            max1 = actual_num                                                   #[0, n]\n",
        "        \n",
        "        elif actual_num > max1:                                                 #[0, n]\n",
        "            aux = max1                                                          #[0, n]\n",
        "            max1 = actual_num                                                   #[0, n]\n",
        "            max2 = aux                                                          #[0, n]\n",
        "        \n",
        "        elif (actual_num == -1) or (actual_num > max2):                         #[0, n]\n",
        "            max2 = actual_num                                                   #[0, n]\n",
        "\n",
        "    print(max1*max2)"
      ],
      "execution_count": null,
      "outputs": [
        {
          "output_type": "stream",
          "text": [
            "39999800000\n",
            "CPU times: user 97.5 ms, sys: 8.98 ms, total: 106 ms\n",
            "Wall time: 108 ms\n"
          ],
          "name": "stdout"
        }
      ]
    },
    {
      "cell_type": "markdown",
      "metadata": {
        "id": "xb1qH92Fn9Zf"
      },
      "source": [
        "20 stress tests"
      ]
    },
    {
      "cell_type": "code",
      "metadata": {
        "colab": {
          "base_uri": "https://localhost:8080/"
        },
        "id": "RduBeeuvn__q",
        "outputId": "ef3a5002-d83b-46df-f644-1dc236a7a97e"
      },
      "source": [
        "from random import randint\n",
        "\n",
        "def max_pairwise_product_fast(n, numbers):\n",
        "    max_index1 = -1                                                             \n",
        "    for i in range(n):                                                          \n",
        "        if max_index1 == -1 or numbers[i] > numbers[max_index1]:                \n",
        "            max_index1 = i                                                      \n",
        "\n",
        "    max_index2 = -1                                                                     \n",
        "    for i in range(n):                                                                  \n",
        "        if i != max_index1 and (max_index2 == -1 or numbers[i] > numbers[max_index2]):        \n",
        "            max_index2 = i                                                                    \n",
        "\n",
        "    return numbers[max_index1] * numbers[max_index2]\n",
        "\n",
        "if __name__ == '__main__':\n",
        "\n",
        "    for i in range(20):\n",
        "      \n",
        "      n = randint(2, 10)\n",
        "\n",
        "      print(n)\n",
        "\n",
        "      a = []\n",
        "      max1 = -1\n",
        "      max2 = -1\n",
        "\n",
        "      for j in range(n):\n",
        "\n",
        "          actual_num = randint(1, 200000)\n",
        "          print(actual_num, end=\" \")\n",
        "\n",
        "          a.append(actual_num)\n",
        "\n",
        "          if max1 == -1:\n",
        "              max1 = actual_num\n",
        "          \n",
        "          elif actual_num > max1:\n",
        "              aux = max1\n",
        "              max1 = actual_num\n",
        "              max2 = aux\n",
        "          \n",
        "          elif (actual_num == -1) or (actual_num > max2):\n",
        "              max2 = actual_num\n",
        "\n",
        "      res1 = max_pairwise_product_fast(n, a)\n",
        "      res2 = max1*max2\n",
        "\n",
        "      print()\n",
        "\n",
        "      if res1 != res2:\n",
        "          print(\"Wrong answer:\", res1, res2, \"\\n\")\n",
        "          break\n",
        "\n",
        "      else:\n",
        "          print(\"OK \\n\")"
      ],
      "execution_count": null,
      "outputs": [
        {
          "output_type": "stream",
          "text": [
            "7\n",
            "36902 6356 49977 100691 87357 68282 53781 \n",
            "OK \n",
            "\n",
            "2\n",
            "61069 84586 \n",
            "OK \n",
            "\n",
            "4\n",
            "102051 187372 147896 128924 \n",
            "OK \n",
            "\n",
            "9\n",
            "110477 154297 191611 78622 139373 139539 73551 26750 186872 \n",
            "OK \n",
            "\n",
            "6\n",
            "11050 195623 70882 164154 113304 191791 \n",
            "OK \n",
            "\n",
            "2\n",
            "179270 130193 \n",
            "OK \n",
            "\n",
            "7\n",
            "168224 104070 69025 88994 534 39138 186927 \n",
            "OK \n",
            "\n",
            "3\n",
            "9415 59114 131950 \n",
            "OK \n",
            "\n",
            "7\n",
            "24738 155354 99521 9663 67856 104050 180975 \n",
            "OK \n",
            "\n",
            "7\n",
            "94916 143574 191155 42241 170164 84955 136399 \n",
            "OK \n",
            "\n",
            "10\n",
            "143423 182370 46589 118753 59513 71687 64662 172861 109730 23268 \n",
            "OK \n",
            "\n",
            "2\n",
            "10731 178143 \n",
            "OK \n",
            "\n",
            "2\n",
            "16548 125338 \n",
            "OK \n",
            "\n",
            "9\n",
            "181507 4503 45020 148853 74294 14796 167831 73540 24167 \n",
            "OK \n",
            "\n",
            "8\n",
            "56328 189002 159261 162120 132619 124413 174405 46088 \n",
            "OK \n",
            "\n",
            "10\n",
            "140911 165779 166574 26885 179040 38327 190966 34845 60831 58931 \n",
            "OK \n",
            "\n",
            "5\n",
            "167772 55972 175176 74758 105411 \n",
            "OK \n",
            "\n",
            "6\n",
            "78281 182920 111234 31055 48911 105483 \n",
            "OK \n",
            "\n",
            "5\n",
            "21183 22938 89265 50033 191296 \n",
            "OK \n",
            "\n",
            "3\n",
            "22370 158578 44968 \n",
            "OK \n",
            "\n"
          ],
          "name": "stdout"
        }
      ]
    },
    {
      "cell_type": "markdown",
      "metadata": {
        "id": "4Si3TZAFoViV"
      },
      "source": [
        "Count executed intructions in code and verify with inputs 1, 2 and 3"
      ]
    },
    {
      "cell_type": "markdown",
      "metadata": {
        "id": "7dO5O7gVtgfW"
      },
      "source": [
        "$T=7 + 3n + [0, 7n]$"
      ]
    },
    {
      "cell_type": "code",
      "metadata": {
        "colab": {
          "base_uri": "https://localhost:8080/"
        },
        "id": "BZhOpk_WslNs",
        "outputId": "ddecb260-6303-4bd7-d5d5-b592da3abbd1"
      },
      "source": [
        "%%time\n",
        "\n",
        "if __name__ == '__main__':\n",
        "\n",
        "    pyrf16 = PyReadFile(b\"input1.txt\")                                          #1\n",
        "    scan = py_read_file(b\"input1.txt\").split()                                  #1\n",
        "\n",
        "    execints = 2\n",
        "    m = 0\n",
        "\n",
        "    n = scan[0]                                                                 #1\n",
        "    execints+=1\n",
        "    a = map(int, scan[1:])                                                      #1\n",
        "    execints+=1\n",
        "\n",
        "    max1 = -1                                                                   #1\n",
        "    execints+=1\n",
        "    max2 = -1                                                                   #1\n",
        "    execints+=1\n",
        "\n",
        "\n",
        "    execints+=1\n",
        "    for actual_num in a:                                                        #1 + 2n\n",
        "        execints+=2\n",
        "\n",
        "        execints+=1\n",
        "        if max1 == -1:                                                          #n\n",
        "            max1 = actual_num                                                   #[0, n]\n",
        "            execints+=1\n",
        "            m+=1\n",
        "        \n",
        "        elif actual_num > max1:                                                 #[0, n]\n",
        "            aux = max1                                                          #[0, n]\n",
        "            max1 = actual_num                                                   #[0, n]\n",
        "            max2 = aux                                                          #[0, n]\n",
        "            execints+=3\n",
        "            m+=3\n",
        "        \n",
        "        elif (actual_num == -1) or (actual_num > max2):                         #[0, n]\n",
        "            max2 = actual_num                                                   #[0, n]\n",
        "            execints+=1\n",
        "            m+=1\n",
        "\n",
        "    print(max1*max2)                                                            #----------------\n",
        "    print(m)                                                                    #7 + 3n + [0, 7n]\n",
        "    print(execints)"
      ],
      "execution_count": null,
      "outputs": [
        {
          "output_type": "stream",
          "text": [
            "90\n",
            "28\n",
            "65\n",
            "CPU times: user 964 µs, sys: 2.21 ms, total: 3.17 ms\n",
            "Wall time: 3.62 ms\n"
          ],
          "name": "stdout"
        }
      ]
    },
    {
      "cell_type": "markdown",
      "metadata": {
        "id": "EwkeT94ltc8t"
      },
      "source": [
        "input 1:\n",
        "\n",
        "$T=7 + 3(10) + 28 = 65$"
      ]
    },
    {
      "cell_type": "code",
      "metadata": {
        "colab": {
          "base_uri": "https://localhost:8080/"
        },
        "id": "mPO6oFftshEK",
        "outputId": "8e9f474e-64c5-4376-839c-ce91f235ae13"
      },
      "source": [
        "%%time\n",
        "\n",
        "if __name__ == '__main__':\n",
        "\n",
        "    pyrf17 = PyReadFile(b\"input2.txt\")                                          #1\n",
        "    scan = py_read_file(b\"input2.txt\").split()                                  #1\n",
        "\n",
        "    execints = 2\n",
        "\n",
        "    m = 0\n",
        "\n",
        "    n = scan[0]                                                                 #1\n",
        "    execints+=1\n",
        "    a = map(int, scan[1:])                                                      #1\n",
        "    execints+=1\n",
        "\n",
        "    max1 = -1                                                                   #1\n",
        "    execints+=1\n",
        "    max2 = -1                                                                   #1\n",
        "    execints+=1\n",
        "\n",
        "\n",
        "    execints+=1\n",
        "    for actual_num in a:                                                        #1 + 2n\n",
        "        execints+=2\n",
        "\n",
        "        execints+=1\n",
        "        if max1 == -1:                                                          #n\n",
        "            max1 = actual_num                                                   #[0, n]\n",
        "            execints+=1\n",
        "            m+=1\n",
        "        \n",
        "        elif actual_num > max1:                                                 #[0, n]\n",
        "            aux = max1                                                          #[0, n]\n",
        "            max1 = actual_num                                                   #[0, n]\n",
        "            max2 = aux                                                          #[0, n]\n",
        "            execints+=3\n",
        "            m+=3\n",
        "        \n",
        "        elif (actual_num == -1) or (actual_num > max2):                         #[0, n]\n",
        "            max2 = actual_num                                                   #[0, n]\n",
        "            execints+=1\n",
        "            m+=1\n",
        "\n",
        "    print(max1*max2)                                                            #----------------\n",
        "    print(m)                                                                    #7 + 3n + [0, 7n]\n",
        "    print(execints)"
      ],
      "execution_count": null,
      "outputs": [
        {
          "output_type": "stream",
          "text": [
            "40000000000\n",
            "9\n",
            "34\n",
            "CPU times: user 487 µs, sys: 79 µs, total: 566 µs\n",
            "Wall time: 479 µs\n"
          ],
          "name": "stdout"
        }
      ]
    },
    {
      "cell_type": "markdown",
      "metadata": {
        "id": "M43VGDjNt0kB"
      },
      "source": [
        "input 2:\n",
        "\n",
        "$T=7 + 3(6) + 9 = 34$"
      ]
    },
    {
      "cell_type": "code",
      "metadata": {
        "colab": {
          "base_uri": "https://localhost:8080/"
        },
        "id": "_GSadfJ6octw",
        "outputId": "8948df41-8aba-4344-a6eb-5e3966819199"
      },
      "source": [
        "%%time\n",
        "\n",
        "if __name__ == '__main__':\n",
        "\n",
        "    pyrf18 = PyReadFile(b\"input3.txt\")                                          #1\n",
        "    scan = py_read_file(b\"input3.txt\").split()                                  #1\n",
        "\n",
        "    execints = 2\n",
        "\n",
        "    m = 0\n",
        "\n",
        "    n = scan[0]                                                                 #1\n",
        "    execints+=1\n",
        "    a = map(int, scan[1:])                                                      #1\n",
        "    execints+=1\n",
        "\n",
        "    max1 = -1                                                                   #1\n",
        "    execints+=1\n",
        "    max2 = -1                                                                   #1\n",
        "    execints+=1\n",
        "\n",
        "\n",
        "    execints+=1\n",
        "    for actual_num in a:                                                        #1 + 2n\n",
        "        execints+=2\n",
        "\n",
        "        execints+=1\n",
        "        if max1 == -1:                                                          #n\n",
        "            max1 = actual_num                                                   #[0, n]\n",
        "            execints+=1\n",
        "            m += 1\n",
        "        \n",
        "        elif actual_num > max1:                                                 #[0, n]\n",
        "            aux = max1                                                          #[0, n]\n",
        "            max1 = actual_num                                                   #[0, n]\n",
        "            max2 = aux                                                          #[0, n]\n",
        "            execints+=3\n",
        "            m += 3\n",
        "        \n",
        "        elif (actual_num == -1) or (actual_num > max2):                         #[0, n]\n",
        "            max2 = actual_num                                                   #[0, n]\n",
        "            execints+=1\n",
        "\n",
        "            m += 1\n",
        "\n",
        "    print(max1*max2)                                                            #----------------\n",
        "    print(m)                                                                    #7 + 3n + [0, 7n]\n",
        "    print(execints)"
      ],
      "execution_count": null,
      "outputs": [
        {
          "output_type": "stream",
          "text": [
            "39999800000\n",
            "599998\n",
            "1200005\n",
            "CPU times: user 146 ms, sys: 8.54 ms, total: 155 ms\n",
            "Wall time: 155 ms\n"
          ],
          "name": "stdout"
        }
      ]
    },
    {
      "cell_type": "markdown",
      "metadata": {
        "id": "zdOL6GPhvnvQ"
      },
      "source": [
        "input 3:\n",
        "\n",
        "$T=7+3(200000)+599998=1200005$"
      ]
    },
    {
      "cell_type": "markdown",
      "metadata": {
        "id": "5gda4x1Ov2uX"
      },
      "source": [
        "Calculate estimated time by instruction and number of instructions by second"
      ]
    },
    {
      "cell_type": "code",
      "metadata": {
        "colab": {
          "base_uri": "https://localhost:8080/"
        },
        "id": "cV2uWFJbv7VV",
        "outputId": "bd5ca0fc-ba3a-4282-cfc9-ff840a9f25d9"
      },
      "source": [
        "#Estimated time by instruction\n",
        "0.0975/1200005"
      ],
      "execution_count": null,
      "outputs": [
        {
          "output_type": "execute_result",
          "data": {
            "text/plain": [
              "8.124966145974392e-08"
            ]
          },
          "metadata": {
            "tags": []
          },
          "execution_count": 9
        }
      ]
    },
    {
      "cell_type": "code",
      "metadata": {
        "colab": {
          "base_uri": "https://localhost:8080/"
        },
        "id": "AFbKE1q_v736",
        "outputId": "167cf674-3625-4ec7-dc4b-8bbd04df2135"
      },
      "source": [
        "# Estimated number of instructions by second\n",
        "1/(0.0975/1200005)"
      ],
      "execution_count": null,
      "outputs": [
        {
          "output_type": "execute_result",
          "data": {
            "text/plain": [
              "12307743.58974359"
            ]
          },
          "metadata": {
            "tags": []
          },
          "execution_count": 10
        }
      ]
    },
    {
      "cell_type": "markdown",
      "metadata": {
        "id": "LkVxxlhl9H98"
      },
      "source": [
        "# Screenhsoots of the Coursera Submissions in C++ and Python"
      ]
    },
    {
      "cell_type": "markdown",
      "metadata": {
        "id": "TLm42bDLwOsC"
      },
      "source": [
        "Sum of Two Digits:\n",
        "\n",
        "![1.png](data:image/png;base64,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)"
      ]
    },
    {
      "cell_type": "markdown",
      "metadata": {
        "id": "eUahAVgowet-"
      },
      "source": [
        "Maximum Pairwise Product:\n",
        "\n",
        "![2.png](data:image/png;base64,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)"
      ]
    }
  ]
}